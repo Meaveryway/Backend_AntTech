{
  "nbformat": 4,
  "nbformat_minor": 0,
  "metadata": {
    "colab": {
      "name": "V.Det Plagiarism Detector",
      "provenance": [],
      "collapsed_sections": [
        "XiaUKAYK9XGF",
        "nB2a0hEWL5eJ",
        "nUXUTQtO9aVY",
        "RsJww5yn9oBu",
        "jj9ceqGwlUnj",
        "NaLZCGhEDd2Y",
        "q0F62iJc94oV",
        "WDnTooAoVjpl"
      ],
      "machine_shape": "hm",
      "include_colab_link": true
    },
    "kernelspec": {
      "display_name": "Python 3",
      "name": "python3"
    }
  },
  "cells": [
    {
      "cell_type": "markdown",
      "metadata": {
        "id": "view-in-github",
        "colab_type": "text"
      },
      "source": [
        "<a href=\"https://colab.research.google.com/github/Meaveryway/Backend_AntTech/blob/master/V_Det_Plagiarism_Detector.ipynb\" target=\"_parent\"><img src=\"https://colab.research.google.com/assets/colab-badge.svg\" alt=\"Open In Colab\"/></a>"
      ]
    },
    {
      "cell_type": "code",
      "metadata": {
        "colab": {
          "base_uri": "https://localhost:8080/"
        },
        "id": "yU468wx89Dsk",
        "outputId": "0d47a75e-25c9-4127-d436-a9195679876d"
      },
      "source": [
        "from dataclasses import dataclass, field #to reduce boilerplate code\n",
        "from typing import List, Tuple, Union\n",
        "from enum import Enum\n",
        "import numpy as np\n",
        "import pandas as pd\n",
        "import seaborn as sns\n",
        "import matplotlib\n",
        "from matplotlib import pyplot as plt\n",
        "from matplotlib.patches import Rectangle #To highlight on graphs\n",
        "import nltk\n",
        "from nltk.tokenize import sent_tokenize\n",
        "nltk.download('punkt')\n",
        "import torch\n",
        "import time\n",
        "from datetime import datetime\n",
        "import warnings\n",
        "warnings.filterwarnings('ignore')\n",
        "\n",
        "# GPU activate/check\n",
        "import torch\n",
        "torch_device = 'cuda' if torch.cuda.is_available() else 'cpu'\n",
        "torch_device\n",
        "\n",
        "# Dataframes en mode interactif\n",
        "%load_ext google.colab.data_table\n",
        "# %unload_ext google.colab.data_table\n",
        "\n",
        "# Profiling\n",
        "!pip install memory_profiler\n",
        "%load_ext memory_profiler\n",
        "\n",
        "!pip install icecream\n",
        "from icecream import ic\n",
        "\n",
        "!pip install langdetect\n",
        "from langdetect import detect"
      ],
      "execution_count": 93,
      "outputs": [
        {
          "output_type": "stream",
          "text": [
            "[nltk_data] Downloading package punkt to /root/nltk_data...\n",
            "[nltk_data]   Package punkt is already up-to-date!\n",
            "The google.colab.data_table extension is already loaded. To reload it, use:\n",
            "  %reload_ext google.colab.data_table\n",
            "Requirement already satisfied: memory_profiler in /usr/local/lib/python3.7/dist-packages (0.58.0)\n",
            "Requirement already satisfied: psutil in /usr/local/lib/python3.7/dist-packages (from memory_profiler) (5.4.8)\n",
            "The memory_profiler extension is already loaded. To reload it, use:\n",
            "  %reload_ext memory_profiler\n",
            "Requirement already satisfied: icecream in /usr/local/lib/python3.7/dist-packages (2.1.1)\n",
            "Requirement already satisfied: colorama>=0.3.9 in /usr/local/lib/python3.7/dist-packages (from icecream) (0.4.4)\n",
            "Requirement already satisfied: pygments>=2.2.0 in /usr/local/lib/python3.7/dist-packages (from icecream) (2.6.1)\n",
            "Requirement already satisfied: executing>=0.3.1 in /usr/local/lib/python3.7/dist-packages (from icecream) (0.6.0)\n",
            "Requirement already satisfied: asttokens>=2.0.1 in /usr/local/lib/python3.7/dist-packages (from icecream) (2.0.5)\n",
            "Requirement already satisfied: six in /usr/local/lib/python3.7/dist-packages (from asttokens>=2.0.1->icecream) (1.15.0)\n",
            "Requirement already satisfied: langdetect in /usr/local/lib/python3.7/dist-packages (1.0.9)\n",
            "Requirement already satisfied: six in /usr/local/lib/python3.7/dist-packages (from langdetect) (1.15.0)\n"
          ],
          "name": "stdout"
        }
      ]
    },
    {
      "cell_type": "code",
      "metadata": {
        "colab": {
          "base_uri": "https://localhost:8080/"
        },
        "id": "C52DhmtKGliV",
        "outputId": "0e4795ec-be1f-4117-e167-e4fc4a84be80"
      },
      "source": [
        "#Display local distro\n",
        "!head -n1 /etc/issue"
      ],
      "execution_count": null,
      "outputs": [
        {
          "output_type": "stream",
          "text": [
            "Ubuntu 18.04.5 LTS \\n \\l\n"
          ],
          "name": "stdout"
        }
      ]
    },
    {
      "cell_type": "markdown",
      "metadata": {
        "id": "C9LgfxmpSY-D"
      },
      "source": [
        "##Hyperparameters"
      ]
    },
    {
      "cell_type": "code",
      "metadata": {
        "id": "P0HLCVdiSYsF"
      },
      "source": [
        "NGRAM_SIZE_COMMON_SUBSTRING = 3\n",
        "STRIDE_COMMON_SUBSTRING = 1\n",
        "SMALL_NGRAM_THRESHOLD_COMMON_SUBSTRING = 5\n",
        "\n",
        "NGRAM_SIZE_SHINGLES = 15\n",
        "STRIDE_SHINGLES = 7\n",
        "SKIP_TOLERANCE = int(NGRAM_SIZE_SHINGLES/STRIDE_SHINGLES)\n",
        "THRESHOLD_JACCARD = 0.25\n",
        "THRESHOLD_FASTTEXT = 0.11"
      ],
      "execution_count": 2,
      "outputs": []
    },
    {
      "cell_type": "code",
      "metadata": {
        "id": "SToBUSE2m2iY"
      },
      "source": [
        "#Sample typical docstring & typing\n",
        "def toColumnNamesFixedLen(\n",
        "    oX: pd.DataFrame,\n",
        "    column_length: int = 3,\n",
        "    column_separator: str = \"_\",\n",
        "    inplace: bool = True,\n",
        "    verbose: bool = True,\n",
        ") -> pd.DataFrame:\n",
        "    \"\"\"\n",
        "        Truncate column name to a specific length.  If column length\n",
        "        is shorter, then column length left as is.\n",
        "\n",
        "        This method mutates the original DataFrame.\n",
        "\n",
        "        Method chaining will truncate all columns to a given length\n",
        "        and append a given separator character with the index of\n",
        "        duplicate columns, except for the first distinct column name.\n",
        "\n",
        "        Parameters:\n",
        "            X: dataset\n",
        "\n",
        "        Keywords:\n",
        "            column_length: 3 (default)\n",
        "                Truncate all columns names to length.\n",
        "                The column separator value and number for duplicate\n",
        "                column name does not contribute to total string\n",
        "                length. If all columns string lenths are truncated\n",
        "                to 10 characters, the first distinct column will\n",
        "                be 10 characters and the remaining columns are\n",
        "                12 characters with a column separator of one\n",
        "                character).\n",
        "\n",
        "            column_separator: \"_\" (default)\n",
        "                The separator to append plus incremental Int to\n",
        "                create unique column names. Care should be \n",
        "                taken in choosing non-default str so as to\n",
        "                create legal pandas column\n",
        "                names.\n",
        "\n",
        "            verbose: True (default)\n",
        "                True: output\n",
        "                False: silent\n",
        "\n",
        "            inplace: True  (default)\n",
        "                True: replace 1st argument with resulting dataframe\n",
        "                False:  (boolean)change unplace the dataframe X\n",
        "\n",
        "        Returns: A pandas DataFrame (pd.DataFrame) with truncated\n",
        "        column lengths.\n",
        "    \"\"\"\n",
        "    #reST format to use\n",
        "    \"\"\"\n",
        "    This is a reST style.\n",
        "\n",
        "    :param param1: this is a first param\n",
        "    :param param2: this is a second param\n",
        "    :returns: this is a description of what is returned\n",
        "    :raises keyError: raises an exception\n",
        "    \"\"\""
      ],
      "execution_count": null,
      "outputs": []
    },
    {
      "cell_type": "code",
      "metadata": {
        "id": "8kJGW7WmBeJM"
      },
      "source": [
        "# use np.ndarray instead of list, init with None, then post_init:\n",
        "#def __post_init__(self):\n",
        " #       self.outer_folds = dict()\n",
        "  #      self.inner_folds = dict()"
      ],
      "execution_count": null,
      "outputs": []
    },
    {
      "cell_type": "code",
      "metadata": {
        "id": "zLlgxa4xKSqb"
      },
      "source": [
        "class Language(Enum):\n",
        "  '''Language, to be detected from suspect document and used to load appropriate list of stop-words and fastText pre-trained model'''\n",
        "  ARABIC = 'ar'\n",
        "  FRENCH = 'fr'\n",
        "  ENGLISH = 'en'\n",
        "\n",
        "def detect_language(text: str) -> Language:\n",
        "  '''DOCUMENT ME'''\n",
        "  lang = detect(text.lower().strip())\n",
        "  if lang in set(item.value for item in Language):\n",
        "    return Language(lang)\n",
        "  else:\n",
        "    raise Exception(\"Error {language detection}: detected language is not among [ar, fr, en]: {}\".format(lang))"
      ],
      "execution_count": 3,
      "outputs": []
    },
    {
      "cell_type": "markdown",
      "metadata": {
        "id": "lypa778zBTOs"
      },
      "source": [
        "#Report data structure"
      ]
    },
    {
      "cell_type": "markdown",
      "metadata": {
        "id": "iqkS5mdnBesl"
      },
      "source": [
        "|Class|Description|content|\n",
        "|---|---|---|\n",
        "|**PlagReport**|a global report between suspect all retrieved candidates (an agg of sub_reports)| instances: List [(plag_instance, can_src)]<br> scores: DetectionScores<br> sus_fulltext: str<br>---<br> timestamp: timestamp <br> report_id: str <br> sus_name: str<br> sus_id: str <br> params: DetectParams|\n",
        "|**SubReport**|a Jaccard-FastText global report between suspect and a single candidate only|sus_name: str <br> sus_id: str <br> can_src: CanSource <br> scores: DetectionScores<br> instances: List [plag_instance]|\n",
        "|**PlagInstance**|a single plagiarism instance passage between suspect and a candidate|posrange_suspect: [int, int] <br> posrange_candidate: (int, int) <br> passsage_suspect: str <br> passsage_candidate: str <br> plag_type: Enum [PlagType]|\n",
        "|**CanSource**|source candidate document|can_name: str <br> can_url: str <br> can_id: str <br> can_type: Enum [CanType]| \n",
        "|**DetectParams**|hyperparameters used to conduct comparisons|jaccard_threshold: float <br> jaccard_fasttext_threshold: float <br> fasttext_threshold: float <br> ngram_size: int <br> stride_size: int|\n",
        "|**DetectOperation**||sus_name: str <br> sus_id:str <br> user_id: str <br> report_id: str|\n",
        "|**DetectionScores**|to hold detailed and global percentages|score_syntac: float <br> score_semant:float <br> score_global: float |\n",
        "\n",
        "\n",
        "---\n",
        "|Enum|Properties|Description|\n",
        "|---|---|---|\n",
        "|**PlagType**|syntac <br> syntac_cls <br> semant <br> semant_cls|syntactic: pure Jaccard <br> syntactic with a close match: Jaccard with a skip_stride in the text passage <br> semantic: pure Fasttext <br> semantic with a close match: Fasttext with a skip_stride in the text passage|\n",
        "|**CanType**|web_page <br> web_file <br> local_file <br> theses_file| page scraped from a search engine <br> file collected from a search engine <br> file collected from the user's DB <br> file collected from the theses-algerie DB|"
      ]
    },
    {
      "cell_type": "code",
      "metadata": {
        "id": "Es7V-Xnm6t7F"
      },
      "source": [
        "class PlagType(Enum):\n",
        "  '''Plagiarism type, to be associated with each plagiarism instance (PlagInstance).'''\n",
        "  SYNTACT = 0\n",
        "  SYNTACT_CLS = 1\n",
        "  SEMANT = 2\n",
        "  SEMANT_CLS = 3\n",
        "\n",
        "class CanType(Enum):\n",
        "  '''Candidate source type, to be associated with each candidate source (CanSource)'''\n",
        "  WEB_PAGE = 0\n",
        "  WEB_FILE = 1\n",
        "  LOCAL_FILE = 2\n",
        "  THESES_FILE = 3"
      ],
      "execution_count": 4,
      "outputs": []
    },
    {
      "cell_type": "code",
      "metadata": {
        "id": "F2S6l_A88dOr"
      },
      "source": [
        "@dataclass(frozen=True)\n",
        "class DetectParams:\n",
        "  \"\"\"\n",
        "  A class to hold detection parameters used to carry out a detection operation, which can be \n",
        "  used back to tokenize the source text and get the same results (so it's more for trackability).\n",
        "  \n",
        "  Attributes:\n",
        "      jaccard_threshold:\n",
        "          Used to determine the Jaccard distance under which two pairs are syntactically similar.\n",
        "      jaccard_fasttext_threshold:\n",
        "          Used to determine the distance percentage under which two pairs are to be passed to the semantic semalirty test.\n",
        "          is > jaccard_threshold. if == 1 then any pair that isn't tagged as syntactically similar will be tested for semantic similarity.\n",
        "      fasttext_threshold:\n",
        "          Used to determine the cosine distance under which two pairs are semantically similar, by using their FasTtext features.\n",
        "      ngram_size, stride_size:\n",
        "          Used to tokenize text for both syntactic and semantic analysis\n",
        "  \"\"\"\n",
        "  jaccard_threshold: float = 0.25\n",
        "  jaccard_fasttext_threshold: float = 1.0\n",
        "  fasttext_threshold: float = 0.11\n",
        "  ngram_size: int = 15\n",
        "  stride_size: int = 7\n",
        "\n",
        "@dataclass(frozen=True)\n",
        "class DetectionScores:\n",
        "  \"\"\"\n",
        "  A class to hold detection scores registered after a comparison operation with a single candidate, or the aggregation of multiple reports.\n",
        "  \n",
        "  Attributes:\n",
        "      syntac_score:\n",
        "          Global syntactic similarity between suspect file and candidates (one if SubReport, multiple if PlagReport)\n",
        "          syntac_score = size(suspect text) / sum(size (suspect segments that appear as a member in pairs with Jaccard similarity < threshold))\n",
        "      semant_score:\n",
        "          Global semantic similarity between suspect file and candidates (one if SubReport, multiple if PlagReport)\n",
        "          semant_score= size(suspect text) / sum(size (suspect segments that appear as a member in pairs with FastText cosine similarity < threshold))\n",
        "      global_score:\n",
        "          Global similarity, calculated as merging score of both syntactic and semantic similarity (not their sum)\n",
        "  \"\"\"\n",
        "  syntac_score: float\n",
        "  semant_score:float\n",
        "  global_score: float\n",
        "\n",
        "@dataclass(frozen=True)\n",
        "class CanSource:\n",
        "  can_name: str\n",
        "  can_url: str\n",
        "  can_id: str\n",
        "  can_type: CanType \n",
        "\n",
        "@dataclass(frozen=True)\n",
        "class PlagInstance:\n",
        "  posrange_suspect: (int, int)\n",
        "  posrange_candidate: (int, int)\n",
        "  passsage_suspect: str\n",
        "  passsage_candidate: str\n",
        "  plag_type: PlagType\n",
        "\n",
        "@dataclass()\n",
        "class SubReport:\n",
        "  sus_name: str\n",
        "  sus_id: str\n",
        "  can_src: CanSource\n",
        "  scores: DetectionScores\n",
        "  instances: List[PlagInstance]\n",
        "\n",
        "@dataclass()\n",
        "class PlagReport:\n",
        "  sub_reports: List[SubReport]\n",
        "  sus_fulltext: str\n",
        "  timestamp: int\n",
        "  report_id: str\n",
        "  sus_name: str\n",
        "  sus_id: str\n",
        "  params: DetectParams\n",
        "  scores: DetectionScores = field(init=False)\n",
        "\n",
        "  def __post_init__(self):\n",
        "    object.__setattr__(self, 'scores', (aggregate_scores(self, self.sub_reports)))\n",
        "\n"
      ],
      "execution_count": 5,
      "outputs": []
    },
    {
      "cell_type": "code",
      "metadata": {
        "colab": {
          "base_uri": "https://localhost:8080/",
          "height": 35
        },
        "id": "YpTtG0tA8x9I",
        "outputId": "00491ab0-e12d-4fb8-e943-75cd5365ef39"
      },
      "source": [
        "now_stamp = time.time()\n",
        "date = datetime.utcfromtimestamp(now_stamp).strftime('%Y-%m-%d %H:%M:%S')\n",
        "date"
      ],
      "execution_count": 6,
      "outputs": [
        {
          "output_type": "execute_result",
          "data": {
            "application/vnd.google.colaboratory.intrinsic+json": {
              "type": "string"
            },
            "text/plain": [
              "'2021-07-03 19:01:40'"
            ]
          },
          "metadata": {
            "tags": []
          },
          "execution_count": 6
        }
      ]
    },
    {
      "cell_type": "code",
      "metadata": {
        "id": "MO3Cvn-g-sQE"
      },
      "source": [
        "candidate_1 = CanSource('wikipedia', 'wikipedia.org', '41498502fs', CanType.WEB_PAGE)\n",
        "candidate_2 = CanSource('these de doctorat', 'theses-algerie.com', '414dqrw02fs', CanType.THESES_FILE)\n",
        "params = DetectParams()\n",
        "\n",
        "plaginstance1_1 = PlagInstance((3, 54), (17, 68), \"this is some sort of suspect text\", \"this is some sort of candidate text\", PlagType.SYNTACT)\n",
        "plaginstance1_2 = PlagInstance((12, 14), (45, 47), \"this is some sort of suspect text\", \"this is a kind of candidate passage\", PlagType.SEMANT)\n",
        "plaginstances1 = [plaginstance1_1, plaginstance1_2]\n",
        "\n",
        "plaginstance2_1 = PlagInstance((3, 7), (31, 35), \"this is some sort of secondary suspect text\", \"this is some sort of non-primary candidate text\", PlagType.SYNTACT)\n",
        "plaginstance2_2 = PlagInstance((23, 24), (57, 58), \"this is some sort of secondary suspect text\", \"this is a kind of candidate passage that comes second\", PlagType.SEMANT)\n",
        "plaginstances2 = [plaginstance2_1, plaginstance2_2]\n",
        "\n",
        "scores_1 = DetectionScores(.45, .47, .56)\n",
        "scores_2 = DetectionScores(.35, .5, .35)\n",
        "\n",
        "subreport_1 = SubReport(\"Suspect.pdf\", \"19381098da\", candidate_1, scores_1, plaginstances1)\n",
        "subreport_2 = SubReport(\"Suspect.pdf\", \"19381098da\", candidate_2, scores_2, plaginstances2)\n",
        "\n",
        "now_stamp = int(time.time())\n",
        "sus_text = \"this is some sort of suspect text this is some sort of suspect text this is some sort of secondary suspect text this is some sort of secondary suspect text\"\n",
        "global_report = PlagReport([subreport_1, subreport_2], sus_text, now_stamp, \"149294fd\", 'Suspect.pdf', '19381098da', params)\n",
        "\n"
      ],
      "execution_count": null,
      "outputs": []
    },
    {
      "cell_type": "code",
      "metadata": {
        "id": "M1zEOPvwClTe"
      },
      "source": [
        "global_report.scores"
      ],
      "execution_count": null,
      "outputs": []
    },
    {
      "cell_type": "code",
      "metadata": {
        "colab": {
          "base_uri": "https://localhost:8080/",
          "height": 52
        },
        "id": "7545ILnFimEl",
        "outputId": "1e92a906-33bf-44b6-9a71-5e6c2aabca67"
      },
      "source": [
        "PlagReport.__doc__"
      ],
      "execution_count": 14,
      "outputs": [
        {
          "output_type": "execute_result",
          "data": {
            "application/vnd.google.colaboratory.intrinsic+json": {
              "type": "string"
            },
            "text/plain": [
              "'PlagReport(sub_reports: List[__main__.SubReport], sus_fulltext: str, timestamp: int, report_id: str, sus_name: str, sus_id: str, params: __main__.DetectParams)'"
            ]
          },
          "metadata": {
            "tags": []
          },
          "execution_count": 14
        }
      ]
    },
    {
      "cell_type": "markdown",
      "metadata": {
        "id": "qo80OQOJFd8J"
      },
      "source": [
        "####Sample"
      ]
    },
    {
      "cell_type": "code",
      "metadata": {
        "id": "hR70_Aj3Ffhg"
      },
      "source": [
        "samp_suspect = [\"The significance of export-platform FDI is reported in a think about by Hanson, Mataloni, and Butcher (2001). Utilising information on the remote operations of US multinationals, they report that in spite of the fact that the normal share of trades in partner deals has remained steady at approximately one-third, there has been a significant increment in Mexico and Canada after the arrangement of NAFTA. Their econometric examination recommends that trade stage FDI is advanced by moo host-country exchange boundaries and disheartened by expansive host-country markets.Within the past decade, the worldwide commercial center has experienced the democratisation of extravagance, driven by a continually developing optimistic customer portion. This prevalent frame of unused extravagance (Silverstein and Fiske 2003a) centers on human association, self- expression, unlimited dissemination, and acknowledgment from others. Unused extravagance, too alluded to as “masstige” (i.e., mass glory; Cornell 2002), challenges routine convictions around extravagance showcasing and branding, counting estimating and cost focuses, brand expansions, buyer request, modernity, showcase steadiness, and the time required to reach the center lesson. The promoting of extravagance has contributed altogether to the democratisation of extravagance, but its impact truly is auxiliary to the impact of changing utilisation designs.The primary case we consider includes symmetric exchange costs on all joins, so that the two firms will each embrace the same number of plants, and either both or not one or the other will have a plant in S and, when they do, the trade designs of those plants will be symmetric. Third-country trade-stage generation emerges when moo generation costs in S lead a firm to utilise S to serve the other N nation, but the investment funds on settled costs from closing the domestic plant don't balanced the costs of shipping components to S and last yield back domestic.The US is an insider nation with regard to the NAFTA nations, Canada and Mexico, whereas it is an untouchable nation with regard to the coordinates European showcase. The US has distant-coming to special exchanging assentions with Israel, but so has the EU. The nations in Southeast Asia are ordinary low-cost nations that, not at all like Mexico and the nations in Southern Europe, don't have a place to a territorial free-trade region. We in this way need to utilise Southeast Asian nations as a group against which to assess comes about for NAFTA and the EU. Israel will be indicated independently as well.Effective teach secure property rights. The universal economy is getting to be a knowledge-based economy; as a result, mental property rights are getting to be ever more imperative. Their assurance is essential since those who deliver merchandise and administrations can be enough remunerated. The esteem of property rights can rapidly be crushed unless governments uphold rights in this range (Divider et al., 2010). The degree to which outside undertakings can increment ventures in a nation depends on the degree to which that nation has made teach and arrangements for ensuring mental property rights, and a government's adequacy in implementing these rights influences the choices of outside undertakings to enter a host nation, and how they work once there. Frail mental property rights dishearten remote financial specialists, especially in technology-intensive divisions, and energise ventures in ventures that center on dispersion, that's , trading to the host nation, instead of setting up generation plants that might give FDI spillovers; (Rondinelli, 2005).Promoting such offerings within the Joined together States moreover requires another move by firms and brands, that's , numerous analysts and indeed a few professionals respect extravagance shoppers as homogeneous (Dubois 1992). However in Europe, for illustration, unobtrusive social and behavioural assortment and contrasts rise among German, Danish, French, Spanish, and Irish extravagance buyers, likely due to the solid French and Italian impacts that regularly get forced on other European national markets. Extravagance utilisation behaviour can moreover changeessentially between regions, way of life, expendable wage, and over age bunches (Silverstein and Fiske 2003a).The new topic elegant and cool communicates personal taste, separates the respondent from others, and makes a difference illustrate modernity, observing capacities, or victory. Buyers in this way utilise items to send signals around who they are and their objectives. This topic moreover recognises the wants to seem “hip,” see in vogue, and feel special. Unmentionables, design extras, observes, and gems empower the participants, as buyers, to specific their style, information, taste, and values. In spite of the fact that our members don't show up driven basically by a crave for status, nor do they express uncritical captivation with a brand title, they still care almost the messages that merchandise and brands provide approximately their person fashion.The GDP development variable is positive and noteworthy. This suggests that outside speculators are pulled in to have nations with huge markets (market-seeking FDI). This finding is reliable with Bannaga et al. (2013).Trade openness variable is positive and critical. Potential remote speculators are able to gotten to be well educated approximately the nearby conditions of their worldwide exchange accomplices when exchange is freed. Subsequently, outside financial specialists favour contributing in nations with sizable exchange volume. This result is in line with Elfakhani and Matar (2007).Middle easterner economies ought to decrease political hazard by democratising their political frameworks, which may offer assistance settle the locale. They may accomplish legislative soundness by following the equitable change to worldwide community benchmarks in terms of regard for crucial human rights, reinforcing the role of law and advancing national decisions. Middle easterner economies ought to control debasement by supporting the run the show of law and building a successful, unbiased and straightforward legitimate framework. The successful procedure to upgrade the run the show of law requires the foundation of a legal framework in which all people, teach and indeed the government are responsible to laws that are consistently implemented and freely settled. Speculation legislations must secure and ensure ventures within the locale, and ought to be coherent with worldwide guidelines to extend certainty and decrease the risk of apportionment or nationalisation of remote speculations. There's a requirement for the locale to advance law based responsibility by receiving a administration framework based on regulation commitments in giving straightforward data almost open decisions and empowering gracious society to redress or authorise choices that don't follow to the order of law. Constitutions ought to avoid political parties from setting up or getting to be included in military strengths, to avoid the dangers of take-over of a chosen government or of debilitating its capacity to operate viably.\",\n",
        "                \"LaDuke’s organisation restricts the proposed course for the modern pipeline, dreading that development and potential spills along the modern course would debilitate the wellbeing of watersheds and Ojibwe lands in Minnesota. “You don’t get to take off a mess in put for the state of Minnesota and tribes, who are exceptionally affected by this since it crosses three reservations, to clean up,” says LaDuke.In Canada, the modern Line 3 has as of now been built. The ancient line will be cleaned out and surrendered in put another year. The country’s National Vitality Board directs pipelines that cross borders and requires companies to yield an arrangement some time recently abandoning a pipeline that incorporates how they’ll set aside reserves to screen the decommissioned pipeline and pay attention of any issues that emerge. It’s a arrangement that’s missing within the US, in spite of the fact that the US Pipeline and Dangerous Materials Security Organisation requires deserted pipelines cleared out in put to be detached, cleansed of unsafe materials, and fixed.An evaluated 140 million individuals misplaced their employments after India bolted down its economy in Walk to halt the flare-up, whereas numerous others saw their pay rates definitely decreased, the Mumbai-based Center for Observing Indian Economy said. As the lockdown was facilitated, numerous went back to work, but more than six million individuals who misplaced occupations haven’t found unused employment.In a June study by the All India Producers Organisation, approximately one-third of little and medium-sized undertakings shown that their businesses were past sparing. The industry bunch said that such a “mass pulverisation of business” was unprecedented.As a run the show, they are created utilising physical strategies. For occurrence, much appreciated to the most modest high-frequency electron developments, the electrical resistance of a wire isn't consistent but instep vacillates marginally in an unpredictable way. Meaning estimations of this foundation commotion can be utilised to produce genuine irregular numbers.Presently, for the primary time, an investigation group driven by Robert Grass, Teacher at the Established of Chemical and Bioengineering, has portrayed a non-physical strategy of producing such numbers: one that employments biochemical signals and actually works in hone. Within the past, the thoughts put forward by other researchers for producing arbitrary numbers by chemical implies tended to be generally hypothetical.It’s all the more vital since the long run for oil and gas companies is more questionable than ever, which makes long-term of their pipelines more questionable, as well. The time will come when the US will got to figure with the destiny of all its pipelines — and when that time comes, the companies that worked them seem now not be around to bargain with them. The COVID-19 widespread alone sent oil and gas companies faltering toward insolvency. Indeed after the economy recoups from the pandemic, there will be more challenges ahead. Worldwide endeavours to handle climate alter, embraced within the point of interest 2015 Paris climate agreement, set countries on a way to cut down nursery gas outflows from burning fossil fills to net zero by 2050. Meaning a future with more renewables and small to no oil and gas.In long haul as unrefined oil request diminishes, we would anticipate to see increasingly pipelines being abandoned,” says Blackburn. “With the oil industry having less and less cash within the future, the hazard gets to be more noteworthy and more prominent that they’ll fair walk absent from their pipelines and take off landowners holding the bag.In any case, an examination appeared that the conveyance of the four building squares A, C, G and T was not totally indeed. Either the complexities of nature or the amalgamation strategy conveyed driven to the bases G and T being coordinates more habitually within the atoms than A and C. Inany case, the researchers were able to adjust this predisposition with a straightforward calculation, subsequently producing idealise irregular numbers.The most point of ETH Teacher Grass and his group was to appear that arbitrary events in chemical response can be misused to produce culminate irregular numbers. Interpreting the finding into a coordinate application was not a prime concern at to begin with. \\\"Compared with other strategies, be that as it may, our own has the advantage of being able to produce colossal amounts of haphazardness that can be put away in an amazingly little space, a single test tube,\\\" Grass says. \\\"Able to examined out the data and reinterpret it in computerised shape at a afterward date. Usually incomprehensible with the past methods.”India’s economy shrank 7.5 percent within the three months that finished in September compared with a year prior, government figures appeared on Friday. The information reflects the extending of India’s severest subsidence since at slightest 1996, when the nation to begin with started distributing its net household item numbers.The unused figures immovably hidden India’s position among the world’s worst-performing major economies, in spite of broad government investing outlined to protect the thousands of little businesses seriously battered by its long, quickly forced lockdown.Material manufacturing plants, calfskin tanneries, brick ovens, foundries and other little ventures shape “part of the country’s social texture, bringing nearby riches and neighborhood employment,” said Venkatachalam Anbumozhi, an financial specialist who centers on south and East Asia. Just many a long time back, India, with a populace of 1.3 billion individuals, was one of the world’s fastest-growing huge economies. It frequently clocked development of 8 percent or more.Global businesses started to warm to the thought of India as a potential substitute to China, both as a put to create merchandise and to offer them. China’s costs are rising, and its exchange war with the Joined together States has complicated doing trade there. The Chinese Communist Party is progressively interfering into commerce things, and nearby Chinese competitors have increased their amusement against universal brands.\"]\n",
        "samp_candidate = [\"The importance of export-platform FDI is documented in a study by Hanson, Mataloni, and Slaughter (2001). Using data on the foreign operations of US multinationals, they report that although the average share of exports in affiliate sales has remained constant at about one-third, there has been a substantial increase in Mexico and Canada after the formation of NAFTA. Their econometric analysis suggests that export platform FDI is promoted by low host-country trade barriers and discouraged by large host-country markets.In the past decade, the global marketplace has experienced the democratization of luxury, driven by a constantly growing aspirational consumer segment. This popular form of new luxury (Silverstein and Fiske 2003a) focuses on human involvement, self-expression, unrestricted distribution, and recognition from others. New luxury, also referred to as “masstige” (i.e., mass prestige; Cornell 2002), challenges conventional beliefs about luxury marketing and branding, including pricing and price points, brand extensions, consumer demand, sophistication, market stability, and the time needed to reach the middle class. The marketing of luxury has contributed significantly to the democratization of luxury, but its effect really is secondary to the influence of changing consumption patterns.The first case we consider involves symmetric trade costs on all links, so that the two firms will each adopt the same number of plants, and either both or neither will have a plant in S and, when they do, the export patterns of those plants will be symmetric. Third-country export-platform production arises when low production costs in S lead a firm to use S to serve the other N country, but the savings on fixed costs from closing the home plant do not offset the costs of shipping components to S and final output back home.The US is an insider country with respect to the NAFTA countries, Canada and Mexico, while it is an outsider country with respect to the integrated European market. The US has far-reaching preferential trading agreements with Israel, but so has the EU. The countries in Southeast Asia are typical low-cost countries that, unlike Mexico and the countries in Southern Europe, do not belong to a regional free-trade area. We thus want to use Southeast Asian countries as a group against which to evaluate results for NAFTA and the EU. Israel will be specified separately as well.Efficient institutions protect property rights. The international economy is becoming a knowledge- based economy; as a result, intellectual property rights are becoming ever more important. Their protection is necessary because those who produce goods and services can be adequately rewarded. The value of property rights can quickly be destroyed unless governments enforce rights in this area (Wall et al., 2010). The degree to which foreign enterprises can increase investments in a country relies on the degree to which that country has created institutions and policies for protecting intellectual property rights, and a government's effectiveness in enforcing these rights affects the decisions of foreign enterprises to enter a host country, and how they operate once there. Weak intellectual property rights discourage foreign investors, particularly in technology-intensive sectors, and encourage investments in projects that focus on distribution, that is, exporting to the host country, rather than establishing production plants that could provide FDI spillovers; (Rondinelli, 2005).Marketing such offerings in the United States also requires another shift by firms and brands, that is, many researchers and even some practitioners regard luxury consumers as homogeneous (Dubois 1992). Yet in Europe, for example, subtle cultural and behavioral variety and differences emerge among German, Danish, French, Spanish, and Irish luxury consumers, likely due to the strong French and Italian influences that often get imposed on other European national markets. Luxury consumption behavior can also vary significantly between localities, lifestyle, disposable income, and across age groups (Silverstein and Fiske 2003a).The emergent theme fashionable and cool expresses personal taste, differentiates the respondent from others, and helps demonstrate sophistication, discerning abilities, or success. Consumers thus use products to send signals about who they are and their goals. This theme also acknowledges the desires to appear “hip,” look stylish, and feel unique. Lingerie, fashion accessories, watches, and jewelry enable the participants, as consumers, to express their style, knowledge, taste, and values. Although our participants do not appear driven primarily by a desire for status, nor do they express uncritical infatuation with a brand name, they still care about the messages that goods and brands deliver about their individual style.The GDP growth variable is positive and significant. This implies that foreign investors are attracted to host countries with large markets (market-seeking FDI). This finding is consistent with Bannaga et al. (2013).Trade openness variable is positive and significant. Potential foreign investors are able to become well informed about the local conditions of their international trade partners when trade is liberated. Therefore, foreign investors prefer investing in countries with sizeable trade volume. This result is in line with Elfakhani and Matar (2007).Arab economies need to reduce political risk by democratising their political systems, which may help stabilise the region. They could achieve governmental stability by adhering the democratic transformation to international community benchmarks in terms of respect for fundamental human rights, strengthening the role of law and promoting national elections. Arab economies need to control corruption by supporting the rule of law and building an effective, impartial and transparent legal system. The effective strategy to enhance the rule of law requires the establishment of a judicial system in which all individuals, institutions and even the government are accountable to laws that are uniformly enforced and independently adjudicated. Investment legislations must protect and guarantee investments in the region, and should be coherent with global standards to increase confidence and reduce the risk of appropriation or nationalisation of foreign investments. There is a need for the region to promote democratic accountability by adopting a governance system based on institutional obligations in providing transparent information about public decisions and enabling civil society to correct or sanction decisions that do not adhere to the mandate of law. Constitutions should prevent political parties from establishing or becoming involved in military forces, to avoid the risks of take-over of an elected government or of weakening its ability to function effectively.\",\n",
        "                  \"LaDuke’s organization opposes the proposed route for the new pipeline, fearing that construction and potential spills along the new route would threaten the health of watersheds and Ojibwe lands in Minnesota. “You don’t get to leave a mess in place for the state of Minnesota and tribes, who are very impacted by this because it crosses three reservations, to clean up,” says LaDuke.In Canada, the new Line 3 has already been built. The old line will be cleaned out and abandoned in place next year. The country’s National Energy Board oversees pipelines that cross borders and requires companies to submit a plan before abandoning a pipeline that includes how they’ll set aside funds to monitor the decommissioned pipeline and take care of any problems that arise. It’s a provision that’s lacking in the US, although the US Pipeline and Hazardous Materials Safety Administration requires abandoned pipelines left in place to be disconnected, purged of hazardous materials, and sealed.An estimated 140 million people lost their jobs after India locked down its economy in March to stop the outbreak, while many others saw their salaries drastically reduced, the Mumbai-based Center for Monitoring Indian Economy said. As the lockdown was eased, many went back to work, but more than six million people who lost jobs haven’t found new employment.In a June survey by the All India Manufacturers Organization, about one-third of small and medium-sized enterprises indicated that their businesses were beyond saving. The industry group said that such a “mass destruction of business” was unprecedented.As a rule, they are generated using physical methods. For instance, thanks to the tiniest high- frequency electron movements, the electrical resistance of a wire is not constant but instead fluctuates slightly in an unpredictable way. That means measurements of this background noise can be used to generate true random numbers.Now, for the first time, a research team led by Robert Grass, Professor at the Institute of Chemical and Bioengineering, has described a non-physical method of generating such numbers: one that uses biochemical signals and actually works in practice. In the past, the ideas put forward by other scientists for generating random numbers by chemical means tended to be largely theoretical.It’s all the more important because the future for oil and gas companies is more uncertain than ever, which makes the future of their pipelines more uncertain, too. The time will come when the US will need to reckon with the fate of all its pipelines — and when that time comes, the companies that operated them could no longer be around to deal with them. The COVID-19 pandemic alone sent oil and gas companies stumbling toward bankruptcy. Even after the economy recovers from the pandemic, there will be more challenges ahead. Global efforts to tackle climate change, adopted in the landmark 2015 Paris climate accord, set nations on a path to cut down greenhouse gas emissions from burning fossil fuels to net zero by 2050. That means a future with more renewables and little to no oil and gas.“In the future as crude oil demand decreases, we would expect to see more and more pipelines being abandoned,” says Blackburn. “With the oil industry having less and less money in the future, the risk becomes greater and greater that they’ll just walk away from their pipelines and leave landowners holding the bag.”However, an analysis showed that the distribution of the four building blocks A, C, G and T was not completely even. Either the intricacies of nature or the synthesis method deployed led to the bases G and T being integrated more frequently in the molecules than A and C. Nonetheless, the scientists were able to correct this bias with a simple algorithm, thereby generating perfect random numbers.The main aim of ETH Professor Grass and his team was to show that random occurrences in chemical reaction can be exploited to generate perfect random numbers. Translating the finding into a direct application was not a prime concern at first. \\\"Compared with other methods, however,ours has the advantage of being able to generate huge quantities of randomness that can be stored in an extremely small space, a single test tube,\\\" Grass says. \\\"We can read out the information and reinterpret it in digital form at a later date. This is impossible with the previous methods.”India’s economy shrank 7.5 percent in the three months that ended in September compared with a year earlier, government figures showed on Friday. The data reflects the deepening of India’s severest recession since at least 1996, when the country first began publishing its gross domestic product numbers.The new figures firmly ensconced India’s position among the world’s worst- performing major economies, despite expansive government spending designed to rescue the thousands of small businesses severely battered by its long, hastily imposed lockdown.Textile factories, leather tanneries, brick kilns, foundries and other small enterprises form “part of the country’s social fabric, bringing local wealth and local employment,” said Venkatachalam Anbumozhi, an economist who focuses on South and East Asia.Just a few years ago, India, with a population of 1.3 billion people, was one of the world’s fastest-growing large economies. It regularly clocked growth of 8 percent or more.Global businesses began to warm to the idea of India as a potential substitute to China, both as a place to make goods and to sell them. China’s costs are rising, and its trade war with the United States has complicated doing business there. The Chinese Communist Party is increasingly intruding into business matters, and local Chinese competitors have upped their game against international brands.\"]\n",
        "\n",
        "samp_suspect_long = [\"The significance of export-platform FDI is reported in a think about by Hanson, Mataloni, and Butcher (2001). Utilising information on the remote operations of US multinationals, they report that in spite of the fact that the normal share of trades in partner deals has remained steady at approximately one-third, there has been a significant increment in Mexico and Canada after the arrangement of NAFTA. Their econometric examination recommends that trade stage FDI is advanced by moo host-country exchange boundaries and disheartened by expansive host-country markets.Within the past decade, the worldwide commercial center has experienced the democratisation of extravagance, driven by a continually developing optimistic customer portion. This prevalent frame of unused extravagance (Silverstein and Fiske 2003a) centers on human association, self- expression, unlimited dissemination, and acknowledgment from others. Unused extravagance, too alluded to as “masstige” (i.e., mass glory; Cornell 2002), challenges routine convictions around extravagance showcasing and branding, counting estimating and cost focuses, brand expansions, buyer request, modernity, showcase steadiness, and the time required to reach the center lesson. The promoting of extravagance has contributed altogether to the democratisation of extravagance, but its impact truly is auxiliary to the impact of changing utilisation designs.The primary case we consider includes symmetric exchange costs on all joins, so that the two firms will each embrace the same number of plants, and either both or not one or the other will have a plant in S and, when they do, the trade designs of those plants will be symmetric. Third-country trade-stage generation emerges when moo generation costs in S lead a firm to utilise S to serve the other N nation, but the investment funds on settled costs from closing the domestic plant don't balanced the costs of shipping components to S and last yield back domestic.The US is an insider nation with regard to the NAFTA nations, Canada and Mexico, whereas it is an untouchable nation with regard to the coordinates European showcase. The US has distant-coming to special exchanging assentions with Israel, but so has the EU. The nations in Southeast Asia are ordinary low-cost nations that, not at all like Mexico and the nations in Southern Europe, don't have a place to a territorial free-trade region. We in this way need to utilise Southeast Asian nations as a group against which to assess comes about for NAFTA and the EU. Israel will be indicated independently as well.Effective teach secure property rights. The universal economy is getting to be a knowledge-based economy; as a result, mental property rights are getting to be ever more imperative. Their assurance is essential since those who deliver merchandise and administrations can be enough remunerated. The esteem of property rights can rapidly be crushed unless governments uphold rights in this range (Divider et al., 2010). The degree to which outside undertakings can increment ventures in a nation depends on the degree to which that nation has made teach and arrangements for ensuring mental property rights, and a government's adequacy in implementing these rights influences the choices of outside undertakings to enter a host nation, and how they work once there. Frail mental property rights dishearten remote financial specialists, especially in technology-intensive divisions, and energise ventures in ventures that center on dispersion, that's , trading to the host nation, instead of setting up generation plants that might give FDI spillovers; (Rondinelli, 2005).Promoting such offerings within the Joined together States moreover requires another move by firms and brands, that's , numerous analysts and indeed a few professionals respect extravagance shoppers as homogeneous (Dubois 1992). However in Europe, for illustration, unobtrusive social and behavioural assortment and contrasts rise among German, Danish, French, Spanish, and Irish extravagance buyers, likely due to the solid French and Italian impacts that regularly get forced on other European national markets. Extravagance utilisation behaviour can moreover changeessentially between regions, way of life, expendable wage, and over age bunches (Silverstein and Fiske 2003a).The new topic elegant and cool communicates personal taste, separates the respondent from others, and makes a difference illustrate modernity, observing capacities, or victory. Buyers in this way utilise items to send signals around who they are and their objectives. This topic moreover recognises the wants to seem “hip,” see in vogue, and feel special. Unmentionables, design extras, observes, and gems empower the participants, as buyers, to specific their style, information, taste, and values. In spite of the fact that our members don't show up driven basically by a crave for status, nor do they express uncritical captivation with a brand title, they still care almost the messages that merchandise and brands provide approximately their person fashion.The GDP development variable is positive and noteworthy. This suggests that outside speculators are pulled in to have nations with huge markets (market-seeking FDI). This finding is reliable with Bannaga et al. (2013).Trade openness variable is positive and critical. Potential remote speculators are able to gotten to be well educated approximately the nearby conditions of their worldwide exchange accomplices when exchange is freed. Subsequently, outside financial specialists favour contributing in nations with sizable exchange volume. This result is in line with Elfakhani and Matar (2007).Middle easterner economies ought to decrease political hazard by democratising their political frameworks, which may offer assistance settle the locale. They may accomplish legislative soundness by following the equitable change to worldwide community benchmarks in terms of regard for crucial human rights, reinforcing the role of law and advancing national decisions. Middle easterner economies ought to control debasement by supporting the run the show of law and building a successful, unbiased and straightforward legitimate framework. The successful procedure to upgrade the run the show of law requires the foundation of a legal framework in which all people, teach and indeed the government are responsible to laws that are consistently implemented and freely settled. Speculation legislations must secure and ensure ventures within the locale, and ought to be coherent with worldwide guidelines to extend certainty and decrease the risk of apportionment or nationalisation of remote speculations. There's a requirement for the locale to advance law based responsibility by receiving a administration framework based on regulation commitments in giving straightforward data almost open decisions and empowering gracious society to redress or authorise choices that don't follow to the order of law. Constitutions ought to avoid political parties from setting up or getting to be included in military strengths, to avoid the dangers of take-over of a chosen government or of debilitating its capacity to operate viably. LaDuke’s organisation restricts the proposed course for the modern pipeline, dreading that development and potential spills along the modern course would debilitate the wellbeing of watersheds and Ojibwe lands in Minnesota. “You don’t get to take off a mess in put for the state of Minnesota and tribes, who are exceptionally affected by this since it crosses three reservations, to clean up,” says LaDuke.In Canada, the modern Line 3 has as of now been built. The ancient line will be cleaned out and surrendered in put another year. The country’s National Vitality Board directs pipelines that cross borders and requires companies to yield an arrangement some time recently abandoning a pipeline that incorporates how they’ll set aside reserves to screen the decommissioned pipeline and pay attention of any issues that emerge. It’s a arrangement that’s missing within the US, in spite of the fact that the US Pipeline and Dangerous Materials Security Organisation requires deserted pipelines cleared out in put to be detached, cleansed of unsafe materials, and fixed.An evaluated 140 million individuals misplaced their employments after India bolted down its economy in Walk to halt the flare-up, whereas numerous others saw their pay rates definitely decreased, the Mumbai-based Center for Observing Indian Economy said. As the lockdown was facilitated, numerous went back to work, but more than six million individuals who misplaced occupations haven’t found unused employment.In a June study by the All India Producers Organisation, approximately one-third of little and medium-sized undertakings shown that their businesses were past sparing. The industry bunch said that such a “mass pulverisation of business” was unprecedented.As a run the show, they are created utilising physical strategies. For occurrence, much appreciated to the most modest high-frequency electron developments, the electrical resistance of a wire isn't consistent but instep vacillates marginally in an unpredictable way. Meaning estimations of this foundation commotion can be utilised to produce genuine irregular numbers.Presently, for the primary time, an investigation group driven by Robert Grass, Teacher at the Established of Chemical and Bioengineering, has portrayed a non-physical strategy of producing such numbers: one that employments biochemical signals and actually works in hone. Within the past, the thoughts put forward by other researchers for producing arbitrary numbers by chemical implies tended to be generally hypothetical.It’s all the more vital since the long run for oil and gas companies is more questionable than ever, which makes long-term of their pipelines more questionable, as well. The time will come when the US will got to figure with the destiny of all its pipelines — and when that time comes, the companies that worked them seem now not be around to bargain with them. The COVID-19 widespread alone sent oil and gas companies faltering toward insolvency. Indeed after the economy recoups from the pandemic, there will be more challenges ahead. Worldwide endeavours to handle climate alter, embraced within the point of interest 2015 Paris climate agreement, set countries on a way to cut down nursery gas outflows from burning fossil fills to net zero by 2050. Meaning a future with more renewables and small to no oil and gas.In long haul as unrefined oil request diminishes, we would anticipate to see increasingly pipelines being abandoned,” says Blackburn. “With the oil industry having less and less cash within the future, the hazard gets to be more noteworthy and more prominent that they’ll fair walk absent from their pipelines and take off landowners holding the bag.In any case, an examination appeared that the conveyance of the four building squares A, C, G and T was not totally indeed. Either the complexities of nature or the amalgamation strategy conveyed driven to the bases G and T being coordinates more habitually within the atoms than A and C. Inany case, the researchers were able to adjust this predisposition with a straightforward calculation, subsequently producing idealise irregular numbers.The most point of ETH Teacher Grass and his group was to appear that arbitrary events in chemical response can be misused to produce culminate irregular numbers. Interpreting the finding into a coordinate application was not a prime concern at to begin with. \\\"Compared with other strategies, be that as it may, our own has the advantage of being able to produce colossal amounts of haphazardness that can be put away in an amazingly little space, a single test tube,\\\" Grass says. \\\"Able to examined out the data and reinterpret it in computerised shape at a afterward date. Usually incomprehensible with the past methods.”India’s economy shrank 7.5 percent within the three months that finished in September compared with a year prior, government figures appeared on Friday. The information reflects the extending of India’s severest subsidence since at slightest 1996, when the nation to begin with started distributing its net household item numbers.The unused figures immovably hidden India’s position among the world’s worst-performing major economies, in spite of broad government investing outlined to protect the thousands of little businesses seriously battered by its long, quickly forced lockdown.Material manufacturing plants, calfskin tanneries, brick ovens, foundries and other little ventures shape “part of the country’s social texture, bringing nearby riches and neighborhood employment,” said Venkatachalam Anbumozhi, an financial specialist who centers on south and East Asia. Just many a long time back, India, with a populace of 1.3 billion individuals, was one of the world’s fastest-growing huge economies. It frequently clocked development of 8 percent or more.Global businesses started to warm to the thought of India as a potential substitute to China, both as a put to create merchandise and to offer them. China’s costs are rising, and its exchange war with the Joined together States has complicated doing trade there. The Chinese Communist Party is progressively interfering into commerce things, and nearby Chinese competitors have increased their amusement against universal brands. The significance of export-platform FDI is reported in a think about by Hanson, Mataloni, and Butcher (2001). Utilising information on the remote operations of US multinationals, they report that in spite of the fact that the normal share of trades in partner deals has remained steady at approximately one-third, there has been a significant increment in Mexico and Canada after the arrangement of NAFTA. Their econometric examination recommends that trade stage FDI is advanced by moo host-country exchange boundaries and disheartened by expansive host-country markets.Within the past decade, the worldwide commercial center has experienced the democratisation of extravagance, driven by a continually developing optimistic customer portion. This prevalent frame of unused extravagance (Silverstein and Fiske 2003a) centers on human association, self- expression, unlimited dissemination, and acknowledgment from others. Unused extravagance, too alluded to as “masstige” (i.e., mass glory; Cornell 2002), challenges routine convictions around extravagance showcasing and branding, counting estimating and cost focuses, brand expansions, buyer request, modernity, showcase steadiness, and the time required to reach the center lesson. The promoting of extravagance has contributed altogether to the democratisation of extravagance, but its impact truly is auxiliary to the impact of changing utilisation designs.The primary case we consider includes symmetric exchange costs on all joins, so that the two firms will each embrace the same number of plants, and either both or not one or the other will have a plant in S and, when they do, the trade designs of those plants will be symmetric. Third-country trade-stage generation emerges when moo generation costs in S lead a firm to utilise S to serve the other N nation, but the investment funds on settled costs from closing the domestic plant don't balanced the costs of shipping components to S and last yield back domestic.The US is an insider nation with regard to the NAFTA nations, Canada and Mexico, whereas it is an untouchable nation with regard to the coordinates European showcase. The US has distant-coming to special exchanging assentions with Israel, but so has the EU. The nations in Southeast Asia are ordinary low-cost nations that, not at all like Mexico and the nations in Southern Europe, don't have a place to a territorial free-trade region. We in this way need to utilise Southeast Asian nations as a group against which to assess comes about for NAFTA and the EU. Israel will be indicated independently as well.Effective teach secure property rights. The universal economy is getting to be a knowledge-based economy; as a result, mental property rights are getting to be ever more imperative. Their assurance is essential since those who deliver merchandise and administrations can be enough remunerated. The esteem of property rights can rapidly be crushed unless governments uphold rights in this range (Divider et al., 2010). The degree to which outside undertakings can increment ventures in a nation depends on the degree to which that nation has made teach and arrangements for ensuring mental property rights, and a government's adequacy in implementing these rights influences the choices of outside undertakings to enter a host nation, and how they work once there. Frail mental property rights dishearten remote financial specialists, especially in technology-intensive divisions, and energise ventures in ventures that center on dispersion, that's , trading to the host nation, instead of setting up generation plants that might give FDI spillovers; (Rondinelli, 2005).Promoting such offerings within the Joined together States moreover requires another move by firms and brands, that's , numerous analysts and indeed a few professionals respect extravagance shoppers as homogeneous (Dubois 1992). However in Europe, for illustration, unobtrusive social and behavioural assortment and contrasts rise among German, Danish, French, Spanish, and Irish extravagance buyers, likely due to the solid French and Italian impacts that regularly get forced on other European national markets. Extravagance utilisation behaviour can moreover changeessentially between regions, way of life, expendable wage, and over age bunches (Silverstein and Fiske 2003a).The new topic elegant and cool communicates personal taste, separates the respondent from others, and makes a difference illustrate modernity, observing capacities, or victory. Buyers in this way utilise items to send signals around who they are and their objectives. This topic moreover recognises the wants to seem “hip,” see in vogue, and feel special. Unmentionables, design extras, observes, and gems empower the participants, as buyers, to specific their style, information, taste, and values. In spite of the fact that our members don't show up driven basically by a crave for status, nor do they express uncritical captivation with a brand title, they still care almost the messages that merchandise and brands provide approximately their person fashion.The GDP development variable is positive and noteworthy. This suggests that outside speculators are pulled in to have nations with huge markets (market-seeking FDI). This finding is reliable with Bannaga et al. (2013).Trade openness variable is positive and critical. Potential remote speculators are able to gotten to be well educated approximately the nearby conditions of their worldwide exchange accomplices when exchange is freed. Subsequently, outside financial specialists favour contributing in nations with sizable exchange volume. This result is in line with Elfakhani and Matar (2007).Middle easterner economies ought to decrease political hazard by democratising their political frameworks, which may offer assistance settle the locale. They may accomplish legislative soundness by following the equitable change to worldwide community benchmarks in terms of regard for crucial human rights, reinforcing the role of law and advancing national decisions. Middle easterner economies ought to control debasement by supporting the run the show of law and building a successful, unbiased and straightforward legitimate framework. The successful procedure to upgrade the run the show of law requires the foundation of a legal framework in which all people, teach and indeed the government are responsible to laws that are consistently implemented and freely settled. Speculation legislations must secure and ensure ventures within the locale, and ought to be coherent with worldwide guidelines to extend certainty and decrease the risk of apportionment or nationalisation of remote speculations. There's a requirement for the locale to advance law based responsibility by receiving a administration framework based on regulation commitments in giving straightforward data almost open decisions and empowering gracious society to redress or authorise choices that don't follow to the order of law. Constitutions ought to avoid political parties from setting up or getting to be included in military strengths, to avoid the dangers of take-over of a chosen government or of debilitating its capacity to operate viably. LaDuke’s organisation restricts the proposed course for the modern pipeline, dreading that development and potential spills along the modern course would debilitate the wellbeing of watersheds and Ojibwe lands in Minnesota. “You don’t get to take off a mess in put for the state of Minnesota and tribes, who are exceptionally affected by this since it crosses three reservations, to clean up,” says LaDuke.In Canada, the modern Line 3 has as of now been built. The ancient line will be cleaned out and surrendered in put another year. The country’s National Vitality Board directs pipelines that cross borders and requires companies to yield an arrangement some time recently abandoning a pipeline that incorporates how they’ll set aside reserves to screen the decommissioned pipeline and pay attention of any issues that emerge. It’s a arrangement that’s missing within the US, in spite of the fact that the US Pipeline and Dangerous Materials Security Organisation requires deserted pipelines cleared out in put to be detached, cleansed of unsafe materials, and fixed.An evaluated 140 million individuals misplaced their employments after India bolted down its economy in Walk to halt the flare-up, whereas numerous others saw their pay rates definitely decreased, the Mumbai-based Center for Observing Indian Economy said. As the lockdown was facilitated, numerous went back to work, but more than six million individuals who misplaced occupations haven’t found unused employment.In a June study by the All India Producers Organisation, approximately one-third of little and medium-sized undertakings shown that their businesses were past sparing. The industry bunch said that such a “mass pulverisation of business” was unprecedented.As a run the show, they are created utilising physical strategies. For occurrence, much appreciated to the most modest high-frequency electron developments, the electrical resistance of a wire isn't consistent but instep vacillates marginally in an unpredictable way. Meaning estimations of this foundation commotion can be utilised to produce genuine irregular numbers.Presently, for the primary time, an investigation group driven by Robert Grass, Teacher at the Established of Chemical and Bioengineering, has portrayed a non-physical strategy of producing such numbers: one that employments biochemical signals and actually works in hone. Within the past, the thoughts put forward by other researchers for producing arbitrary numbers by chemical implies tended to be generally hypothetical.It’s all the more vital since the long run for oil and gas companies is more questionable than ever, which makes long-term of their pipelines more questionable, as well. The time will come when the US will got to figure with the destiny of all its pipelines — and when that time comes, the companies that worked them seem now not be around to bargain with them. The COVID-19 widespread alone sent oil and gas companies faltering toward insolvency. Indeed after the economy recoups from the pandemic, there will be more challenges ahead. Worldwide endeavours to handle climate alter, embraced within the point of interest 2015 Paris climate agreement, set countries on a way to cut down nursery gas outflows from burning fossil fills to net zero by 2050. Meaning a future with more renewables and small to no oil and gas.In long haul as unrefined oil request diminishes, we would anticipate to see increasingly pipelines being abandoned,” says Blackburn. “With the oil industry having less and less cash within the future, the hazard gets to be more noteworthy and more prominent that they’ll fair walk absent from their pipelines and take off landowners holding the bag.In any case, an examination appeared that the conveyance of the four building squares A, C, G and T was not totally indeed. Either the complexities of nature or the amalgamation strategy conveyed driven to the bases G and T being coordinates more habitually within the atoms than A and C. Inany case, the researchers were able to adjust this predisposition with a straightforward calculation, subsequently producing idealise irregular numbers.The most point of ETH Teacher Grass and his group was to appear that arbitrary events in chemical response can be misused to produce culminate irregular numbers. Interpreting the finding into a coordinate application was not a prime concern at to begin with. \\\"Compared with other strategies, be that as it may, our own has the advantage of being able to produce colossal amounts of haphazardness that can be put away in an amazingly little space, a single test tube,\\\" Grass says. \\\"Able to examined out the data and reinterpret it in computerised shape at a afterward date. Usually incomprehensible with the past methods.”India’s economy shrank 7.5 percent within the three months that finished in September compared with a year prior, government figures appeared on Friday. The information reflects the extending of India’s severest subsidence since at slightest 1996, when the nation to begin with started distributing its net household item numbers.The unused figures immovably hidden India’s position among the world’s worst-performing major economies, in spite of broad government investing outlined to protect the thousands of little businesses seriously battered by its long, quickly forced lockdown.Material manufacturing plants, calfskin tanneries, brick ovens, foundries and other little ventures shape “part of the country’s social texture, bringing nearby riches and neighborhood employment,” said Venkatachalam Anbumozhi, an financial specialist who centers on south and East Asia. Just many a long time back, India, with a populace of 1.3 billion individuals, was one of the world’s fastest-growing huge economies. It frequently clocked development of 8 percent or more.Global businesses started to warm to the thought of India as a potential substitute to China, both as a put to create merchandise and to offer them. China’s costs are rising, and its exchange war with the Joined together States has complicated doing trade there. The Chinese Communist Party is progressively interfering into commerce things, and nearby Chinese competitors have increased their amusement against universal brands. The significance of export-platform FDI is reported in a think about by Hanson, Mataloni, and Butcher (2001). Utilising information on the remote operations of US multinationals, they report that in spite of the fact that the normal share of trades in partner deals has remained steady at approximately one-third, there has been a significant increment in Mexico and Canada after the arrangement of NAFTA. Their econometric examination recommends that trade stage FDI is advanced by moo host-country exchange boundaries and disheartened by expansive host-country markets.Within the past decade, the worldwide commercial center has experienced the democratisation of extravagance, driven by a continually developing optimistic customer portion. This prevalent frame of unused extravagance (Silverstein and Fiske 2003a) centers on human association, self- expression, unlimited dissemination, and acknowledgment from others. Unused extravagance, too alluded to as “masstige” (i.e., mass glory; Cornell 2002), challenges routine convictions around extravagance showcasing and branding, counting estimating and cost focuses, brand expansions, buyer request, modernity, showcase steadiness, and the time required to reach the center lesson. The promoting of extravagance has contributed altogether to the democratisation of extravagance, but its impact truly is auxiliary to the impact of changing utilisation designs.The primary case we consider includes symmetric exchange costs on all joins, so that the two firms will each embrace the same number of plants, and either both or not one or the other will have a plant in S and, when they do, the trade designs of those plants will be symmetric. Third-country trade-stage generation emerges when moo generation costs in S lead a firm to utilise S to serve the other N nation, but the investment funds on settled costs from closing the domestic plant don't balanced the costs of shipping components to S and last yield back domestic.The US is an insider nation with regard to the NAFTA nations, Canada and Mexico, whereas it is an untouchable nation with regard to the coordinates European showcase. The US has distant-coming to special exchanging assentions with Israel, but so has the EU. The nations in Southeast Asia are ordinary low-cost nations that, not at all like Mexico and the nations in Southern Europe, don't have a place to a territorial free-trade region. We in this way need to utilise Southeast Asian nations as a group against which to assess comes about for NAFTA and the EU. Israel will be indicated independently as well.Effective teach secure property rights. The universal economy is getting to be a knowledge-based economy; as a result, mental property rights are getting to be ever more imperative. Their assurance is essential since those who deliver merchandise and administrations can be enough remunerated. The esteem of property rights can rapidly be crushed unless governments uphold rights in this range (Divider et al., 2010). The degree to which outside undertakings can increment ventures in a nation depends on the degree to which that nation has made teach and arrangements for ensuring mental property rights, and a government's adequacy in implementing these rights influences the choices of outside undertakings to enter a host nation, and how they work once there. Frail mental property rights dishearten remote financial specialists, especially in technology-intensive divisions, and energise ventures in ventures that center on dispersion, that's , trading to the host nation, instead of setting up generation plants that might give FDI spillovers; (Rondinelli, 2005).Promoting such offerings within the Joined together States moreover requires another move by firms and brands, that's , numerous analysts and indeed a few professionals respect extravagance shoppers as homogeneous (Dubois 1992). However in Europe, for illustration, unobtrusive social and behavioural assortment and contrasts rise among German, Danish, French, Spanish, and Irish extravagance buyers, likely due to the solid French and Italian impacts that regularly get forced on other European national markets. Extravagance utilisation behaviour can moreover changeessentially between regions, way of life, expendable wage, and over age bunches (Silverstein and Fiske 2003a).The new topic elegant and cool communicates personal taste, separates the respondent from others, and makes a difference illustrate modernity, observing capacities, or victory. Buyers in this way utilise items to send signals around who they are and their objectives. This topic moreover recognises the wants to seem “hip,” see in vogue, and feel special. Unmentionables, design extras, observes, and gems empower the participants, as buyers, to specific their style, information, taste, and values. In spite of the fact that our members don't show up driven basically by a crave for status, nor do they express uncritical captivation with a brand title, they still care almost the messages that merchandise and brands provide approximately their person fashion.The GDP development variable is positive and noteworthy. This suggests that outside speculators are pulled in to have nations with huge markets (market-seeking FDI). This finding is reliable with Bannaga et al. (2013).Trade openness variable is positive and critical. Potential remote speculators are able to gotten to be well educated approximately the nearby conditions of their worldwide exchange accomplices when exchange is freed. Subsequently, outside financial specialists favour contributing in nations with sizable exchange volume. This result is in line with Elfakhani and Matar (2007).Middle easterner economies ought to decrease political hazard by democratising their political frameworks, which may offer assistance settle the locale. They may accomplish legislative soundness by following the equitable change to worldwide community benchmarks in terms of regard for crucial human rights, reinforcing the role of law and advancing national decisions. Middle easterner economies ought to control debasement by supporting the run the show of law and building a successful, unbiased and straightforward legitimate framework. The successful procedure to upgrade the run the show of law requires the foundation of a legal framework in which all people, teach and indeed the government are responsible to laws that are consistently implemented and freely settled. Speculation legislations must secure and ensure ventures within the locale, and ought to be coherent with worldwide guidelines to extend certainty and decrease the risk of apportionment or nationalisation of remote speculations. There's a requirement for the locale to advance law based responsibility by receiving a administration framework based on regulation commitments in giving straightforward data almost open decisions and empowering gracious society to redress or authorise choices that don't follow to the order of law. Constitutions ought to avoid political parties from setting up or getting to be included in military strengths, to avoid the dangers of take-over of a chosen government or of debilitating its capacity to operate viably. LaDuke’s organisation restricts the proposed course for the modern pipeline, dreading that development and potential spills along the modern course would debilitate the wellbeing of watersheds and Ojibwe lands in Minnesota. “You don’t get to take off a mess in put for the state of Minnesota and tribes, who are exceptionally affected by this since it crosses three reservations, to clean up,” says LaDuke.In Canada, the modern Line 3 has as of now been built. The ancient line will be cleaned out and surrendered in put another year. The country’s National Vitality Board directs pipelines that cross borders and requires companies to yield an arrangement some time recently abandoning a pipeline that incorporates how they’ll set aside reserves to screen the decommissioned pipeline and pay attention of any issues that emerge. It’s a arrangement that’s missing within the US, in spite of the fact that the US Pipeline and Dangerous Materials Security Organisation requires deserted pipelines cleared out in put to be detached, cleansed of unsafe materials, and fixed.An evaluated 140 million individuals misplaced their employments after India bolted down its economy in Walk to halt the flare-up, whereas numerous others saw their pay rates definitely decreased, the Mumbai-based Center for Observing Indian Economy said. As the lockdown was facilitated, numerous went back to work, but more than six million individuals who misplaced occupations haven’t found unused employment.In a June study by the All India Producers Organisation, approximately one-third of little and medium-sized undertakings shown that their businesses were past sparing. The industry bunch said that such a “mass pulverisation of business” was unprecedented.As a run the show, they are created utilising physical strategies. For occurrence, much appreciated to the most modest high-frequency electron developments, the electrical resistance of a wire isn't consistent but instep vacillates marginally in an unpredictable way. Meaning estimations of this foundation commotion can be utilised to produce genuine irregular numbers.Presently, for the primary time, an investigation group driven by Robert Grass, Teacher at the Established of Chemical and Bioengineering, has portrayed a non-physical strategy of producing such numbers: one that employments biochemical signals and actually works in hone. Within the past, the thoughts put forward by other researchers for producing arbitrary numbers by chemical implies tended to be generally hypothetical.It’s all the more vital since the long run for oil and gas companies is more questionable than ever, which makes long-term of their pipelines more questionable, as well. The time will come when the US will got to figure with the destiny of all its pipelines — and when that time comes, the companies that worked them seem now not be around to bargain with them. The COVID-19 widespread alone sent oil and gas companies faltering toward insolvency. Indeed after the economy recoups from the pandemic, there will be more challenges ahead. Worldwide endeavours to handle climate alter, embraced within the point of interest 2015 Paris climate agreement, set countries on a way to cut down nursery gas outflows from burning fossil fills to net zero by 2050. Meaning a future with more renewables and small to no oil and gas.In long haul as unrefined oil request diminishes, we would anticipate to see increasingly pipelines being abandoned,” says Blackburn. “With the oil industry having less and less cash within the future, the hazard gets to be more noteworthy and more prominent that they’ll fair walk absent from their pipelines and take off landowners holding the bag.In any case, an examination appeared that the conveyance of the four building squares A, C, G and T was not totally indeed. Either the complexities of nature or the amalgamation strategy conveyed driven to the bases G and T being coordinates more habitually within the atoms than A and C. Inany case, the researchers were able to adjust this predisposition with a straightforward calculation, subsequently producing idealise irregular numbers.The most point of ETH Teacher Grass and his group was to appear that arbitrary events in chemical response can be misused to produce culminate irregular numbers. Interpreting the finding into a coordinate application was not a prime concern at to begin with. \\\"Compared with other strategies, be that as it may, our own has the advantage of being able to produce colossal amounts of haphazardness that can be put away in an amazingly little space, a single test tube,\\\" Grass says. \\\"Able to examined out the data and reinterpret it in computerised shape at a afterward date. Usually incomprehensible with the past methods.”India’s economy shrank 7.5 percent within the three months that finished in September compared with a year prior, government figures appeared on Friday. The information reflects the extending of India’s severest subsidence since at slightest 1996, when the nation to begin with started distributing its net household item numbers.The unused figures immovably hidden India’s position among the world’s worst-performing major economies, in spite of broad government investing outlined to protect the thousands of little businesses seriously battered by its long, quickly forced lockdown.Material manufacturing plants, calfskin tanneries, brick ovens, foundries and other little ventures shape “part of the country’s social texture, bringing nearby riches and neighborhood employment,” said Venkatachalam Anbumozhi, an financial specialist who centers on south and East Asia. Just many a long time back, India, with a populace of 1.3 billion individuals, was one of the world’s fastest-growing huge economies. It frequently clocked development of 8 percent or more.Global businesses started to warm to the thought of India as a potential substitute to China, both as a put to create merchandise and to offer them. China’s costs are rising, and its exchange war with the Joined together States has complicated doing trade there. The Chinese Communist Party is progressively interfering into commerce things, and nearby Chinese competitors have increased their amusement against universal brands. The significance of export-platform FDI is reported in a think about by Hanson, Mataloni, and Butcher (2001). Utilising information on the remote operations of US multinationals, they report that in spite of the fact that the normal share of trades in partner deals has remained steady at approximately one-third, there has been a significant increment in Mexico and Canada after the arrangement of NAFTA. Their econometric examination recommends that trade stage FDI is advanced by moo host-country exchange boundaries and disheartened by expansive host-country markets.Within the past decade, the worldwide commercial center has experienced the democratisation of extravagance, driven by a continually developing optimistic customer portion. This prevalent frame of unused extravagance (Silverstein and Fiske 2003a) centers on human association, self- expression, unlimited dissemination, and acknowledgment from others. Unused extravagance, too alluded to as “masstige” (i.e., mass glory; Cornell 2002), challenges routine convictions around extravagance showcasing and branding, counting estimating and cost focuses, brand expansions, buyer request, modernity, showcase steadiness, and the time required to reach the center lesson. The promoting of extravagance has contributed altogether to the democratisation of extravagance, but its impact truly is auxiliary to the impact of changing utilisation designs.The primary case we consider includes symmetric exchange costs on all joins, so that the two firms will each embrace the same number of plants, and either both or not one or the other will have a plant in S and, when they do, the trade designs of those plants will be symmetric. Third-country trade-stage generation emerges when moo generation costs in S lead a firm to utilise S to serve the other N nation, but the investment funds on settled costs from closing the domestic plant don't balanced the costs of shipping components to S and last yield back domestic.The US is an insider nation with regard to the NAFTA nations, Canada and Mexico, whereas it is an untouchable nation with regard to the coordinates European showcase. The US has distant-coming to special exchanging assentions with Israel, but so has the EU. The nations in Southeast Asia are ordinary low-cost nations that, not at all like Mexico and the nations in Southern Europe, don't have a place to a territorial free-trade region. We in this way need to utilise Southeast Asian nations as a group against which to assess comes about for NAFTA and the EU. Israel will be indicated independently as well.Effective teach secure property rights. The universal economy is getting to be a knowledge-based economy; as a result, mental property rights are getting to be ever more imperative. Their assurance is essential since those who deliver merchandise and administrations can be enough remunerated. The esteem of property rights can rapidly be crushed unless governments uphold rights in this range (Divider et al., 2010). The degree to which outside undertakings can increment ventures in a nation depends on the degree to which that nation has made teach and arrangements for ensuring mental property rights, and a government's adequacy in implementing these rights influences the choices of outside undertakings to enter a host nation, and how they work once there. Frail mental property rights dishearten remote financial specialists, especially in technology-intensive divisions, and energise ventures in ventures that center on dispersion, that's , trading to the host nation, instead of setting up generation plants that might give FDI spillovers; (Rondinelli, 2005).Promoting such offerings within the Joined together States moreover requires another move by firms and brands, that's , numerous analysts and indeed a few professionals respect extravagance shoppers as homogeneous (Dubois 1992). However in Europe, for illustration, unobtrusive social and behavioural assortment and contrasts rise among German, Danish, French, Spanish, and Irish extravagance buyers, likely due to the solid French and Italian impacts that regularly get forced on other European national markets. Extravagance utilisation behaviour can moreover changeessentially between regions, way of life, expendable wage, and over age bunches (Silverstein and Fiske 2003a).The new topic elegant and cool communicates personal taste, separates the respondent from others, and makes a difference illustrate modernity, observing capacities, or victory. Buyers in this way utilise items to send signals around who they are and their objectives. This topic moreover recognises the wants to seem “hip,” see in vogue, and feel special. Unmentionables, design extras, observes, and gems empower the participants, as buyers, to specific their style, information, taste, and values. In spite of the fact that our members don't show up driven basically by a crave for status, nor do they express uncritical captivation with a brand title, they still care almost the messages that merchandise and brands provide approximately their person fashion.The GDP development variable is positive and noteworthy. This suggests that outside speculators are pulled in to have nations with huge markets (market-seeking FDI). This finding is reliable with Bannaga et al. (2013).Trade openness variable is positive and critical. Potential remote speculators are able to gotten to be well educated approximately the nearby conditions of their worldwide exchange accomplices when exchange is freed. Subsequently, outside financial specialists favour contributing in nations with sizable exchange volume. This result is in line with Elfakhani and Matar (2007).Middle easterner economies ought to decrease political hazard by democratising their political frameworks, which may offer assistance settle the locale. They may accomplish legislative soundness by following the equitable change to worldwide community benchmarks in terms of regard for crucial human rights, reinforcing the role of law and advancing national decisions. Middle easterner economies ought to control debasement by supporting the run the show of law and building a successful, unbiased and straightforward legitimate framework. The successful procedure to upgrade the run the show of law requires the foundation of a legal framework in which all people, teach and indeed the government are responsible to laws that are consistently implemented and freely settled. Speculation legislations must secure and ensure ventures within the locale, and ought to be coherent with worldwide guidelines to extend certainty and decrease the risk of apportionment or nationalisation of remote speculations. There's a requirement for the locale to advance law based responsibility by receiving a administration framework based on regulation commitments in giving straightforward data almost open decisions and empowering gracious society to redress or authorise choices that don't follow to the order of law. Constitutions ought to avoid political parties from setting up or getting to be included in military strengths, to avoid the dangers of take-over of a chosen government or of debilitating its capacity to operate viably. LaDuke’s organisation restricts the proposed course for the modern pipeline, dreading that development and potential spills along the modern course would debilitate the wellbeing of watersheds and Ojibwe lands in Minnesota. “You don’t get to take off a mess in put for the state of Minnesota and tribes, who are exceptionally affected by this since it crosses three reservations, to clean up,” says LaDuke.In Canada, the modern Line 3 has as of now been built. The ancient line will be cleaned out and surrendered in put another year. The country’s National Vitality Board directs pipelines that cross borders and requires companies to yield an arrangement some time recently abandoning a pipeline that incorporates how they’ll set aside reserves to screen the decommissioned pipeline and pay attention of any issues that emerge. It’s a arrangement that’s missing within the US, in spite of the fact that the US Pipeline and Dangerous Materials Security Organisation requires deserted pipelines cleared out in put to be detached, cleansed of unsafe materials, and fixed.An evaluated 140 million individuals misplaced their employments after India bolted down its economy in Walk to halt the flare-up, whereas numerous others saw their pay rates definitely decreased, the Mumbai-based Center for Observing Indian Economy said. As the lockdown was facilitated, numerous went back to work, but more than six million individuals who misplaced occupations haven’t found unused employment.In a June study by the All India Producers Organisation, approximately one-third of little and medium-sized undertakings shown that their businesses were past sparing. The industry bunch said that such a “mass pulverisation of business” was unprecedented.As a run the show, they are created utilising physical strategies. For occurrence, much appreciated to the most modest high-frequency electron developments, the electrical resistance of a wire isn't consistent but instep vacillates marginally in an unpredictable way. Meaning estimations of this foundation commotion can be utilised to produce genuine irregular numbers.Presently, for the primary time, an investigation group driven by Robert Grass, Teacher at the Established of Chemical and Bioengineering, has portrayed a non-physical strategy of producing such numbers: one that employments biochemical signals and actually works in hone. Within the past, the thoughts put forward by other researchers for producing arbitrary numbers by chemical implies tended to be generally hypothetical.It’s all the more vital since the long run for oil and gas companies is more questionable than ever, which makes long-term of their pipelines more questionable, as well. The time will come when the US will got to figure with the destiny of all its pipelines — and when that time comes, the companies that worked them seem now not be around to bargain with them. The COVID-19 widespread alone sent oil and gas companies faltering toward insolvency. Indeed after the economy recoups from the pandemic, there will be more challenges ahead. Worldwide endeavours to handle climate alter, embraced within the point of interest 2015 Paris climate agreement, set countries on a way to cut down nursery gas outflows from burning fossil fills to net zero by 2050. Meaning a future with more renewables and small to no oil and gas.In long haul as unrefined oil request diminishes, we would anticipate to see increasingly pipelines being abandoned,” says Blackburn. “With the oil industry having less and less cash within the future, the hazard gets to be more noteworthy and more prominent that they’ll fair walk absent from their pipelines and take off landowners holding the bag.In any case, an examination appeared that the conveyance of the four building squares A, C, G and T was not totally indeed. Either the complexities of nature or the amalgamation strategy conveyed driven to the bases G and T being coordinates more habitually within the atoms than A and C. Inany case, the researchers were able to adjust this predisposition with a straightforward calculation, subsequently producing idealise irregular numbers.The most point of ETH Teacher Grass and his group was to appear that arbitrary events in chemical response can be misused to produce culminate irregular numbers. Interpreting the finding into a coordinate application was not a prime concern at to begin with. \\\"Compared with other strategies, be that as it may, our own has the advantage of being able to produce colossal amounts of haphazardness that can be put away in an amazingly little space, a single test tube,\\\" Grass says. \\\"Able to examined out the data and reinterpret it in computerised shape at a afterward date. Usually incomprehensible with the past methods.”India’s economy shrank 7.5 percent within the three months that finished in September compared with a year prior, government figures appeared on Friday. The information reflects the extending of India’s severest subsidence since at slightest 1996, when the nation to begin with started distributing its net household item numbers.The unused figures immovably hidden India’s position among the world’s worst-performing major economies, in spite of broad government investing outlined to protect the thousands of little businesses seriously battered by its long, quickly forced lockdown.Material manufacturing plants, calfskin tanneries, brick ovens, foundries and other little ventures shape “part of the country’s social texture, bringing nearby riches and neighborhood employment,” said Venkatachalam Anbumozhi, an financial specialist who centers on south and East Asia. Just many a long time back, India, with a populace of 1.3 billion individuals, was one of the world’s fastest-growing huge economies. It frequently clocked development of 8 percent or more.Global businesses started to warm to the thought of India as a potential substitute to China, both as a put to create merchandise and to offer them. China’s costs are rising, and its exchange war with the Joined together States has complicated doing trade there. The Chinese Communist Party is progressively interfering into commerce things, and nearby Chinese competitors have increased their amusement against universal brands. The significance of export-platform FDI is reported in a think about by Hanson, Mataloni, and Butcher (2001). Utilising information on the remote operations of US multinationals, they report that in spite of the fact that the normal share of trades in partner deals has remained steady at approximately one-third, there has been a significant increment in Mexico and Canada after the arrangement of NAFTA. Their econometric examination recommends that trade stage FDI is advanced by moo host-country exchange boundaries and disheartened by expansive host-country markets.Within the past decade, the worldwide commercial center has experienced the democratisation of extravagance, driven by a continually developing optimistic customer portion. This prevalent frame of unused extravagance (Silverstein and Fiske 2003a) centers on human association, self- expression, unlimited dissemination, and acknowledgment from others. Unused extravagance, too alluded to as “masstige” (i.e., mass glory; Cornell 2002), challenges routine convictions around extravagance showcasing and branding, counting estimating and cost focuses, brand expansions, buyer request, modernity, showcase steadiness, and the time required to reach the center lesson. The promoting of extravagance has contributed altogether to the democratisation of extravagance, but its impact truly is auxiliary to the impact of changing utilisation designs.The primary case we consider includes symmetric exchange costs on all joins, so that the two firms will each embrace the same number of plants, and either both or not one or the other will have a plant in S and, when they do, the trade designs of those plants will be symmetric. Third-country trade-stage generation emerges when moo generation costs in S lead a firm to utilise S to serve the other N nation, but the investment funds on settled costs from closing the domestic plant don't balanced the costs of shipping components to S and last yield back domestic.The US is an insider nation with regard to the NAFTA nations, Canada and Mexico, whereas it is an untouchable nation with regard to the coordinates European showcase. The US has distant-coming to special exchanging assentions with Israel, but so has the EU. The nations in Southeast Asia are ordinary low-cost nations that, not at all like Mexico and the nations in Southern Europe, don't have a place to a territorial free-trade region. We in this way need to utilise Southeast Asian nations as a group against which to assess comes about for NAFTA and the EU. Israel will be indicated independently as well.Effective teach secure property rights. The universal economy is getting to be a knowledge-based economy; as a result, mental property rights are getting to be ever more imperative. Their assurance is essential since those who deliver merchandise and administrations can be enough remunerated. The esteem of property rights can rapidly be crushed unless governments uphold rights in this range (Divider et al., 2010). The degree to which outside undertakings can increment ventures in a nation depends on the degree to which that nation has made teach and arrangements for ensuring mental property rights, and a government's adequacy in implementing these rights influences the choices of outside undertakings to enter a host nation, and how they work once there. Frail mental property rights dishearten remote financial specialists, especially in technology-intensive divisions, and energise ventures in ventures that center on dispersion, that's , trading to the host nation, instead of setting up generation plants that might give FDI spillovers; (Rondinelli, 2005).Promoting such offerings within the Joined together States moreover requires another move by firms and brands, that's , numerous analysts and indeed a few professionals respect extravagance shoppers as homogeneous (Dubois 1992). However in Europe, for illustration, unobtrusive social and behavioural assortment and contrasts rise among German, Danish, French, Spanish, and Irish extravagance buyers, likely due to the solid French and Italian impacts that regularly get forced on other European national markets. Extravagance utilisation behaviour can moreover changeessentially between regions, way of life, expendable wage, and over age bunches (Silverstein and Fiske 2003a).The new topic elegant and cool communicates personal taste, separates the respondent from others, and makes a difference illustrate modernity, observing capacities, or victory. Buyers in this way utilise items to send signals around who they are and their objectives. This topic moreover recognises the wants to seem “hip,” see in vogue, and feel special. Unmentionables, design extras, observes, and gems empower the participants, as buyers, to specific their style, information, taste, and values. In spite of the fact that our members don't show up driven basically by a crave for status, nor do they express uncritical captivation with a brand title, they still care almost the messages that merchandise and brands provide approximately their person fashion.The GDP development variable is positive and noteworthy. This suggests that outside speculators are pulled in to have nations with huge markets (market-seeking FDI). This finding is reliable with Bannaga et al. (2013).Trade openness variable is positive and critical. Potential remote speculators are able to gotten to be well educated approximately the nearby conditions of their worldwide exchange accomplices when exchange is freed. Subsequently, outside financial specialists favour contributing in nations with sizable exchange volume. This result is in line with Elfakhani and Matar (2007).Middle easterner economies ought to decrease political hazard by democratising their political frameworks, which may offer assistance settle the locale. They may accomplish legislative soundness by following the equitable change to worldwide community benchmarks in terms of regard for crucial human rights, reinforcing the role of law and advancing national decisions. Middle easterner economies ought to control debasement by supporting the run the show of law and building a successful, unbiased and straightforward legitimate framework. The successful procedure to upgrade the run the show of law requires the foundation of a legal framework in which all people, teach and indeed the government are responsible to laws that are consistently implemented and freely settled. Speculation legislations must secure and ensure ventures within the locale, and ought to be coherent with worldwide guidelines to extend certainty and decrease the risk of apportionment or nationalisation of remote speculations. There's a requirement for the locale to advance law based responsibility by receiving a administration framework based on regulation commitments in giving straightforward data almost open decisions and empowering gracious society to redress or authorise choices that don't follow to the order of law. Constitutions ought to avoid political parties from setting up or getting to be included in military strengths, to avoid the dangers of take-over of a chosen government or of debilitating its capacity to operate viably. LaDuke’s organisation restricts the proposed course for the modern pipeline, dreading that development and potential spills along the modern course would debilitate the wellbeing of watersheds and Ojibwe lands in Minnesota. “You don’t get to take off a mess in put for the state of Minnesota and tribes, who are exceptionally affected by this since it crosses three reservations, to clean up,” says LaDuke.In Canada, the modern Line 3 has as of now been built. The ancient line will be cleaned out and surrendered in put another year. The country’s National Vitality Board directs pipelines that cross borders and requires companies to yield an arrangement some time recently abandoning a pipeline that incorporates how they’ll set aside reserves to screen the decommissioned pipeline and pay attention of any issues that emerge. It’s a arrangement that’s missing within the US, in spite of the fact that the US Pipeline and Dangerous Materials Security Organisation requires deserted pipelines cleared out in put to be detached, cleansed of unsafe materials, and fixed.An evaluated 140 million individuals misplaced their employments after India bolted down its economy in Walk to halt the flare-up, whereas numerous others saw their pay rates definitely decreased, the Mumbai-based Center for Observing Indian Economy said. As the lockdown was facilitated, numerous went back to work, but more than six million individuals who misplaced occupations haven’t found unused employment.In a June study by the All India Producers Organisation, approximately one-third of little and medium-sized undertakings shown that their businesses were past sparing. The industry bunch said that such a “mass pulverisation of business” was unprecedented.As a run the show, they are created utilising physical strategies. For occurrence, much appreciated to the most modest high-frequency electron developments, the electrical resistance of a wire isn't consistent but instep vacillates marginally in an unpredictable way. Meaning estimations of this foundation commotion can be utilised to produce genuine irregular numbers.Presently, for the primary time, an investigation group driven by Robert Grass, Teacher at the Established of Chemical and Bioengineering, has portrayed a non-physical strategy of producing such numbers: one that employments biochemical signals and actually works in hone. Within the past, the thoughts put forward by other researchers for producing arbitrary numbers by chemical implies tended to be generally hypothetical.It’s all the more vital since the long run for oil and gas companies is more questionable than ever, which makes long-term of their pipelines more questionable, as well. The time will come when the US will got to figure with the destiny of all its pipelines — and when that time comes, the companies that worked them seem now not be around to bargain with them. The COVID-19 widespread alone sent oil and gas companies faltering toward insolvency. Indeed after the economy recoups from the pandemic, there will be more challenges ahead. Worldwide endeavours to handle climate alter, embraced within the point of interest 2015 Paris climate agreement, set countries on a way to cut down nursery gas outflows from burning fossil fills to net zero by 2050. Meaning a future with more renewables and small to no oil and gas.In long haul as unrefined oil request diminishes, we would anticipate to see increasingly pipelines being abandoned,” says Blackburn. “With the oil industry having less and less cash within the future, the hazard gets to be more noteworthy and more prominent that they’ll fair walk absent from their pipelines and take off landowners holding the bag.In any case, an examination appeared that the conveyance of the four building squares A, C, G and T was not totally indeed. Either the complexities of nature or the amalgamation strategy conveyed driven to the bases G and T being coordinates more habitually within the atoms than A and C. Inany case, the researchers were able to adjust this predisposition with a straightforward calculation, subsequently producing idealise irregular numbers.The most point of ETH Teacher Grass and his group was to appear that arbitrary events in chemical response can be misused to produce culminate irregular numbers. Interpreting the finding into a coordinate application was not a prime concern at to begin with. \\\"Compared with other strategies, be that as it may, our own has the advantage of being able to produce colossal amounts of haphazardness that can be put away in an amazingly little space, a single test tube,\\\" Grass says. \\\"Able to examined out the data and reinterpret it in computerised shape at a afterward date. Usually incomprehensible with the past methods.”India’s economy shrank 7.5 percent within the three months that finished in September compared with a year prior, government figures appeared on Friday. The information reflects the extending of India’s severest subsidence since at slightest 1996, when the nation to begin with started distributing its net household item numbers.The unused figures immovably hidden India’s position among the world’s worst-performing major economies, in spite of broad government investing outlined to protect the thousands of little businesses seriously battered by its long, quickly forced lockdown.Material manufacturing plants, calfskin tanneries, brick ovens, foundries and other little ventures shape “part of the country’s social texture, bringing nearby riches and neighborhood employment,” said Venkatachalam Anbumozhi, an financial specialist who centers on south and East Asia. Just many a long time back, India, with a populace of 1.3 billion individuals, was one of the world’s fastest-growing huge economies. It frequently clocked development of 8 percent or more.Global businesses started to warm to the thought of India as a potential substitute to China, both as a put to create merchandise and to offer them. China’s costs are rising, and its exchange war with the Joined together States has complicated doing trade there. The Chinese Communist Party is progressively interfering into commerce things, and nearby Chinese competitors have increased their amusement against universal brands.\"]\n",
        "\n",
        "samp_candidate_long = [\"The importance of export-platform FDI is documented in a study by Hanson, Mataloni, and Slaughter (2001). Using data on the foreign operations of US multinationals, they report that although the average share of exports in affiliate sales has remained constant at about one-third, there has been a substantial increase in Mexico and Canada after the formation of NAFTA. Their econometric analysis suggests that export platform FDI is promoted by low host-country trade barriers and discouraged by large host-country markets.In the past decade, the global marketplace has experienced the democratization of luxury, driven by a constantly growing aspirational consumer segment. This popular form of new luxury (Silverstein and Fiske 2003a) focuses on human involvement, self-expression, unrestricted distribution, and recognition from others. New luxury, also referred to as “masstige” (i.e., mass prestige; Cornell 2002), challenges conventional beliefs about luxury marketing and branding, including pricing and price points, brand extensions, consumer demand, sophistication, market stability, and the time needed to reach the middle class. The marketing of luxury has contributed significantly to the democratization of luxury, but its effect really is secondary to the influence of changing consumption patterns.The first case we consider involves symmetric trade costs on all links, so that the two firms will each adopt the same number of plants, and either both or neither will have a plant in S and, when they do, the export patterns of those plants will be symmetric. Third-country export-platform production arises when low production costs in S lead a firm to use S to serve the other N country, but the savings on fixed costs from closing the home plant do not offset the costs of shipping components to S and final output back home.The US is an insider country with respect to the NAFTA countries, Canada and Mexico, while it is an outsider country with respect to the integrated European market. The US has far-reaching preferential trading agreements with Israel, but so has the EU. The countries in Southeast Asia are typical low-cost countries that, unlike Mexico and the countries in Southern Europe, do not belong to a regional free-trade area. We thus want to use Southeast Asian countries as a group against which to evaluate results for NAFTA and the EU. Israel will be specified separately as well.Efficient institutions protect property rights. The international economy is becoming a knowledge- based economy; as a result, intellectual property rights are becoming ever more important. Their protection is necessary because those who produce goods and services can be adequately rewarded. The value of property rights can quickly be destroyed unless governments enforce rights in this area (Wall et al., 2010). The degree to which foreign enterprises can increase investments in a country relies on the degree to which that country has created institutions and policies for protecting intellectual property rights, and a government's effectiveness in enforcing these rights affects the decisions of foreign enterprises to enter a host country, and how they operate once there. Weak intellectual property rights discourage foreign investors, particularly in technology-intensive sectors, and encourage investments in projects that focus on distribution, that is, exporting to the host country, rather than establishing production plants that could provide FDI spillovers; (Rondinelli, 2005).Marketing such offerings in the United States also requires another shift by firms and brands, that is, many researchers and even some practitioners regard luxury consumers as homogeneous (Dubois 1992). Yet in Europe, for example, subtle cultural and behavioral variety and differences emerge among German, Danish, French, Spanish, and Irish luxury consumers, likely due to the strong French and Italian influences that often get imposed on other European national markets. Luxury consumption behavior can also vary significantly between localities, lifestyle, disposable income, and across age groups (Silverstein and Fiske 2003a).The emergent theme fashionable and cool expresses personal taste, differentiates the respondent from others, and helps demonstrate sophistication, discerning abilities, or success. Consumers thus use products to send signals about who they are and their goals. This theme also acknowledges the desires to appear “hip,” look stylish, and feel unique. Lingerie, fashion accessories, watches, and jewelry enable the participants, as consumers, to express their style, knowledge, taste, and values. Although our participants do not appear driven primarily by a desire for status, nor do they express uncritical infatuation with a brand name, they still care about the messages that goods and brands deliver about their individual style.The GDP growth variable is positive and significant. This implies that foreign investors are attracted to host countries with large markets (market-seeking FDI). This finding is consistent with Bannaga et al. (2013).Trade openness variable is positive and significant. Potential foreign investors are able to become well informed about the local conditions of their international trade partners when trade is liberated. Therefore, foreign investors prefer investing in countries with sizeable trade volume. This result is in line with Elfakhani and Matar (2007).Arab economies need to reduce political risk by democratising their political systems, which may help stabilise the region. They could achieve governmental stability by adhering the democratic transformation to international community benchmarks in terms of respect for fundamental human rights, strengthening the role of law and promoting national elections. Arab economies need to control corruption by supporting the rule of law and building an effective, impartial and transparent legal system. The effective strategy to enhance the rule of law requires the establishment of a judicial system in which all individuals, institutions and even the government are accountable to laws that are uniformly enforced and independently adjudicated. Investment legislations must protect and guarantee investments in the region, and should be coherent with global standards to increase confidence and reduce the risk of appropriation or nationalisation of foreign investments. There is a need for the region to promote democratic accountability by adopting a governance system based on institutional obligations in providing transparent information about public decisions and enabling civil society to correct or sanction decisions that do not adhere to the mandate of law. Constitutions should prevent political parties from establishing or becoming involved in military forces, to avoid the risks of take-over of an elected government or of weakening its ability to function effectively. LaDuke’s organization opposes the proposed route for the new pipeline, fearing that construction and potential spills along the new route would threaten the health of watersheds and Ojibwe lands in Minnesota. “You don’t get to leave a mess in place for the state of Minnesota and tribes, who are very impacted by this because it crosses three reservations, to clean up,” says LaDuke.In Canada, the new Line 3 has already been built. The old line will be cleaned out and abandoned in place next year. The country’s National Energy Board oversees pipelines that cross borders and requires companies to submit a plan before abandoning a pipeline that includes how they’ll set aside funds to monitor the decommissioned pipeline and take care of any problems that arise. It’s a provision that’s lacking in the US, although the US Pipeline and Hazardous Materials Safety Administration requires abandoned pipelines left in place to be disconnected, purged of hazardous materials, and sealed.An estimated 140 million people lost their jobs after India locked down its economy in March to stop the outbreak, while many others saw their salaries drastically reduced, the Mumbai-based Center for Monitoring Indian Economy said. As the lockdown was eased, many went back to work, but more than six million people who lost jobs haven’t found new employment.In a June survey by the All India Manufacturers Organization, about one-third of small and medium-sized enterprises indicated that their businesses were beyond saving. The industry group said that such a “mass destruction of business” was unprecedented.As a rule, they are generated using physical methods. For instance, thanks to the tiniest high- frequency electron movements, the electrical resistance of a wire is not constant but instead fluctuates slightly in an unpredictable way. That means measurements of this background noise can be used to generate true random numbers.Now, for the first time, a research team led by Robert Grass, Professor at the Institute of Chemical and Bioengineering, has described a non-physical method of generating such numbers: one that uses biochemical signals and actually works in practice. In the past, the ideas put forward by other scientists for generating random numbers by chemical means tended to be largely theoretical.It’s all the more important because the future for oil and gas companies is more uncertain than ever, which makes the future of their pipelines more uncertain, too. The time will come when the US will need to reckon with the fate of all its pipelines — and when that time comes, the companies that operated them could no longer be around to deal with them. The COVID-19 pandemic alone sent oil and gas companies stumbling toward bankruptcy. Even after the economy recovers from the pandemic, there will be more challenges ahead. Global efforts to tackle climate change, adopted in the landmark 2015 Paris climate accord, set nations on a path to cut down greenhouse gas emissions from burning fossil fuels to net zero by 2050. That means a future with more renewables and little to no oil and gas.“In the future as crude oil demand decreases, we would expect to see more and more pipelines being abandoned,” says Blackburn. “With the oil industry having less and less money in the future, the risk becomes greater and greater that they’ll just walk away from their pipelines and leave landowners holding the bag.”However, an analysis showed that the distribution of the four building blocks A, C, G and T was not completely even. Either the intricacies of nature or the synthesis method deployed led to the bases G and T being integrated more frequently in the molecules than A and C. Nonetheless, the scientists were able to correct this bias with a simple algorithm, thereby generating perfect random numbers.The main aim of ETH Professor Grass and his team was to show that random occurrences in chemical reaction can be exploited to generate perfect random numbers. Translating the finding into a direct application was not a prime concern at first. \\\"Compared with other methods, however,ours has the advantage of being able to generate huge quantities of randomness that can be stored in an extremely small space, a single test tube,\\\" Grass says. \\\"We can read out the information and reinterpret it in digital form at a later date. This is impossible with the previous methods.”India’s economy shrank 7.5 percent in the three months that ended in September compared with a year earlier, government figures showed on Friday. The data reflects the deepening of India’s severest recession since at least 1996, when the country first began publishing its gross domestic product numbers.The new figures firmly ensconced India’s position among the world’s worst- performing major economies, despite expansive government spending designed to rescue the thousands of small businesses severely battered by its long, hastily imposed lockdown.Textile factories, leather tanneries, brick kilns, foundries and other small enterprises form “part of the country’s social fabric, bringing local wealth and local employment,” said Venkatachalam Anbumozhi, an economist who focuses on South and East Asia.Just a few years ago, India, with a population of 1.3 billion people, was one of the world’s fastest-growing large economies. It regularly clocked growth of 8 percent or more.Global businesses began to warm to the idea of India as a potential substitute to China, both as a place to make goods and to sell them. China’s costs are rising, and its trade war with the United States has complicated doing business there. The Chinese Communist Party is increasingly intruding into business matters, and local Chinese competitors have upped their game against international brands. The importance of export-platform FDI is documented in a study by Hanson, Mataloni, and Slaughter (2001). Using data on the foreign operations of US multinationals, they report that although the average share of exports in affiliate sales has remained constant at about one-third, there has been a substantial increase in Mexico and Canada after the formation of NAFTA. Their econometric analysis suggests that export platform FDI is promoted by low host-country trade barriers and discouraged by large host-country markets.In the past decade, the global marketplace has experienced the democratization of luxury, driven by a constantly growing aspirational consumer segment. This popular form of new luxury (Silverstein and Fiske 2003a) focuses on human involvement, self-expression, unrestricted distribution, and recognition from others. New luxury, also referred to as “masstige” (i.e., mass prestige; Cornell 2002), challenges conventional beliefs about luxury marketing and branding, including pricing and price points, brand extensions, consumer demand, sophistication, market stability, and the time needed to reach the middle class. The marketing of luxury has contributed significantly to the democratization of luxury, but its effect really is secondary to the influence of changing consumption patterns.The first case we consider involves symmetric trade costs on all links, so that the two firms will each adopt the same number of plants, and either both or neither will have a plant in S and, when they do, the export patterns of those plants will be symmetric. Third-country export-platform production arises when low production costs in S lead a firm to use S to serve the other N country, but the savings on fixed costs from closing the home plant do not offset the costs of shipping components to S and final output back home.The US is an insider country with respect to the NAFTA countries, Canada and Mexico, while it is an outsider country with respect to the integrated European market. The US has far-reaching preferential trading agreements with Israel, but so has the EU. The countries in Southeast Asia are typical low-cost countries that, unlike Mexico and the countries in Southern Europe, do not belong to a regional free-trade area. We thus want to use Southeast Asian countries as a group against which to evaluate results for NAFTA and the EU. Israel will be specified separately as well.Efficient institutions protect property rights. The international economy is becoming a knowledge- based economy; as a result, intellectual property rights are becoming ever more important. Their protection is necessary because those who produce goods and services can be adequately rewarded. The value of property rights can quickly be destroyed unless governments enforce rights in this area (Wall et al., 2010). The degree to which foreign enterprises can increase investments in a country relies on the degree to which that country has created institutions and policies for protecting intellectual property rights, and a government's effectiveness in enforcing these rights affects the decisions of foreign enterprises to enter a host country, and how they operate once there. Weak intellectual property rights discourage foreign investors, particularly in technology-intensive sectors, and encourage investments in projects that focus on distribution, that is, exporting to the host country, rather than establishing production plants that could provide FDI spillovers; (Rondinelli, 2005).Marketing such offerings in the United States also requires another shift by firms and brands, that is, many researchers and even some practitioners regard luxury consumers as homogeneous (Dubois 1992). Yet in Europe, for example, subtle cultural and behavioral variety and differences emerge among German, Danish, French, Spanish, and Irish luxury consumers, likely due to the strong French and Italian influences that often get imposed on other European national markets. Luxury consumption behavior can also vary significantly between localities, lifestyle, disposable income, and across age groups (Silverstein and Fiske 2003a).The emergent theme fashionable and cool expresses personal taste, differentiates the respondent from others, and helps demonstrate sophistication, discerning abilities, or success. Consumers thus use products to send signals about who they are and their goals. This theme also acknowledges the desires to appear “hip,” look stylish, and feel unique. Lingerie, fashion accessories, watches, and jewelry enable the participants, as consumers, to express their style, knowledge, taste, and values. Although our participants do not appear driven primarily by a desire for status, nor do they express uncritical infatuation with a brand name, they still care about the messages that goods and brands deliver about their individual style.The GDP growth variable is positive and significant. This implies that foreign investors are attracted to host countries with large markets (market-seeking FDI). This finding is consistent with Bannaga et al. (2013).Trade openness variable is positive and significant. Potential foreign investors are able to become well informed about the local conditions of their international trade partners when trade is liberated. Therefore, foreign investors prefer investing in countries with sizeable trade volume. This result is in line with Elfakhani and Matar (2007).Arab economies need to reduce political risk by democratising their political systems, which may help stabilise the region. They could achieve governmental stability by adhering the democratic transformation to international community benchmarks in terms of respect for fundamental human rights, strengthening the role of law and promoting national elections. Arab economies need to control corruption by supporting the rule of law and building an effective, impartial and transparent legal system. The effective strategy to enhance the rule of law requires the establishment of a judicial system in which all individuals, institutions and even the government are accountable to laws that are uniformly enforced and independently adjudicated. Investment legislations must protect and guarantee investments in the region, and should be coherent with global standards to increase confidence and reduce the risk of appropriation or nationalisation of foreign investments. There is a need for the region to promote democratic accountability by adopting a governance system based on institutional obligations in providing transparent information about public decisions and enabling civil society to correct or sanction decisions that do not adhere to the mandate of law. Constitutions should prevent political parties from establishing or becoming involved in military forces, to avoid the risks of take-over of an elected government or of weakening its ability to function effectively. LaDuke’s organization opposes the proposed route for the new pipeline, fearing that construction and potential spills along the new route would threaten the health of watersheds and Ojibwe lands in Minnesota. “You don’t get to leave a mess in place for the state of Minnesota and tribes, who are very impacted by this because it crosses three reservations, to clean up,” says LaDuke.In Canada, the new Line 3 has already been built. The old line will be cleaned out and abandoned in place next year. The country’s National Energy Board oversees pipelines that cross borders and requires companies to submit a plan before abandoning a pipeline that includes how they’ll set aside funds to monitor the decommissioned pipeline and take care of any problems that arise. It’s a provision that’s lacking in the US, although the US Pipeline and Hazardous Materials Safety Administration requires abandoned pipelines left in place to be disconnected, purged of hazardous materials, and sealed.An estimated 140 million people lost their jobs after India locked down its economy in March to stop the outbreak, while many others saw their salaries drastically reduced, the Mumbai-based Center for Monitoring Indian Economy said. As the lockdown was eased, many went back to work, but more than six million people who lost jobs haven’t found new employment.In a June survey by the All India Manufacturers Organization, about one-third of small and medium-sized enterprises indicated that their businesses were beyond saving. The industry group said that such a “mass destruction of business” was unprecedented.As a rule, they are generated using physical methods. For instance, thanks to the tiniest high- frequency electron movements, the electrical resistance of a wire is not constant but instead fluctuates slightly in an unpredictable way. That means measurements of this background noise can be used to generate true random numbers.Now, for the first time, a research team led by Robert Grass, Professor at the Institute of Chemical and Bioengineering, has described a non-physical method of generating such numbers: one that uses biochemical signals and actually works in practice. In the past, the ideas put forward by other scientists for generating random numbers by chemical means tended to be largely theoretical.It’s all the more important because the future for oil and gas companies is more uncertain than ever, which makes the future of their pipelines more uncertain, too. The time will come when the US will need to reckon with the fate of all its pipelines — and when that time comes, the companies that operated them could no longer be around to deal with them. The COVID-19 pandemic alone sent oil and gas companies stumbling toward bankruptcy. Even after the economy recovers from the pandemic, there will be more challenges ahead. Global efforts to tackle climate change, adopted in the landmark 2015 Paris climate accord, set nations on a path to cut down greenhouse gas emissions from burning fossil fuels to net zero by 2050. That means a future with more renewables and little to no oil and gas.“In the future as crude oil demand decreases, we would expect to see more and more pipelines being abandoned,” says Blackburn. “With the oil industry having less and less money in the future, the risk becomes greater and greater that they’ll just walk away from their pipelines and leave landowners holding the bag.”However, an analysis showed that the distribution of the four building blocks A, C, G and T was not completely even. Either the intricacies of nature or the synthesis method deployed led to the bases G and T being integrated more frequently in the molecules than A and C. Nonetheless, the scientists were able to correct this bias with a simple algorithm, thereby generating perfect random numbers.The main aim of ETH Professor Grass and his team was to show that random occurrences in chemical reaction can be exploited to generate perfect random numbers. Translating the finding into a direct application was not a prime concern at first. \\\"Compared with other methods, however,ours has the advantage of being able to generate huge quantities of randomness that can be stored in an extremely small space, a single test tube,\\\" Grass says. \\\"We can read out the information and reinterpret it in digital form at a later date. This is impossible with the previous methods.”India’s economy shrank 7.5 percent in the three months that ended in September compared with a year earlier, government figures showed on Friday. The data reflects the deepening of India’s severest recession since at least 1996, when the country first began publishing its gross domestic product numbers.The new figures firmly ensconced India’s position among the world’s worst- performing major economies, despite expansive government spending designed to rescue the thousands of small businesses severely battered by its long, hastily imposed lockdown.Textile factories, leather tanneries, brick kilns, foundries and other small enterprises form “part of the country’s social fabric, bringing local wealth and local employment,” said Venkatachalam Anbumozhi, an economist who focuses on South and East Asia.Just a few years ago, India, with a population of 1.3 billion people, was one of the world’s fastest-growing large economies. It regularly clocked growth of 8 percent or more.Global businesses began to warm to the idea of India as a potential substitute to China, both as a place to make goods and to sell them. China’s costs are rising, and its trade war with the United States has complicated doing business there. The Chinese Communist Party is increasingly intruding into business matters, and local Chinese competitors have upped their game against international brands. The importance of export-platform FDI is documented in a study by Hanson, Mataloni, and Slaughter (2001). Using data on the foreign operations of US multinationals, they report that although the average share of exports in affiliate sales has remained constant at about one-third, there has been a substantial increase in Mexico and Canada after the formation of NAFTA. Their econometric analysis suggests that export platform FDI is promoted by low host-country trade barriers and discouraged by large host-country markets.In the past decade, the global marketplace has experienced the democratization of luxury, driven by a constantly growing aspirational consumer segment. This popular form of new luxury (Silverstein and Fiske 2003a) focuses on human involvement, self-expression, unrestricted distribution, and recognition from others. New luxury, also referred to as “masstige” (i.e., mass prestige; Cornell 2002), challenges conventional beliefs about luxury marketing and branding, including pricing and price points, brand extensions, consumer demand, sophistication, market stability, and the time needed to reach the middle class. The marketing of luxury has contributed significantly to the democratization of luxury, but its effect really is secondary to the influence of changing consumption patterns.The first case we consider involves symmetric trade costs on all links, so that the two firms will each adopt the same number of plants, and either both or neither will have a plant in S and, when they do, the export patterns of those plants will be symmetric. Third-country export-platform production arises when low production costs in S lead a firm to use S to serve the other N country, but the savings on fixed costs from closing the home plant do not offset the costs of shipping components to S and final output back home.The US is an insider country with respect to the NAFTA countries, Canada and Mexico, while it is an outsider country with respect to the integrated European market. The US has far-reaching preferential trading agreements with Israel, but so has the EU. The countries in Southeast Asia are typical low-cost countries that, unlike Mexico and the countries in Southern Europe, do not belong to a regional free-trade area. We thus want to use Southeast Asian countries as a group against which to evaluate results for NAFTA and the EU. Israel will be specified separately as well.Efficient institutions protect property rights. The international economy is becoming a knowledge- based economy; as a result, intellectual property rights are becoming ever more important. Their protection is necessary because those who produce goods and services can be adequately rewarded. The value of property rights can quickly be destroyed unless governments enforce rights in this area (Wall et al., 2010). The degree to which foreign enterprises can increase investments in a country relies on the degree to which that country has created institutions and policies for protecting intellectual property rights, and a government's effectiveness in enforcing these rights affects the decisions of foreign enterprises to enter a host country, and how they operate once there. Weak intellectual property rights discourage foreign investors, particularly in technology-intensive sectors, and encourage investments in projects that focus on distribution, that is, exporting to the host country, rather than establishing production plants that could provide FDI spillovers; (Rondinelli, 2005).Marketing such offerings in the United States also requires another shift by firms and brands, that is, many researchers and even some practitioners regard luxury consumers as homogeneous (Dubois 1992). Yet in Europe, for example, subtle cultural and behavioral variety and differences emerge among German, Danish, French, Spanish, and Irish luxury consumers, likely due to the strong French and Italian influences that often get imposed on other European national markets. Luxury consumption behavior can also vary significantly between localities, lifestyle, disposable income, and across age groups (Silverstein and Fiske 2003a).The emergent theme fashionable and cool expresses personal taste, differentiates the respondent from others, and helps demonstrate sophistication, discerning abilities, or success. Consumers thus use products to send signals about who they are and their goals. This theme also acknowledges the desires to appear “hip,” look stylish, and feel unique. Lingerie, fashion accessories, watches, and jewelry enable the participants, as consumers, to express their style, knowledge, taste, and values. Although our participants do not appear driven primarily by a desire for status, nor do they express uncritical infatuation with a brand name, they still care about the messages that goods and brands deliver about their individual style.The GDP growth variable is positive and significant. This implies that foreign investors are attracted to host countries with large markets (market-seeking FDI). This finding is consistent with Bannaga et al. (2013).Trade openness variable is positive and significant. Potential foreign investors are able to become well informed about the local conditions of their international trade partners when trade is liberated. Therefore, foreign investors prefer investing in countries with sizeable trade volume. This result is in line with Elfakhani and Matar (2007).Arab economies need to reduce political risk by democratising their political systems, which may help stabilise the region. They could achieve governmental stability by adhering the democratic transformation to international community benchmarks in terms of respect for fundamental human rights, strengthening the role of law and promoting national elections. Arab economies need to control corruption by supporting the rule of law and building an effective, impartial and transparent legal system. The effective strategy to enhance the rule of law requires the establishment of a judicial system in which all individuals, institutions and even the government are accountable to laws that are uniformly enforced and independently adjudicated. Investment legislations must protect and guarantee investments in the region, and should be coherent with global standards to increase confidence and reduce the risk of appropriation or nationalisation of foreign investments. There is a need for the region to promote democratic accountability by adopting a governance system based on institutional obligations in providing transparent information about public decisions and enabling civil society to correct or sanction decisions that do not adhere to the mandate of law. Constitutions should prevent political parties from establishing or becoming involved in military forces, to avoid the risks of take-over of an elected government or of weakening its ability to function effectively. LaDuke’s organization opposes the proposed route for the new pipeline, fearing that construction and potential spills along the new route would threaten the health of watersheds and Ojibwe lands in Minnesota. “You don’t get to leave a mess in place for the state of Minnesota and tribes, who are very impacted by this because it crosses three reservations, to clean up,” says LaDuke.In Canada, the new Line 3 has already been built. The old line will be cleaned out and abandoned in place next year. The country’s National Energy Board oversees pipelines that cross borders and requires companies to submit a plan before abandoning a pipeline that includes how they’ll set aside funds to monitor the decommissioned pipeline and take care of any problems that arise. It’s a provision that’s lacking in the US, although the US Pipeline and Hazardous Materials Safety Administration requires abandoned pipelines left in place to be disconnected, purged of hazardous materials, and sealed.An estimated 140 million people lost their jobs after India locked down its economy in March to stop the outbreak, while many others saw their salaries drastically reduced, the Mumbai-based Center for Monitoring Indian Economy said. As the lockdown was eased, many went back to work, but more than six million people who lost jobs haven’t found new employment.In a June survey by the All India Manufacturers Organization, about one-third of small and medium-sized enterprises indicated that their businesses were beyond saving. The industry group said that such a “mass destruction of business” was unprecedented.As a rule, they are generated using physical methods. For instance, thanks to the tiniest high- frequency electron movements, the electrical resistance of a wire is not constant but instead fluctuates slightly in an unpredictable way. That means measurements of this background noise can be used to generate true random numbers.Now, for the first time, a research team led by Robert Grass, Professor at the Institute of Chemical and Bioengineering, has described a non-physical method of generating such numbers: one that uses biochemical signals and actually works in practice. In the past, the ideas put forward by other scientists for generating random numbers by chemical means tended to be largely theoretical.It’s all the more important because the future for oil and gas companies is more uncertain than ever, which makes the future of their pipelines more uncertain, too. The time will come when the US will need to reckon with the fate of all its pipelines — and when that time comes, the companies that operated them could no longer be around to deal with them. The COVID-19 pandemic alone sent oil and gas companies stumbling toward bankruptcy. Even after the economy recovers from the pandemic, there will be more challenges ahead. Global efforts to tackle climate change, adopted in the landmark 2015 Paris climate accord, set nations on a path to cut down greenhouse gas emissions from burning fossil fuels to net zero by 2050. That means a future with more renewables and little to no oil and gas.“In the future as crude oil demand decreases, we would expect to see more and more pipelines being abandoned,” says Blackburn. “With the oil industry having less and less money in the future, the risk becomes greater and greater that they’ll just walk away from their pipelines and leave landowners holding the bag.”However, an analysis showed that the distribution of the four building blocks A, C, G and T was not completely even. Either the intricacies of nature or the synthesis method deployed led to the bases G and T being integrated more frequently in the molecules than A and C. Nonetheless, the scientists were able to correct this bias with a simple algorithm, thereby generating perfect random numbers.The main aim of ETH Professor Grass and his team was to show that random occurrences in chemical reaction can be exploited to generate perfect random numbers. Translating the finding into a direct application was not a prime concern at first. \\\"Compared with other methods, however,ours has the advantage of being able to generate huge quantities of randomness that can be stored in an extremely small space, a single test tube,\\\" Grass says. \\\"We can read out the information and reinterpret it in digital form at a later date. This is impossible with the previous methods.”India’s economy shrank 7.5 percent in the three months that ended in September compared with a year earlier, government figures showed on Friday. The data reflects the deepening of India’s severest recession since at least 1996, when the country first began publishing its gross domestic product numbers.The new figures firmly ensconced India’s position among the world’s worst- performing major economies, despite expansive government spending designed to rescue the thousands of small businesses severely battered by its long, hastily imposed lockdown.Textile factories, leather tanneries, brick kilns, foundries and other small enterprises form “part of the country’s social fabric, bringing local wealth and local employment,” said Venkatachalam Anbumozhi, an economist who focuses on South and East Asia.Just a few years ago, India, with a population of 1.3 billion people, was one of the world’s fastest-growing large economies. It regularly clocked growth of 8 percent or more.Global businesses began to warm to the idea of India as a potential substitute to China, both as a place to make goods and to sell them. China’s costs are rising, and its trade war with the United States has complicated doing business there. The Chinese Communist Party is increasingly intruding into business matters, and local Chinese competitors have upped their game against international brands. The importance of export-platform FDI is documented in a study by Hanson, Mataloni, and Slaughter (2001). Using data on the foreign operations of US multinationals, they report that although the average share of exports in affiliate sales has remained constant at about one-third, there has been a substantial increase in Mexico and Canada after the formation of NAFTA. Their econometric analysis suggests that export platform FDI is promoted by low host-country trade barriers and discouraged by large host-country markets.In the past decade, the global marketplace has experienced the democratization of luxury, driven by a constantly growing aspirational consumer segment. This popular form of new luxury (Silverstein and Fiske 2003a) focuses on human involvement, self-expression, unrestricted distribution, and recognition from others. New luxury, also referred to as “masstige” (i.e., mass prestige; Cornell 2002), challenges conventional beliefs about luxury marketing and branding, including pricing and price points, brand extensions, consumer demand, sophistication, market stability, and the time needed to reach the middle class. The marketing of luxury has contributed significantly to the democratization of luxury, but its effect really is secondary to the influence of changing consumption patterns.The first case we consider involves symmetric trade costs on all links, so that the two firms will each adopt the same number of plants, and either both or neither will have a plant in S and, when they do, the export patterns of those plants will be symmetric. Third-country export-platform production arises when low production costs in S lead a firm to use S to serve the other N country, but the savings on fixed costs from closing the home plant do not offset the costs of shipping components to S and final output back home.The US is an insider country with respect to the NAFTA countries, Canada and Mexico, while it is an outsider country with respect to the integrated European market. The US has far-reaching preferential trading agreements with Israel, but so has the EU. The countries in Southeast Asia are typical low-cost countries that, unlike Mexico and the countries in Southern Europe, do not belong to a regional free-trade area. We thus want to use Southeast Asian countries as a group against which to evaluate results for NAFTA and the EU. Israel will be specified separately as well.Efficient institutions protect property rights. The international economy is becoming a knowledge- based economy; as a result, intellectual property rights are becoming ever more important. Their protection is necessary because those who produce goods and services can be adequately rewarded. The value of property rights can quickly be destroyed unless governments enforce rights in this area (Wall et al., 2010). The degree to which foreign enterprises can increase investments in a country relies on the degree to which that country has created institutions and policies for protecting intellectual property rights, and a government's effectiveness in enforcing these rights affects the decisions of foreign enterprises to enter a host country, and how they operate once there. Weak intellectual property rights discourage foreign investors, particularly in technology-intensive sectors, and encourage investments in projects that focus on distribution, that is, exporting to the host country, rather than establishing production plants that could provide FDI spillovers; (Rondinelli, 2005).Marketing such offerings in the United States also requires another shift by firms and brands, that is, many researchers and even some practitioners regard luxury consumers as homogeneous (Dubois 1992). Yet in Europe, for example, subtle cultural and behavioral variety and differences emerge among German, Danish, French, Spanish, and Irish luxury consumers, likely due to the strong French and Italian influences that often get imposed on other European national markets. Luxury consumption behavior can also vary significantly between localities, lifestyle, disposable income, and across age groups (Silverstein and Fiske 2003a).The emergent theme fashionable and cool expresses personal taste, differentiates the respondent from others, and helps demonstrate sophistication, discerning abilities, or success. Consumers thus use products to send signals about who they are and their goals. This theme also acknowledges the desires to appear “hip,” look stylish, and feel unique. Lingerie, fashion accessories, watches, and jewelry enable the participants, as consumers, to express their style, knowledge, taste, and values. Although our participants do not appear driven primarily by a desire for status, nor do they express uncritical infatuation with a brand name, they still care about the messages that goods and brands deliver about their individual style.The GDP growth variable is positive and significant. This implies that foreign investors are attracted to host countries with large markets (market-seeking FDI). This finding is consistent with Bannaga et al. (2013).Trade openness variable is positive and significant. Potential foreign investors are able to become well informed about the local conditions of their international trade partners when trade is liberated. Therefore, foreign investors prefer investing in countries with sizeable trade volume. This result is in line with Elfakhani and Matar (2007).Arab economies need to reduce political risk by democratising their political systems, which may help stabilise the region. They could achieve governmental stability by adhering the democratic transformation to international community benchmarks in terms of respect for fundamental human rights, strengthening the role of law and promoting national elections. Arab economies need to control corruption by supporting the rule of law and building an effective, impartial and transparent legal system. The effective strategy to enhance the rule of law requires the establishment of a judicial system in which all individuals, institutions and even the government are accountable to laws that are uniformly enforced and independently adjudicated. Investment legislations must protect and guarantee investments in the region, and should be coherent with global standards to increase confidence and reduce the risk of appropriation or nationalisation of foreign investments. There is a need for the region to promote democratic accountability by adopting a governance system based on institutional obligations in providing transparent information about public decisions and enabling civil society to correct or sanction decisions that do not adhere to the mandate of law. Constitutions should prevent political parties from establishing or becoming involved in military forces, to avoid the risks of take-over of an elected government or of weakening its ability to function effectively. LaDuke’s organization opposes the proposed route for the new pipeline, fearing that construction and potential spills along the new route would threaten the health of watersheds and Ojibwe lands in Minnesota. “You don’t get to leave a mess in place for the state of Minnesota and tribes, who are very impacted by this because it crosses three reservations, to clean up,” says LaDuke.In Canada, the new Line 3 has already been built. The old line will be cleaned out and abandoned in place next year. The country’s National Energy Board oversees pipelines that cross borders and requires companies to submit a plan before abandoning a pipeline that includes how they’ll set aside funds to monitor the decommissioned pipeline and take care of any problems that arise. It’s a provision that’s lacking in the US, although the US Pipeline and Hazardous Materials Safety Administration requires abandoned pipelines left in place to be disconnected, purged of hazardous materials, and sealed.An estimated 140 million people lost their jobs after India locked down its economy in March to stop the outbreak, while many others saw their salaries drastically reduced, the Mumbai-based Center for Monitoring Indian Economy said. As the lockdown was eased, many went back to work, but more than six million people who lost jobs haven’t found new employment.In a June survey by the All India Manufacturers Organization, about one-third of small and medium-sized enterprises indicated that their businesses were beyond saving. The industry group said that such a “mass destruction of business” was unprecedented.As a rule, they are generated using physical methods. For instance, thanks to the tiniest high- frequency electron movements, the electrical resistance of a wire is not constant but instead fluctuates slightly in an unpredictable way. That means measurements of this background noise can be used to generate true random numbers.Now, for the first time, a research team led by Robert Grass, Professor at the Institute of Chemical and Bioengineering, has described a non-physical method of generating such numbers: one that uses biochemical signals and actually works in practice. In the past, the ideas put forward by other scientists for generating random numbers by chemical means tended to be largely theoretical.It’s all the more important because the future for oil and gas companies is more uncertain than ever, which makes the future of their pipelines more uncertain, too. The time will come when the US will need to reckon with the fate of all its pipelines — and when that time comes, the companies that operated them could no longer be around to deal with them. The COVID-19 pandemic alone sent oil and gas companies stumbling toward bankruptcy. Even after the economy recovers from the pandemic, there will be more challenges ahead. Global efforts to tackle climate change, adopted in the landmark 2015 Paris climate accord, set nations on a path to cut down greenhouse gas emissions from burning fossil fuels to net zero by 2050. That means a future with more renewables and little to no oil and gas.“In the future as crude oil demand decreases, we would expect to see more and more pipelines being abandoned,” says Blackburn. “With the oil industry having less and less money in the future, the risk becomes greater and greater that they’ll just walk away from their pipelines and leave landowners holding the bag.”However, an analysis showed that the distribution of the four building blocks A, C, G and T was not completely even. Either the intricacies of nature or the synthesis method deployed led to the bases G and T being integrated more frequently in the molecules than A and C. Nonetheless, the scientists were able to correct this bias with a simple algorithm, thereby generating perfect random numbers.The main aim of ETH Professor Grass and his team was to show that random occurrences in chemical reaction can be exploited to generate perfect random numbers. Translating the finding into a direct application was not a prime concern at first. \\\"Compared with other methods, however,ours has the advantage of being able to generate huge quantities of randomness that can be stored in an extremely small space, a single test tube,\\\" Grass says. \\\"We can read out the information and reinterpret it in digital form at a later date. This is impossible with the previous methods.”India’s economy shrank 7.5 percent in the three months that ended in September compared with a year earlier, government figures showed on Friday. The data reflects the deepening of India’s severest recession since at least 1996, when the country first began publishing its gross domestic product numbers.The new figures firmly ensconced India’s position among the world’s worst- performing major economies, despite expansive government spending designed to rescue the thousands of small businesses severely battered by its long, hastily imposed lockdown.Textile factories, leather tanneries, brick kilns, foundries and other small enterprises form “part of the country’s social fabric, bringing local wealth and local employment,” said Venkatachalam Anbumozhi, an economist who focuses on South and East Asia.Just a few years ago, India, with a population of 1.3 billion people, was one of the world’s fastest-growing large economies. It regularly clocked growth of 8 percent or more.Global businesses began to warm to the idea of India as a potential substitute to China, both as a place to make goods and to sell them. China’s costs are rising, and its trade war with the United States has complicated doing business there. The Chinese Communist Party is increasingly intruding into business matters, and local Chinese competitors have upped their game against international brands. The importance of export-platform FDI is documented in a study by Hanson, Mataloni, and Slaughter (2001). Using data on the foreign operations of US multinationals, they report that although the average share of exports in affiliate sales has remained constant at about one-third, there has been a substantial increase in Mexico and Canada after the formation of NAFTA. Their econometric analysis suggests that export platform FDI is promoted by low host-country trade barriers and discouraged by large host-country markets.In the past decade, the global marketplace has experienced the democratization of luxury, driven by a constantly growing aspirational consumer segment. This popular form of new luxury (Silverstein and Fiske 2003a) focuses on human involvement, self-expression, unrestricted distribution, and recognition from others. New luxury, also referred to as “masstige” (i.e., mass prestige; Cornell 2002), challenges conventional beliefs about luxury marketing and branding, including pricing and price points, brand extensions, consumer demand, sophistication, market stability, and the time needed to reach the middle class. The marketing of luxury has contributed significantly to the democratization of luxury, but its effect really is secondary to the influence of changing consumption patterns.The first case we consider involves symmetric trade costs on all links, so that the two firms will each adopt the same number of plants, and either both or neither will have a plant in S and, when they do, the export patterns of those plants will be symmetric. Third-country export-platform production arises when low production costs in S lead a firm to use S to serve the other N country, but the savings on fixed costs from closing the home plant do not offset the costs of shipping components to S and final output back home.The US is an insider country with respect to the NAFTA countries, Canada and Mexico, while it is an outsider country with respect to the integrated European market. The US has far-reaching preferential trading agreements with Israel, but so has the EU. The countries in Southeast Asia are typical low-cost countries that, unlike Mexico and the countries in Southern Europe, do not belong to a regional free-trade area. We thus want to use Southeast Asian countries as a group against which to evaluate results for NAFTA and the EU. Israel will be specified separately as well.Efficient institutions protect property rights. The international economy is becoming a knowledge- based economy; as a result, intellectual property rights are becoming ever more important. Their protection is necessary because those who produce goods and services can be adequately rewarded. The value of property rights can quickly be destroyed unless governments enforce rights in this area (Wall et al., 2010). The degree to which foreign enterprises can increase investments in a country relies on the degree to which that country has created institutions and policies for protecting intellectual property rights, and a government's effectiveness in enforcing these rights affects the decisions of foreign enterprises to enter a host country, and how they operate once there. Weak intellectual property rights discourage foreign investors, particularly in technology-intensive sectors, and encourage investments in projects that focus on distribution, that is, exporting to the host country, rather than establishing production plants that could provide FDI spillovers; (Rondinelli, 2005).Marketing such offerings in the United States also requires another shift by firms and brands, that is, many researchers and even some practitioners regard luxury consumers as homogeneous (Dubois 1992). Yet in Europe, for example, subtle cultural and behavioral variety and differences emerge among German, Danish, French, Spanish, and Irish luxury consumers, likely due to the strong French and Italian influences that often get imposed on other European national markets. Luxury consumption behavior can also vary significantly between localities, lifestyle, disposable income, and across age groups (Silverstein and Fiske 2003a).The emergent theme fashionable and cool expresses personal taste, differentiates the respondent from others, and helps demonstrate sophistication, discerning abilities, or success. Consumers thus use products to send signals about who they are and their goals. This theme also acknowledges the desires to appear “hip,” look stylish, and feel unique. Lingerie, fashion accessories, watches, and jewelry enable the participants, as consumers, to express their style, knowledge, taste, and values. Although our participants do not appear driven primarily by a desire for status, nor do they express uncritical infatuation with a brand name, they still care about the messages that goods and brands deliver about their individual style.The GDP growth variable is positive and significant. This implies that foreign investors are attracted to host countries with large markets (market-seeking FDI). This finding is consistent with Bannaga et al. (2013).Trade openness variable is positive and significant. Potential foreign investors are able to become well informed about the local conditions of their international trade partners when trade is liberated. Therefore, foreign investors prefer investing in countries with sizeable trade volume. This result is in line with Elfakhani and Matar (2007).Arab economies need to reduce political risk by democratising their political systems, which may help stabilise the region. They could achieve governmental stability by adhering the democratic transformation to international community benchmarks in terms of respect for fundamental human rights, strengthening the role of law and promoting national elections. Arab economies need to control corruption by supporting the rule of law and building an effective, impartial and transparent legal system. The effective strategy to enhance the rule of law requires the establishment of a judicial system in which all individuals, institutions and even the government are accountable to laws that are uniformly enforced and independently adjudicated. Investment legislations must protect and guarantee investments in the region, and should be coherent with global standards to increase confidence and reduce the risk of appropriation or nationalisation of foreign investments. There is a need for the region to promote democratic accountability by adopting a governance system based on institutional obligations in providing transparent information about public decisions and enabling civil society to correct or sanction decisions that do not adhere to the mandate of law. Constitutions should prevent political parties from establishing or becoming involved in military forces, to avoid the risks of take-over of an elected government or of weakening its ability to function effectively. LaDuke’s organization opposes the proposed route for the new pipeline, fearing that construction and potential spills along the new route would threaten the health of watersheds and Ojibwe lands in Minnesota. “You don’t get to leave a mess in place for the state of Minnesota and tribes, who are very impacted by this because it crosses three reservations, to clean up,” says LaDuke.In Canada, the new Line 3 has already been built. The old line will be cleaned out and abandoned in place next year. The country’s National Energy Board oversees pipelines that cross borders and requires companies to submit a plan before abandoning a pipeline that includes how they’ll set aside funds to monitor the decommissioned pipeline and take care of any problems that arise. It’s a provision that’s lacking in the US, although the US Pipeline and Hazardous Materials Safety Administration requires abandoned pipelines left in place to be disconnected, purged of hazardous materials, and sealed.An estimated 140 million people lost their jobs after India locked down its economy in March to stop the outbreak, while many others saw their salaries drastically reduced, the Mumbai-based Center for Monitoring Indian Economy said. As the lockdown was eased, many went back to work, but more than six million people who lost jobs haven’t found new employment.In a June survey by the All India Manufacturers Organization, about one-third of small and medium-sized enterprises indicated that their businesses were beyond saving. The industry group said that such a “mass destruction of business” was unprecedented.As a rule, they are generated using physical methods. For instance, thanks to the tiniest high- frequency electron movements, the electrical resistance of a wire is not constant but instead fluctuates slightly in an unpredictable way. That means measurements of this background noise can be used to generate true random numbers.Now, for the first time, a research team led by Robert Grass, Professor at the Institute of Chemical and Bioengineering, has described a non-physical method of generating such numbers: one that uses biochemical signals and actually works in practice. In the past, the ideas put forward by other scientists for generating random numbers by chemical means tended to be largely theoretical.It’s all the more important because the future for oil and gas companies is more uncertain than ever, which makes the future of their pipelines more uncertain, too. The time will come when the US will need to reckon with the fate of all its pipelines — and when that time comes, the companies that operated them could no longer be around to deal with them. The COVID-19 pandemic alone sent oil and gas companies stumbling toward bankruptcy. Even after the economy recovers from the pandemic, there will be more challenges ahead. Global efforts to tackle climate change, adopted in the landmark 2015 Paris climate accord, set nations on a path to cut down greenhouse gas emissions from burning fossil fuels to net zero by 2050. That means a future with more renewables and little to no oil and gas.“In the future as crude oil demand decreases, we would expect to see more and more pipelines being abandoned,” says Blackburn. “With the oil industry having less and less money in the future, the risk becomes greater and greater that they’ll just walk away from their pipelines and leave landowners holding the bag.”However, an analysis showed that the distribution of the four building blocks A, C, G and T was not completely even. Either the intricacies of nature or the synthesis method deployed led to the bases G and T being integrated more frequently in the molecules than A and C. Nonetheless, the scientists were able to correct this bias with a simple algorithm, thereby generating perfect random numbers.The main aim of ETH Professor Grass and his team was to show that random occurrences in chemical reaction can be exploited to generate perfect random numbers. Translating the finding into a direct application was not a prime concern at first. \\\"Compared with other methods, however,ours has the advantage of being able to generate huge quantities of randomness that can be stored in an extremely small space, a single test tube,\\\" Grass says. \\\"We can read out the information and reinterpret it in digital form at a later date. This is impossible with the previous methods.”India’s economy shrank 7.5 percent in the three months that ended in September compared with a year earlier, government figures showed on Friday. The data reflects the deepening of India’s severest recession since at least 1996, when the country first began publishing its gross domestic product numbers.The new figures firmly ensconced India’s position among the world’s worst- performing major economies, despite expansive government spending designed to rescue the thousands of small businesses severely battered by its long, hastily imposed lockdown.Textile factories, leather tanneries, brick kilns, foundries and other small enterprises form “part of the country’s social fabric, bringing local wealth and local employment,” said Venkatachalam Anbumozhi, an economist who focuses on South and East Asia.Just a few years ago, India, with a population of 1.3 billion people, was one of the world’s fastest-growing large economies. It regularly clocked growth of 8 percent or more.Global businesses began to warm to the idea of India as a potential substitute to China, both as a place to make goods and to sell them. China’s costs are rising, and its trade war with the United States has complicated doing business there. The Chinese Communist Party is increasingly intruding into business matters, and local Chinese competitors have upped their game against international brands. The importance of export-platform FDI is documented in a study by Hanson, Mataloni, and Slaughter (2001). Using data on the foreign operations of US multinationals, they report that although the average share of exports in affiliate sales has remained constant at about one-third, there has been a substantial increase in Mexico and Canada after the formation of NAFTA. Their econometric analysis suggests that export platform FDI is promoted by low host-country trade barriers and discouraged by large host-country markets.In the past decade, the global marketplace has experienced the democratization of luxury, driven by a constantly growing aspirational consumer segment. This popular form of new luxury (Silverstein and Fiske 2003a) focuses on human involvement, self-expression, unrestricted distribution, and recognition from others. New luxury, also referred to as “masstige” (i.e., mass prestige; Cornell 2002), challenges conventional beliefs about luxury marketing and branding, including pricing and price points, brand extensions, consumer demand, sophistication, market stability, and the time needed to reach the middle class. The marketing of luxury has contributed significantly to the democratization of luxury, but its effect really is secondary to the influence of changing consumption patterns.The first case we consider involves symmetric trade costs on all links, so that the two firms will each adopt the same number of plants, and either both or neither will have a plant in S and, when they do, the export patterns of those plants will be symmetric. Third-country export-platform production arises when low production costs in S lead a firm to use S to serve the other N country, but the savings on fixed costs from closing the home plant do not offset the costs of shipping components to S and final output back home.The US is an insider country with respect to the NAFTA countries, Canada and Mexico, while it is an outsider country with respect to the integrated European market. The US has far-reaching preferential trading agreements with Israel, but so has the EU. The countries in Southeast Asia are typical low-cost countries that, unlike Mexico and the countries in Southern Europe, do not belong to a regional free-trade area. We thus want to use Southeast Asian countries as a group against which to evaluate results for NAFTA and the EU. Israel will be specified separately as well.Efficient institutions protect property rights. The international economy is becoming a knowledge- based economy; as a result, intellectual property rights are becoming ever more important. Their protection is necessary because those who produce goods and services can be adequately rewarded. The value of property rights can quickly be destroyed unless governments enforce rights in this area (Wall et al., 2010). The degree to which foreign enterprises can increase investments in a country relies on the degree to which that country has created institutions and policies for protecting intellectual property rights, and a government's effectiveness in enforcing these rights affects the decisions of foreign enterprises to enter a host country, and how they operate once there. Weak intellectual property rights discourage foreign investors, particularly in technology-intensive sectors, and encourage investments in projects that focus on distribution, that is, exporting to the host country, rather than establishing production plants that could provide FDI spillovers; (Rondinelli, 2005).Marketing such offerings in the United States also requires another shift by firms and brands, that is, many researchers and even some practitioners regard luxury consumers as homogeneous (Dubois 1992). Yet in Europe, for example, subtle cultural and behavioral variety and differences emerge among German, Danish, French, Spanish, and Irish luxury consumers, likely due to the strong French and Italian influences that often get imposed on other European national markets. Luxury consumption behavior can also vary significantly between localities, lifestyle, disposable income, and across age groups (Silverstein and Fiske 2003a).The emergent theme fashionable and cool expresses personal taste, differentiates the respondent from others, and helps demonstrate sophistication, discerning abilities, or success. Consumers thus use products to send signals about who they are and their goals. This theme also acknowledges the desires to appear “hip,” look stylish, and feel unique. Lingerie, fashion accessories, watches, and jewelry enable the participants, as consumers, to express their style, knowledge, taste, and values. Although our participants do not appear driven primarily by a desire for status, nor do they express uncritical infatuation with a brand name, they still care about the messages that goods and brands deliver about their individual style.The GDP growth variable is positive and significant. This implies that foreign investors are attracted to host countries with large markets (market-seeking FDI). This finding is consistent with Bannaga et al. (2013).Trade openness variable is positive and significant. Potential foreign investors are able to become well informed about the local conditions of their international trade partners when trade is liberated. Therefore, foreign investors prefer investing in countries with sizeable trade volume. This result is in line with Elfakhani and Matar (2007).Arab economies need to reduce political risk by democratising their political systems, which may help stabilise the region. They could achieve governmental stability by adhering the democratic transformation to international community benchmarks in terms of respect for fundamental human rights, strengthening the role of law and promoting national elections. Arab economies need to control corruption by supporting the rule of law and building an effective, impartial and transparent legal system. The effective strategy to enhance the rule of law requires the establishment of a judicial system in which all individuals, institutions and even the government are accountable to laws that are uniformly enforced and independently adjudicated. Investment legislations must protect and guarantee investments in the region, and should be coherent with global standards to increase confidence and reduce the risk of appropriation or nationalisation of foreign investments. There is a need for the region to promote democratic accountability by adopting a governance system based on institutional obligations in providing transparent information about public decisions and enabling civil society to correct or sanction decisions that do not adhere to the mandate of law. Constitutions should prevent political parties from establishing or becoming involved in military forces, to avoid the risks of take-over of an elected government or of weakening its ability to function effectively. LaDuke’s organization opposes the proposed route for the new pipeline, fearing that construction and potential spills along the new route would threaten the health of watersheds and Ojibwe lands in Minnesota. “You don’t get to leave a mess in place for the state of Minnesota and tribes, who are very impacted by this because it crosses three reservations, to clean up,” says LaDuke.In Canada, the new Line 3 has already been built. The old line will be cleaned out and abandoned in place next year. The country’s National Energy Board oversees pipelines that cross borders and requires companies to submit a plan before abandoning a pipeline that includes how they’ll set aside funds to monitor the decommissioned pipeline and take care of any problems that arise. It’s a provision that’s lacking in the US, although the US Pipeline and Hazardous Materials Safety Administration requires abandoned pipelines left in place to be disconnected, purged of hazardous materials, and sealed.An estimated 140 million people lost their jobs after India locked down its economy in March to stop the outbreak, while many others saw their salaries drastically reduced, the Mumbai-based Center for Monitoring Indian Economy said. As the lockdown was eased, many went back to work, but more than six million people who lost jobs haven’t found new employment.In a June survey by the All India Manufacturers Organization, about one-third of small and medium-sized enterprises indicated that their businesses were beyond saving. The industry group said that such a “mass destruction of business” was unprecedented.As a rule, they are generated using physical methods. For instance, thanks to the tiniest high- frequency electron movements, the electrical resistance of a wire is not constant but instead fluctuates slightly in an unpredictable way. That means measurements of this background noise can be used to generate true random numbers.Now, for the first time, a research team led by Robert Grass, Professor at the Institute of Chemical and Bioengineering, has described a non-physical method of generating such numbers: one that uses biochemical signals and actually works in practice. In the past, the ideas put forward by other scientists for generating random numbers by chemical means tended to be largely theoretical.It’s all the more important because the future for oil and gas companies is more uncertain than ever, which makes the future of their pipelines more uncertain, too. The time will come when the US will need to reckon with the fate of all its pipelines — and when that time comes, the companies that operated them could no longer be around to deal with them. The COVID-19 pandemic alone sent oil and gas companies stumbling toward bankruptcy. Even after the economy recovers from the pandemic, there will be more challenges ahead. Global efforts to tackle climate change, adopted in the landmark 2015 Paris climate accord, set nations on a path to cut down greenhouse gas emissions from burning fossil fuels to net zero by 2050. That means a future with more renewables and little to no oil and gas.“In the future as crude oil demand decreases, we would expect to see more and more pipelines being abandoned,” says Blackburn. “With the oil industry having less and less money in the future, the risk becomes greater and greater that they’ll just walk away from their pipelines and leave landowners holding the bag.”However, an analysis showed that the distribution of the four building blocks A, C, G and T was not completely even. Either the intricacies of nature or the synthesis method deployed led to the bases G and T being integrated more frequently in the molecules than A and C. Nonetheless, the scientists were able to correct this bias with a simple algorithm, thereby generating perfect random numbers.The main aim of ETH Professor Grass and his team was to show that random occurrences in chemical reaction can be exploited to generate perfect random numbers. Translating the finding into a direct application was not a prime concern at first. \\\"Compared with other methods, however,ours has the advantage of being able to generate huge quantities of randomness that can be stored in an extremely small space, a single test tube,\\\" Grass says. \\\"We can read out the information and reinterpret it in digital form at a later date. This is impossible with the previous methods.”India’s economy shrank 7.5 percent in the three months that ended in September compared with a year earlier, government figures showed on Friday. The data reflects the deepening of India’s severest recession since at least 1996, when the country first began publishing its gross domestic product numbers.The new figures firmly ensconced India’s position among the world’s worst- performing major economies, despite expansive government spending designed to rescue the thousands of small businesses severely battered by its long, hastily imposed lockdown.Textile factories, leather tanneries, brick kilns, foundries and other small enterprises form “part of the country’s social fabric, bringing local wealth and local employment,” said Venkatachalam Anbumozhi, an economist who focuses on South and East Asia.Just a few years ago, India, with a population of 1.3 billion people, was one of the world’s fastest-growing large economies. It regularly clocked growth of 8 percent or more.Global businesses began to warm to the idea of India as a potential substitute to China, both as a place to make goods and to sell them. China’s costs are rising, and its trade war with the United States has complicated doing business there. The Chinese Communist Party is increasingly intruding into business matters, and local Chinese competitors have upped their game against international brands. The importance of export-platform FDI is documented in a study by Hanson, Mataloni, and Slaughter (2001). Using data on the foreign operations of US multinationals, they report that although the average share of exports in affiliate sales has remained constant at about one-third, there has been a substantial increase in Mexico and Canada after the formation of NAFTA. Their econometric analysis suggests that export platform FDI is promoted by low host-country trade barriers and discouraged by large host-country markets.In the past decade, the global marketplace has experienced the democratization of luxury, driven by a constantly growing aspirational consumer segment. This popular form of new luxury (Silverstein and Fiske 2003a) focuses on human involvement, self-expression, unrestricted distribution, and recognition from others. New luxury, also referred to as “masstige” (i.e., mass prestige; Cornell 2002), challenges conventional beliefs about luxury marketing and branding, including pricing and price points, brand extensions, consumer demand, sophistication, market stability, and the time needed to reach the middle class. The marketing of luxury has contributed significantly to the democratization of luxury, but its effect really is secondary to the influence of changing consumption patterns.The first case we consider involves symmetric trade costs on all links, so that the two firms will each adopt the same number of plants, and either both or neither will have a plant in S and, when they do, the export patterns of those plants will be symmetric. Third-country export-platform production arises when low production costs in S lead a firm to use S to serve the other N country, but the savings on fixed costs from closing the home plant do not offset the costs of shipping components to S and final output back home.The US is an insider country with respect to the NAFTA countries, Canada and Mexico, while it is an outsider country with respect to the integrated European market. The US has far-reaching preferential trading agreements with Israel, but so has the EU. The countries in Southeast Asia are typical low-cost countries that, unlike Mexico and the countries in Southern Europe, do not belong to a regional free-trade area. We thus want to use Southeast Asian countries as a group against which to evaluate results for NAFTA and the EU. Israel will be specified separately as well.Efficient institutions protect property rights. The international economy is becoming a knowledge- based economy; as a result, intellectual property rights are becoming ever more important. Their protection is necessary because those who produce goods and services can be adequately rewarded. The value of property rights can quickly be destroyed unless governments enforce rights in this area (Wall et al., 2010). The degree to which foreign enterprises can increase investments in a country relies on the degree to which that country has created institutions and policies for protecting intellectual property rights, and a government's effectiveness in enforcing these rights affects the decisions of foreign enterprises to enter a host country, and how they operate once there. Weak intellectual property rights discourage foreign investors, particularly in technology-intensive sectors, and encourage investments in projects that focus on distribution, that is, exporting to the host country, rather than establishing production plants that could provide FDI spillovers; (Rondinelli, 2005).Marketing such offerings in the United States also requires another shift by firms and brands, that is, many researchers and even some practitioners regard luxury consumers as homogeneous (Dubois 1992). Yet in Europe, for example, subtle cultural and behavioral variety and differences emerge among German, Danish, French, Spanish, and Irish luxury consumers, likely due to the strong French and Italian influences that often get imposed on other European national markets. Luxury consumption behavior can also vary significantly between localities, lifestyle, disposable income, and across age groups (Silverstein and Fiske 2003a).The emergent theme fashionable and cool expresses personal taste, differentiates the respondent from others, and helps demonstrate sophistication, discerning abilities, or success. Consumers thus use products to send signals about who they are and their goals. This theme also acknowledges the desires to appear “hip,” look stylish, and feel unique. Lingerie, fashion accessories, watches, and jewelry enable the participants, as consumers, to express their style, knowledge, taste, and values. Although our participants do not appear driven primarily by a desire for status, nor do they express uncritical infatuation with a brand name, they still care about the messages that goods and brands deliver about their individual style.The GDP growth variable is positive and significant. This implies that foreign investors are attracted to host countries with large markets (market-seeking FDI). This finding is consistent with Bannaga et al. (2013).Trade openness variable is positive and significant. Potential foreign investors are able to become well informed about the local conditions of their international trade partners when trade is liberated. Therefore, foreign investors prefer investing in countries with sizeable trade volume. This result is in line with Elfakhani and Matar (2007).Arab economies need to reduce political risk by democratising their political systems, which may help stabilise the region. They could achieve governmental stability by adhering the democratic transformation to international community benchmarks in terms of respect for fundamental human rights, strengthening the role of law and promoting national elections. Arab economies need to control corruption by supporting the rule of law and building an effective, impartial and transparent legal system. The effective strategy to enhance the rule of law requires the establishment of a judicial system in which all individuals, institutions and even the government are accountable to laws that are uniformly enforced and independently adjudicated. Investment legislations must protect and guarantee investments in the region, and should be coherent with global standards to increase confidence and reduce the risk of appropriation or nationalisation of foreign investments. There is a need for the region to promote democratic accountability by adopting a governance system based on institutional obligations in providing transparent information about public decisions and enabling civil society to correct or sanction decisions that do not adhere to the mandate of law. Constitutions should prevent political parties from establishing or becoming involved in military forces, to avoid the risks of take-over of an elected government or of weakening its ability to function effectively. LaDuke’s organization opposes the proposed route for the new pipeline, fearing that construction and potential spills along the new route would threaten the health of watersheds and Ojibwe lands in Minnesota. “You don’t get to leave a mess in place for the state of Minnesota and tribes, who are very impacted by this because it crosses three reservations, to clean up,” says LaDuke.In Canada, the new Line 3 has already been built. The old line will be cleaned out and abandoned in place next year. The country’s National Energy Board oversees pipelines that cross borders and requires companies to submit a plan before abandoning a pipeline that includes how they’ll set aside funds to monitor the decommissioned pipeline and take care of any problems that arise. It’s a provision that’s lacking in the US, although the US Pipeline and Hazardous Materials Safety Administration requires abandoned pipelines left in place to be disconnected, purged of hazardous materials, and sealed.An estimated 140 million people lost their jobs after India locked down its economy in March to stop the outbreak, while many others saw their salaries drastically reduced, the Mumbai-based Center for Monitoring Indian Economy said. As the lockdown was eased, many went back to work, but more than six million people who lost jobs haven’t found new employment.In a June survey by the All India Manufacturers Organization, about one-third of small and medium-sized enterprises indicated that their businesses were beyond saving. The industry group said that such a “mass destruction of business” was unprecedented.As a rule, they are generated using physical methods. For instance, thanks to the tiniest high- frequency electron movements, the electrical resistance of a wire is not constant but instead fluctuates slightly in an unpredictable way. That means measurements of this background noise can be used to generate true random numbers.Now, for the first time, a research team led by Robert Grass, Professor at the Institute of Chemical and Bioengineering, has described a non-physical method of generating such numbers: one that uses biochemical signals and actually works in practice. In the past, the ideas put forward by other scientists for generating random numbers by chemical means tended to be largely theoretical.It’s all the more important because the future for oil and gas companies is more uncertain than ever, which makes the future of their pipelines more uncertain, too. The time will come when the US will need to reckon with the fate of all its pipelines — and when that time comes, the companies that operated them could no longer be around to deal with them. The COVID-19 pandemic alone sent oil and gas companies stumbling toward bankruptcy. Even after the economy recovers from the pandemic, there will be more challenges ahead. Global efforts to tackle climate change, adopted in the landmark 2015 Paris climate accord, set nations on a path to cut down greenhouse gas emissions from burning fossil fuels to net zero by 2050. That means a future with more renewables and little to no oil and gas.“In the future as crude oil demand decreases, we would expect to see more and more pipelines being abandoned,” says Blackburn. “With the oil industry having less and less money in the future, the risk becomes greater and greater that they’ll just walk away from their pipelines and leave landowners holding the bag.”However, an analysis showed that the distribution of the four building blocks A, C, G and T was not completely even. Either the intricacies of nature or the synthesis method deployed led to the bases G and T being integrated more frequently in the molecules than A and C. Nonetheless, the scientists were able to correct this bias with a simple algorithm, thereby generating perfect random numbers.The main aim of ETH Professor Grass and his team was to show that random occurrences in chemical reaction can be exploited to generate perfect random numbers. Translating the finding into a direct application was not a prime concern at first. \\\"Compared with other methods, however,ours has the advantage of being able to generate huge quantities of randomness that can be stored in an extremely small space, a single test tube,\\\" Grass says. \\\"We can read out the information and reinterpret it in digital form at a later date. This is impossible with the previous methods.”India’s economy shrank 7.5 percent in the three months that ended in September compared with a year earlier, government figures showed on Friday. The data reflects the deepening of India’s severest recession since at least 1996, when the country first began publishing its gross domestic product numbers.The new figures firmly ensconced India’s position among the world’s worst- performing major economies, despite expansive government spending designed to rescue the thousands of small businesses severely battered by its long, hastily imposed lockdown.Textile factories, leather tanneries, brick kilns, foundries and other small enterprises form “part of the country’s social fabric, bringing local wealth and local employment,” said Venkatachalam Anbumozhi, an economist who focuses on South and East Asia.Just a few years ago, India, with a population of 1.3 billion people, was one of the world’s fastest-growing large economies. It regularly clocked growth of 8 percent or more.Global businesses began to warm to the idea of India as a potential substitute to China, both as a place to make goods and to sell them. China’s costs are rising, and its trade war with the United States has complicated doing business there. The Chinese Communist Party is increasingly intruding into business matters, and local Chinese competitors have upped their game against international brands. The importance of export-platform FDI is documented in a study by Hanson, Mataloni, and Slaughter (2001). Using data on the foreign operations of US multinationals, they report that although the average share of exports in affiliate sales has remained constant at about one-third, there has been a substantial increase in Mexico and Canada after the formation of NAFTA. Their econometric analysis suggests that export platform FDI is promoted by low host-country trade barriers and discouraged by large host-country markets.In the past decade, the global marketplace has experienced the democratization of luxury, driven by a constantly growing aspirational consumer segment. This popular form of new luxury (Silverstein and Fiske 2003a) focuses on human involvement, self-expression, unrestricted distribution, and recognition from others. New luxury, also referred to as “masstige” (i.e., mass prestige; Cornell 2002), challenges conventional beliefs about luxury marketing and branding, including pricing and price points, brand extensions, consumer demand, sophistication, market stability, and the time needed to reach the middle class. The marketing of luxury has contributed significantly to the democratization of luxury, but its effect really is secondary to the influence of changing consumption patterns.The first case we consider involves symmetric trade costs on all links, so that the two firms will each adopt the same number of plants, and either both or neither will have a plant in S and, when they do, the export patterns of those plants will be symmetric. Third-country export-platform production arises when low production costs in S lead a firm to use S to serve the other N country, but the savings on fixed costs from closing the home plant do not offset the costs of shipping components to S and final output back home.The US is an insider country with respect to the NAFTA countries, Canada and Mexico, while it is an outsider country with respect to the integrated European market. The US has far-reaching preferential trading agreements with Israel, but so has the EU. The countries in Southeast Asia are typical low-cost countries that, unlike Mexico and the countries in Southern Europe, do not belong to a regional free-trade area. We thus want to use Southeast Asian countries as a group against which to evaluate results for NAFTA and the EU. Israel will be specified separately as well.Efficient institutions protect property rights. The international economy is becoming a knowledge- based economy; as a result, intellectual property rights are becoming ever more important. Their protection is necessary because those who produce goods and services can be adequately rewarded. The value of property rights can quickly be destroyed unless governments enforce rights in this area (Wall et al., 2010). The degree to which foreign enterprises can increase investments in a country relies on the degree to which that country has created institutions and policies for protecting intellectual property rights, and a government's effectiveness in enforcing these rights affects the decisions of foreign enterprises to enter a host country, and how they operate once there. Weak intellectual property rights discourage foreign investors, particularly in technology-intensive sectors, and encourage investments in projects that focus on distribution, that is, exporting to the host country, rather than establishing production plants that could provide FDI spillovers; (Rondinelli, 2005).Marketing such offerings in the United States also requires another shift by firms and brands, that is, many researchers and even some practitioners regard luxury consumers as homogeneous (Dubois 1992). Yet in Europe, for example, subtle cultural and behavioral variety and differences emerge among German, Danish, French, Spanish, and Irish luxury consumers, likely due to the strong French and Italian influences that often get imposed on other European national markets. Luxury consumption behavior can also vary significantly between localities, lifestyle, disposable income, and across age groups (Silverstein and Fiske 2003a).The emergent theme fashionable and cool expresses personal taste, differentiates the respondent from others, and helps demonstrate sophistication, discerning abilities, or success. Consumers thus use products to send signals about who they are and their goals. This theme also acknowledges the desires to appear “hip,” look stylish, and feel unique. Lingerie, fashion accessories, watches, and jewelry enable the participants, as consumers, to express their style, knowledge, taste, and values. Although our participants do not appear driven primarily by a desire for status, nor do they express uncritical infatuation with a brand name, they still care about the messages that goods and brands deliver about their individual style.The GDP growth variable is positive and significant. This implies that foreign investors are attracted to host countries with large markets (market-seeking FDI). This finding is consistent with Bannaga et al. (2013).Trade openness variable is positive and significant. Potential foreign investors are able to become well informed about the local conditions of their international trade partners when trade is liberated. Therefore, foreign investors prefer investing in countries with sizeable trade volume. This result is in line with Elfakhani and Matar (2007).Arab economies need to reduce political risk by democratising their political systems, which may help stabilise the region. They could achieve governmental stability by adhering the democratic transformation to international community benchmarks in terms of respect for fundamental human rights, strengthening the role of law and promoting national elections. Arab economies need to control corruption by supporting the rule of law and building an effective, impartial and transparent legal system. The effective strategy to enhance the rule of law requires the establishment of a judicial system in which all individuals, institutions and even the government are accountable to laws that are uniformly enforced and independently adjudicated. Investment legislations must protect and guarantee investments in the region, and should be coherent with global standards to increase confidence and reduce the risk of appropriation or nationalisation of foreign investments. There is a need for the region to promote democratic accountability by adopting a governance system based on institutional obligations in providing transparent information about public decisions and enabling civil society to correct or sanction decisions that do not adhere to the mandate of law. Constitutions should prevent political parties from establishing or becoming involved in military forces, to avoid the risks of take-over of an elected government or of weakening its ability to function effectively. LaDuke’s organization opposes the proposed route for the new pipeline, fearing that construction and potential spills along the new route would threaten the health of watersheds and Ojibwe lands in Minnesota. “You don’t get to leave a mess in place for the state of Minnesota and tribes, who are very impacted by this because it crosses three reservations, to clean up,” says LaDuke.In Canada, the new Line 3 has already been built. The old line will be cleaned out and abandoned in place next year. The country’s National Energy Board oversees pipelines that cross borders and requires companies to submit a plan before abandoning a pipeline that includes how they’ll set aside funds to monitor the decommissioned pipeline and take care of any problems that arise. It’s a provision that’s lacking in the US, although the US Pipeline and Hazardous Materials Safety Administration requires abandoned pipelines left in place to be disconnected, purged of hazardous materials, and sealed.An estimated 140 million people lost their jobs after India locked down its economy in March to stop the outbreak, while many others saw their salaries drastically reduced, the Mumbai-based Center for Monitoring Indian Economy said. As the lockdown was eased, many went back to work, but more than six million people who lost jobs haven’t found new employment.In a June survey by the All India Manufacturers Organization, about one-third of small and medium-sized enterprises indicated that their businesses were beyond saving. The industry group said that such a “mass destruction of business” was unprecedented.As a rule, they are generated using physical methods. For instance, thanks to the tiniest high- frequency electron movements, the electrical resistance of a wire is not constant but instead fluctuates slightly in an unpredictable way. That means measurements of this background noise can be used to generate true random numbers.Now, for the first time, a research team led by Robert Grass, Professor at the Institute of Chemical and Bioengineering, has described a non-physical method of generating such numbers: one that uses biochemical signals and actually works in practice. In the past, the ideas put forward by other scientists for generating random numbers by chemical means tended to be largely theoretical.It’s all the more important because the future for oil and gas companies is more uncertain than ever, which makes the future of their pipelines more uncertain, too. The time will come when the US will need to reckon with the fate of all its pipelines — and when that time comes, the companies that operated them could no longer be around to deal with them. The COVID-19 pandemic alone sent oil and gas companies stumbling toward bankruptcy. Even after the economy recovers from the pandemic, there will be more challenges ahead. Global efforts to tackle climate change, adopted in the landmark 2015 Paris climate accord, set nations on a path to cut down greenhouse gas emissions from burning fossil fuels to net zero by 2050. That means a future with more renewables and little to no oil and gas.“In the future as crude oil demand decreases, we would expect to see more and more pipelines being abandoned,” says Blackburn. “With the oil industry having less and less money in the future, the risk becomes greater and greater that they’ll just walk away from their pipelines and leave landowners holding the bag.”However, an analysis showed that the distribution of the four building blocks A, C, G and T was not completely even. Either the intricacies of nature or the synthesis method deployed led to the bases G and T being integrated more frequently in the molecules than A and C. Nonetheless, the scientists were able to correct this bias with a simple algorithm, thereby generating perfect random numbers.The main aim of ETH Professor Grass and his team was to show that random occurrences in chemical reaction can be exploited to generate perfect random numbers. Translating the finding into a direct application was not a prime concern at first. \\\"Compared with other methods, however,ours has the advantage of being able to generate huge quantities of randomness that can be stored in an extremely small space, a single test tube,\\\" Grass says. \\\"We can read out the information and reinterpret it in digital form at a later date. This is impossible with the previous methods.”India’s economy shrank 7.5 percent in the three months that ended in September compared with a year earlier, government figures showed on Friday. The data reflects the deepening of India’s severest recession since at least 1996, when the country first began publishing its gross domestic product numbers.The new figures firmly ensconced India’s position among the world’s worst- performing major economies, despite expansive government spending designed to rescue the thousands of small businesses severely battered by its long, hastily imposed lockdown.Textile factories, leather tanneries, brick kilns, foundries and other small enterprises form “part of the country’s social fabric, bringing local wealth and local employment,” said Venkatachalam Anbumozhi, an economist who focuses on South and East Asia.Just a few years ago, India, with a population of 1.3 billion people, was one of the world’s fastest-growing large economies. It regularly clocked growth of 8 percent or more.Global businesses began to warm to the idea of India as a potential substitute to China, both as a place to make goods and to sell them. China’s costs are rising, and its trade war with the United States has complicated doing business there. The Chinese Communist Party is increasingly intruding into business matters, and local Chinese competitors have upped their game against international brands. The importance of export-platform FDI is documented in a study by Hanson, Mataloni, and Slaughter (2001). Using data on the foreign operations of US multinationals, they report that although the average share of exports in affiliate sales has remained constant at about one-third, there has been a substantial increase in Mexico and Canada after the formation of NAFTA. Their econometric analysis suggests that export platform FDI is promoted by low host-country trade barriers and discouraged by large host-country markets.In the past decade, the global marketplace has experienced the democratization of luxury, driven by a constantly growing aspirational consumer segment. This popular form of new luxury (Silverstein and Fiske 2003a) focuses on human involvement, self-expression, unrestricted distribution, and recognition from others. New luxury, also referred to as “masstige” (i.e., mass prestige; Cornell 2002), challenges conventional beliefs about luxury marketing and branding, including pricing and price points, brand extensions, consumer demand, sophistication, market stability, and the time needed to reach the middle class. The marketing of luxury has contributed significantly to the democratization of luxury, but its effect really is secondary to the influence of changing consumption patterns.The first case we consider involves symmetric trade costs on all links, so that the two firms will each adopt the same number of plants, and either both or neither will have a plant in S and, when they do, the export patterns of those plants will be symmetric. Third-country export-platform production arises when low production costs in S lead a firm to use S to serve the other N country, but the savings on fixed costs from closing the home plant do not offset the costs of shipping components to S and final output back home.The US is an insider country with respect to the NAFTA countries, Canada and Mexico, while it is an outsider country with respect to the integrated European market. The US has far-reaching preferential trading agreements with Israel, but so has the EU. The countries in Southeast Asia are typical low-cost countries that, unlike Mexico and the countries in Southern Europe, do not belong to a regional free-trade area. We thus want to use Southeast Asian countries as a group against which to evaluate results for NAFTA and the EU. Israel will be specified separately as well.Efficient institutions protect property rights. The international economy is becoming a knowledge- based economy; as a result, intellectual property rights are becoming ever more important. Their protection is necessary because those who produce goods and services can be adequately rewarded. The value of property rights can quickly be destroyed unless governments enforce rights in this area (Wall et al., 2010). The degree to which foreign enterprises can increase investments in a country relies on the degree to which that country has created institutions and policies for protecting intellectual property rights, and a government's effectiveness in enforcing these rights affects the decisions of foreign enterprises to enter a host country, and how they operate once there. Weak intellectual property rights discourage foreign investors, particularly in technology-intensive sectors, and encourage investments in projects that focus on distribution, that is, exporting to the host country, rather than establishing production plants that could provide FDI spillovers; (Rondinelli, 2005).Marketing such offerings in the United States also requires another shift by firms and brands, that is, many researchers and even some practitioners regard luxury consumers as homogeneous (Dubois 1992). Yet in Europe, for example, subtle cultural and behavioral variety and differences emerge among German, Danish, French, Spanish, and Irish luxury consumers, likely due to the strong French and Italian influences that often get imposed on other European national markets. Luxury consumption behavior can also vary significantly between localities, lifestyle, disposable income, and across age groups (Silverstein and Fiske 2003a).The emergent theme fashionable and cool expresses personal taste, differentiates the respondent from others, and helps demonstrate sophistication, discerning abilities, or success. Consumers thus use products to send signals about who they are and their goals. This theme also acknowledges the desires to appear “hip,” look stylish, and feel unique. Lingerie, fashion accessories, watches, and jewelry enable the participants, as consumers, to express their style, knowledge, taste, and values. Although our participants do not appear driven primarily by a desire for status, nor do they express uncritical infatuation with a brand name, they still care about the messages that goods and brands deliver about their individual style.The GDP growth variable is positive and significant. This implies that foreign investors are attracted to host countries with large markets (market-seeking FDI). This finding is consistent with Bannaga et al. (2013).Trade openness variable is positive and significant. Potential foreign investors are able to become well informed about the local conditions of their international trade partners when trade is liberated. Therefore, foreign investors prefer investing in countries with sizeable trade volume. This result is in line with Elfakhani and Matar (2007).Arab economies need to reduce political risk by democratising their political systems, which may help stabilise the region. They could achieve governmental stability by adhering the democratic transformation to international community benchmarks in terms of respect for fundamental human rights, strengthening the role of law and promoting national elections. Arab economies need to control corruption by supporting the rule of law and building an effective, impartial and transparent legal system. The effective strategy to enhance the rule of law requires the establishment of a judicial system in which all individuals, institutions and even the government are accountable to laws that are uniformly enforced and independently adjudicated. Investment legislations must protect and guarantee investments in the region, and should be coherent with global standards to increase confidence and reduce the risk of appropriation or nationalisation of foreign investments. There is a need for the region to promote democratic accountability by adopting a governance system based on institutional obligations in providing transparent information about public decisions and enabling civil society to correct or sanction decisions that do not adhere to the mandate of law. Constitutions should prevent political parties from establishing or becoming involved in military forces, to avoid the risks of take-over of an elected government or of weakening its ability to function effectively. LaDuke’s organization opposes the proposed route for the new pipeline, fearing that construction and potential spills along the new route would threaten the health of watersheds and Ojibwe lands in Minnesota. “You don’t get to leave a mess in place for the state of Minnesota and tribes, who are very impacted by this because it crosses three reservations, to clean up,” says LaDuke.In Canada, the new Line 3 has already been built. The old line will be cleaned out and abandoned in place next year. The country’s National Energy Board oversees pipelines that cross borders and requires companies to submit a plan before abandoning a pipeline that includes how they’ll set aside funds to monitor the decommissioned pipeline and take care of any problems that arise. It’s a provision that’s lacking in the US, although the US Pipeline and Hazardous Materials Safety Administration requires abandoned pipelines left in place to be disconnected, purged of hazardous materials, and sealed.An estimated 140 million people lost their jobs after India locked down its economy in March to stop the outbreak, while many others saw their salaries drastically reduced, the Mumbai-based Center for Monitoring Indian Economy said. As the lockdown was eased, many went back to work, but more than six million people who lost jobs haven’t found new employment.In a June survey by the All India Manufacturers Organization, about one-third of small and medium-sized enterprises indicated that their businesses were beyond saving. The industry group said that such a “mass destruction of business” was unprecedented.As a rule, they are generated using physical methods. For instance, thanks to the tiniest high- frequency electron movements, the electrical resistance of a wire is not constant but instead fluctuates slightly in an unpredictable way. That means measurements of this background noise can be used to generate true random numbers.Now, for the first time, a research team led by Robert Grass, Professor at the Institute of Chemical and Bioengineering, has described a non-physical method of generating such numbers: one that uses biochemical signals and actually works in practice. In the past, the ideas put forward by other scientists for generating random numbers by chemical means tended to be largely theoretical.It’s all the more important because the future for oil and gas companies is more uncertain than ever, which makes the future of their pipelines more uncertain, too. The time will come when the US will need to reckon with the fate of all its pipelines — and when that time comes, the companies that operated them could no longer be around to deal with them. The COVID-19 pandemic alone sent oil and gas companies stumbling toward bankruptcy. Even after the economy recovers from the pandemic, there will be more challenges ahead. Global efforts to tackle climate change, adopted in the landmark 2015 Paris climate accord, set nations on a path to cut down greenhouse gas emissions from burning fossil fuels to net zero by 2050. That means a future with more renewables and little to no oil and gas.“In the future as crude oil demand decreases, we would expect to see more and more pipelines being abandoned,” says Blackburn. “With the oil industry having less and less money in the future, the risk becomes greater and greater that they’ll just walk away from their pipelines and leave landowners holding the bag.”However, an analysis showed that the distribution of the four building blocks A, C, G and T was not completely even. Either the intricacies of nature or the synthesis method deployed led to the bases G and T being integrated more frequently in the molecules than A and C. Nonetheless, the scientists were able to correct this bias with a simple algorithm, thereby generating perfect random numbers.The main aim of ETH Professor Grass and his team was to show that random occurrences in chemical reaction can be exploited to generate perfect random numbers. Translating the finding into a direct application was not a prime concern at first. \\\"Compared with other methods, however,ours has the advantage of being able to generate huge quantities of randomness that can be stored in an extremely small space, a single test tube,\\\" Grass says. \\\"We can read out the information and reinterpret it in digital form at a later date. This is impossible with the previous methods.”India’s economy shrank 7.5 percent in the three months that ended in September compared with a year earlier, government figures showed on Friday. The data reflects the deepening of India’s severest recession since at least 1996, when the country first began publishing its gross domestic product numbers.The new figures firmly ensconced India’s position among the world’s worst- performing major economies, despite expansive government spending designed to rescue the thousands of small businesses severely battered by its long, hastily imposed lockdown.Textile factories, leather tanneries, brick kilns, foundries and other small enterprises form “part of the country’s social fabric, bringing local wealth and local employment,” said Venkatachalam Anbumozhi, an economist who focuses on South and East Asia.Just a few years ago, India, with a population of 1.3 billion people, was one of the world’s fastest-growing large economies. It regularly clocked growth of 8 percent or more.Global businesses began to warm to the idea of India as a potential substitute to China, both as a place to make goods and to sell them. China’s costs are rising, and its trade war with the United States has complicated doing business there. The Chinese Communist Party is increasingly intruding into business matters, and local Chinese competitors have upped their game against international brands.\"]"
      ],
      "execution_count": 13,
      "outputs": []
    },
    {
      "cell_type": "markdown",
      "metadata": {
        "id": "XiaUKAYK9XGF"
      },
      "source": [
        "#File Parsing"
      ]
    },
    {
      "cell_type": "code",
      "metadata": {
        "id": "cjzZtisjvp-w"
      },
      "source": [
        ""
      ],
      "execution_count": null,
      "outputs": []
    },
    {
      "cell_type": "markdown",
      "metadata": {
        "id": "nB2a0hEWL5eJ"
      },
      "source": [
        "#Preprocessing 1"
      ]
    },
    {
      "cell_type": "code",
      "metadata": {
        "id": "CCqAvbrevpdD"
      },
      "source": [
        ""
      ],
      "execution_count": null,
      "outputs": []
    },
    {
      "cell_type": "code",
      "metadata": {
        "id": "HlOJa20avpUC"
      },
      "source": [
        ""
      ],
      "execution_count": null,
      "outputs": []
    },
    {
      "cell_type": "markdown",
      "metadata": {
        "id": "nUXUTQtO9aVY"
      },
      "source": [
        "#Engines & Content Scraping"
      ]
    },
    {
      "cell_type": "code",
      "metadata": {
        "id": "IN-9iPQsvoYx"
      },
      "source": [
        ""
      ],
      "execution_count": null,
      "outputs": []
    },
    {
      "cell_type": "code",
      "metadata": {
        "id": "oS5SqHQevol8"
      },
      "source": [
        ""
      ],
      "execution_count": null,
      "outputs": []
    },
    {
      "cell_type": "markdown",
      "metadata": {
        "id": "Gspouo099mNu"
      },
      "source": [
        "#Preprocessing 2"
      ]
    },
    {
      "cell_type": "code",
      "metadata": {
        "id": "-8wb0HpXvjZM"
      },
      "source": [
        ""
      ],
      "execution_count": null,
      "outputs": []
    },
    {
      "cell_type": "code",
      "metadata": {
        "id": "j5RMOefjvjLi"
      },
      "source": [
        ""
      ],
      "execution_count": null,
      "outputs": []
    },
    {
      "cell_type": "code",
      "metadata": {
        "id": "WJddL89XviKH"
      },
      "source": [
        ""
      ],
      "execution_count": null,
      "outputs": []
    },
    {
      "cell_type": "markdown",
      "metadata": {
        "id": "RsJww5yn9oBu"
      },
      "source": [
        "#Level 1: Common Substrings\n",
        "Will potentially be excluded"
      ]
    },
    {
      "cell_type": "code",
      "metadata": {
        "id": "VP3g4GPnJZvI"
      },
      "source": [
        "samp = ['the first season of the military science fiction television series stargate sg-1 commenced airing on the showtime channel in the united states on july 27, 1997, concluded on the sci fi channel on march 6, 1998, and contained 22 episodes.',\n",
        "  'the first season of the scifi science fiction television series began airing on the showtime channel in the united states in 1997 and ended on thesci fi channel in 1998 the first season.']\n",
        "\n",
        "STRIDE = 3"
      ],
      "execution_count": null,
      "outputs": []
    },
    {
      "cell_type": "code",
      "metadata": {
        "id": "DiIDsp8MRCdk"
      },
      "source": [
        "def find_common_substrings(text_suspect:str, text_candidate:str, ngram_size:int=3, stride:int=1, skip_stride=True, exclude_single_ngrams=True):\n",
        "  '''\n",
        "  Extracts all common substrings of size S from the input strings\n",
        "  {text_suspect, text_candidate} idle\n",
        "  {ngram_size, stride} idle\n",
        "  {skip_stride} combine closely-consecutive or only true-consecutive ngrams into a single passage (CURRENTLY WORKS ONLY BECAUSE NGRAM_SIZE=3 AND STRIDE=1)\n",
        "  {exclude_single_ngrams} to exclude single orphans if ngrams size is small enough (SMALL_NGRAM_THRESHOLD_COMMON_SUBSTRING)\n",
        "  -----\n",
        "  %output: array of {passage_suspect:str, passage_candidate:str,\n",
        "                     range_suspect: (int, int), range_candidate: (int, int)}\n",
        "  '''\n",
        "\n",
        "  shingles_suspect = shingles(text_suspect, ngram_size=ngram_size, stride=stride)\n",
        "  shingles_candidate = shingles(text_candidate, ngram_size=ngram_size, stride=stride)\n",
        "\n",
        "  intersection = set(shingles_suspect.values()) & set(shingles_candidate.values())\n",
        "  #Convert common shingles into shingle positions in each of suspect and candidate\n",
        "  intersection_positions = defaultdict(list) #{position_in_suspect: [positions_in_candidate]}\n",
        "  intersection_positions_list = []\n",
        "\n",
        "  for shingle in intersection:\n",
        "    keys_suspect = [k for k, v in shingles_suspect.items() if shingle == v]\n",
        "    keys_candidate = [k for k, v in shingles_candidate.items() if shingle == v]\n",
        "    for key_suspect, key_candidate in product(keys_suspect, keys_candidate):\n",
        "      intersection_positions_list.append((key_suspect, key_candidate))\n",
        "      intersection_positions[key_suspect].append(key_candidate)\n",
        "\n",
        "  #Combine consecutive keys to form ranges\n",
        "  intersection_positions_list = sorted(intersection_positions_list, key=lambda x: x[0])\n",
        "  intersection_positions_list\n",
        "\n",
        "  _cpt = 0\n",
        "  series = defaultdict(list)\n",
        "  cache = dict()\n",
        "  for i, j in intersection_positions_list:\n",
        "    if (i-1, j-1) in intersection_positions_list:\n",
        "      index = cache[(i-1, j-1)]\n",
        "      series[index].append((i, j))\n",
        "      cache[(i, j)] = index\n",
        "      #!!!!!!!!!!!!!!!!!!!!!!! Beware, the following works only because ngram_size == 3 and stride == 1 !!!!!!!!!!!!!!!!!!!!!!!#\n",
        "    elif skip_stride and (i-(ngram_size+1), j-(ngram_size+1)) in intersection_positions_list: #if word in between was modified, combine suites if single word is missing (i.e if distance == ngram_size)\n",
        "      index = cache[(i-(ngram_size+1), j-(ngram_size+1))]\n",
        "      series[index].append((i, j))\n",
        "      cache[(i, j)] = index\n",
        "    else:\n",
        "      series[_cpt].append((i, j))\n",
        "      cache[(i, j)] = _cpt\n",
        "      _cpt += 1\n",
        "\n",
        "  #Remove orphan, single pairs if ngram_size is small enough\n",
        "  if ngram_size <= SMALL_NGRAM_THRESHOLD_COMMON_SUBSTRING and exclude_single_ngrams:\n",
        "    for key in list(series.keys()): #cast to list to force a copy and avoid RuntimeError: dictionary changed size during iteration\n",
        "      if len(series[key]) < 2:\n",
        "        series.pop(key)\n",
        "\n",
        "  #transform series back into\n",
        "  result = []\n",
        "  for serie in series.values():\n",
        "    pos_sus = (serie[0][0], serie[-1][0])\n",
        "    pos_can = (serie[0][1], serie[-1][1])\n",
        "\n",
        "    passage_sus = shingles_1[serie[0][0]]\n",
        "    passage_can = shingles_2[serie[0][1]]\n",
        "\n",
        "    #adding only the last word of the shingle, regardless of stride size\n",
        "    passage_sus += \" \" + \" \".join([shingles_1[x].split()[-1] for x in [y for y in range(pos_sus[0]+1,pos_sus[1]+1)]])\n",
        "\n",
        "    passage_can += \" \" + \" \".join([shingles_2[x].split()[-1] for x in [y for y in range(pos_can[0]+1,pos_can[1]+1)]])\n",
        "\n",
        "    item = {\n",
        "        'passage_suspect': passage_sus,\n",
        "        'passage_candidate': passage_can,\n",
        "        'range_suspect': (serie[0][0], serie[-1][0]),\n",
        "        'range_candidate': (serie[0][1], serie[-1][1]),\n",
        "    }\n",
        "    result.append(item)\n",
        "\n",
        "  return result\n"
      ],
      "execution_count": null,
      "outputs": []
    },
    {
      "cell_type": "code",
      "metadata": {
        "id": "lVISsrk8WAgZ"
      },
      "source": [
        "text_1 = samp[0]\n",
        "text_2 = samp[1]\n",
        "result = find_common_substrings(text_1, text_2, skip_stride=True)"
      ],
      "execution_count": null,
      "outputs": []
    },
    {
      "cell_type": "code",
      "metadata": {
        "colab": {
          "base_uri": "https://localhost:8080/"
        },
        "id": "tPmbsMZ1XH3J",
        "outputId": "3ca96022-158b-49ef-f647-5a1478b8db47"
      },
      "source": [
        "result"
      ],
      "execution_count": null,
      "outputs": [
        {
          "output_type": "execute_result",
          "data": {
            "text/plain": [
              "[{'passage_candidate': 'the first season of the scifi science fiction television series',\n",
              "  'passage_suspect': 'the first season of the military science fiction television series',\n",
              "  'pos_candidate': (0, 7),\n",
              "  'pos_suspect': (0, 7)},\n",
              " {'passage_candidate': 'airing on the showtime channel in the united states',\n",
              "  'passage_suspect': 'airing on the showtime channel in the united states',\n",
              "  'pos_candidate': (11, 17),\n",
              "  'pos_suspect': (14, 20)}]"
            ]
          },
          "metadata": {
            "tags": []
          },
          "execution_count": 98
        }
      ]
    },
    {
      "cell_type": "code",
      "metadata": {
        "colab": {
          "base_uri": "https://localhost:8080/"
        },
        "id": "Deyws6hYWN3M",
        "outputId": "be10b93b-4f19-43ae-d2d4-abc15c315a82"
      },
      "source": [
        "result"
      ],
      "execution_count": null,
      "outputs": [
        {
          "output_type": "execute_result",
          "data": {
            "text/plain": [
              "[{'passage_candidate': 'the first season of the',\n",
              "  'passage_suspect': 'the first season of the',\n",
              "  'pos_candidate': (0, 2),\n",
              "  'pos_suspect': (0, 2)},\n",
              " {'passage_candidate': 'science fiction television series',\n",
              "  'passage_suspect': 'science fiction television series',\n",
              "  'pos_candidate': (6, 7),\n",
              "  'pos_suspect': (6, 7)},\n",
              " {'passage_candidate': 'airing on the showtime channel in the united states',\n",
              "  'passage_suspect': 'airing on the showtime channel in the united states',\n",
              "  'pos_candidate': (11, 17),\n",
              "  'pos_suspect': (14, 20)}]"
            ]
          },
          "metadata": {
            "tags": []
          },
          "execution_count": 92
        }
      ]
    },
    {
      "cell_type": "code",
      "metadata": {
        "colab": {
          "base_uri": "https://localhost:8080/"
        },
        "id": "z8_XYgJJOpJ5",
        "outputId": "90688832-5854-4338-e5b3-86278538f3d2"
      },
      "source": [
        " for i in positions:\n",
        "    if (i-1) in positions:\n",
        "      #print(\"Flush\")\n",
        "      index = cache[i-1]\n",
        "      suites[index].append(i)\n",
        "      cache[i] = index\n",
        "    elif skip_stride and any(x in positions for x in range(i-int(ngram_size/ngram_stride), i-1)): #if word in between was modified, combine suites if single word is missing (i.e if distance == STRIDE)\n",
        "      #print(\"Close Flush\")\n",
        "      for x in range(i-ngram_stride, i-1): #to find which one satisfied the condition first (smaller)\n",
        "        if x in positions:\n",
        "          index = cache[x]\n",
        "          suites[index].append(i)\n",
        "          cache[i] = index\n",
        "          break\n",
        "    else:\n",
        "      suites[cpt].append(i)\n",
        "      cache[i] = cpt\n",
        "      cpt += 1"
      ],
      "execution_count": null,
      "outputs": [
        {
          "output_type": "execute_result",
          "data": {
            "text/plain": [
              "[{'passage_candidate': 'the first season of the',\n",
              "  'passage_suspect': 'the first season of the',\n",
              "  'pos_candidate': (0, 2),\n",
              "  'pos_suspect': (0, 2)},\n",
              " {'passage_candidate': 'science fiction television series',\n",
              "  'passage_suspect': 'science fiction television series',\n",
              "  'pos_candidate': (6, 7),\n",
              "  'pos_suspect': (6, 7)},\n",
              " {'passage_candidate': 'airing on the showtime channel in the united states',\n",
              "  'passage_suspect': 'airing on the showtime channel in the united states',\n",
              "  'pos_candidate': (11, 17),\n",
              "  'pos_suspect': (14, 20)}]"
            ]
          },
          "metadata": {
            "tags": []
          },
          "execution_count": 74
        }
      ]
    },
    {
      "cell_type": "markdown",
      "metadata": {
        "id": "sOru3QIP9hZf"
      },
      "source": [
        "#Level 2: Jaccard + Fastext"
      ]
    },
    {
      "cell_type": "markdown",
      "metadata": {
        "id": "TXrdHXk3FGMZ"
      },
      "source": [
        "###Level 2 common utility functions"
      ]
    },
    {
      "cell_type": "code",
      "metadata": {
        "id": "KY9yRfZUFMEh"
      },
      "source": [
        "import re\n",
        "from nltk.util import ngrams\n",
        "from itertools import product\n",
        "from collections import OrderedDict, defaultdict\n",
        "from typing import List\n",
        "from matplotlib.colors import LinearSegmentedColormap\n",
        "from sklearn.metrics.pairwise import cosine_similarity"
      ],
      "execution_count": 49,
      "outputs": []
    },
    {
      "cell_type": "code",
      "metadata": {
        "colab": {
          "base_uri": "https://localhost:8080/"
        },
        "id": "UmUC0txCRMpP",
        "outputId": "dd80c2a5-6e9e-440a-9a6e-f684746947cc"
      },
      "source": [
        "!pip install fasttext\n",
        "import fasttext"
      ],
      "execution_count": 50,
      "outputs": [
        {
          "output_type": "stream",
          "text": [
            "Collecting fasttext\n",
            "\u001b[?25l  Downloading https://files.pythonhosted.org/packages/f8/85/e2b368ab6d3528827b147fdb814f8189acc981a4bc2f99ab894650e05c40/fasttext-0.9.2.tar.gz (68kB)\n",
            "\r\u001b[K     |████▊                           | 10kB 16.1MB/s eta 0:00:01\r\u001b[K     |█████████▌                      | 20kB 20.8MB/s eta 0:00:01\r\u001b[K     |██████████████▎                 | 30kB 15.3MB/s eta 0:00:01\r\u001b[K     |███████████████████             | 40kB 13.9MB/s eta 0:00:01\r\u001b[K     |███████████████████████▉        | 51kB 5.3MB/s eta 0:00:01\r\u001b[K     |████████████████████████████▋   | 61kB 5.7MB/s eta 0:00:01\r\u001b[K     |████████████████████████████████| 71kB 4.0MB/s \n",
            "\u001b[?25hRequirement already satisfied: pybind11>=2.2 in /usr/local/lib/python3.7/dist-packages (from fasttext) (2.6.2)\n",
            "Requirement already satisfied: setuptools>=0.7.0 in /usr/local/lib/python3.7/dist-packages (from fasttext) (57.0.0)\n",
            "Requirement already satisfied: numpy in /usr/local/lib/python3.7/dist-packages (from fasttext) (1.19.5)\n",
            "Building wheels for collected packages: fasttext\n",
            "  Building wheel for fasttext (setup.py) ... \u001b[?25l\u001b[?25hdone\n",
            "  Created wheel for fasttext: filename=fasttext-0.9.2-cp37-cp37m-linux_x86_64.whl size=3093648 sha256=4a57c6d26e41c6c2a1b957e06229256211999bf11bc47dc5aa90652e9146233e\n",
            "  Stored in directory: /root/.cache/pip/wheels/98/ba/7f/b154944a1cf5a8cee91c154b75231136cc3a3321ab0e30f592\n",
            "Successfully built fasttext\n",
            "Installing collected packages: fasttext\n",
            "Successfully installed fasttext-0.9.2\n"
          ],
          "name": "stdout"
        }
      ]
    },
    {
      "cell_type": "markdown",
      "metadata": {
        "id": "tLZNXp5_Fyee"
      },
      "source": [
        "####Acquiring Fasttext pre-trained weights"
      ]
    },
    {
      "cell_type": "code",
      "metadata": {
        "colab": {
          "base_uri": "https://localhost:8080/"
        },
        "id": "feV8eG9YFu2T",
        "outputId": "8ccec770-6ea1-40ed-81f6-fecb65bf0ab9"
      },
      "source": [
        "#English model\n",
        "!wget https://dl.fbaipublicfiles.com/fasttext/vectors-crawl/cc.en.300.bin.gz\n",
        "#!gunzip /content/drive/MyDrive/Plagiarism\\ Detection/cc.en.300.bin.gz\n",
        "!gunzip /content/cc.en.300.bin.gz\n",
        "fasttext_model_en = '/content/drive/MyDrive/Plagiarism Detection/cc.en.300.bin'\n",
        "\n",
        "#French model\n",
        "#!wget https://dl.fbaipublicfiles.com/fasttext/vectors-crawl/cc.fr.300.bin.gz\n",
        "#!gunzip /content/drive/MyDrive/Plagiarism Detection/cc.fr.300.bin.gz\n",
        "fasttext_model_fr = '/content/drive/MyDrive/Plagiarism Detection/cc.fr.300.bin'\n",
        "\n",
        "#Arabic model\n",
        "#!wget https://dl.fbaipublicfiles.com/fasttext/vectors-crawl/cc.ar.300.bin.gz\n",
        "#!gunzip /content/drive/MyDrive/Plagiarism\\ Detection/cc.ar.300.bin.gz\n",
        "fasttext_model_ar = '/content/drive/MyDrive/Plagiarism Detection/cc.ar.300.bin'"
      ],
      "execution_count": 48,
      "outputs": [
        {
          "output_type": "stream",
          "text": [
            "--2021-07-03 19:40:23--  https://dl.fbaipublicfiles.com/fasttext/vectors-crawl/cc.en.300.bin.gz\n",
            "Resolving dl.fbaipublicfiles.com (dl.fbaipublicfiles.com)... 172.67.9.4, 104.22.74.142, 104.22.75.142, ...\n",
            "Connecting to dl.fbaipublicfiles.com (dl.fbaipublicfiles.com)|172.67.9.4|:443... connected.\n",
            "HTTP request sent, awaiting response... 200 OK\n",
            "Length: 4503593528 (4.2G) [application/octet-stream]\n",
            "Saving to: ‘cc.en.300.bin.gz’\n",
            "\n",
            "cc.en.300.bin.gz    100%[===================>]   4.19G  27.3MB/s    in 2m 37s  \n",
            "\n",
            "2021-07-03 19:43:00 (27.3 MB/s) - ‘cc.en.300.bin.gz’ saved [4503593528/4503593528]\n",
            "\n"
          ],
          "name": "stdout"
        }
      ]
    },
    {
      "cell_type": "markdown",
      "metadata": {
        "id": "9__8ldr4F97j"
      },
      "source": [
        "####Functions"
      ]
    },
    {
      "cell_type": "code",
      "metadata": {
        "id": "Tc1_yU7Hid2Z"
      },
      "source": [
        "def shingles(text, ngram_size, stride):\n",
        "  '''\n",
        "  Generate shingles (overlapping n-grams) from input\n",
        "  {text} standard string of text (not preprocessed)\n",
        "  {size} n, size of n-grams\n",
        "  {stride} number of skipped tokens between consecutive shingles, (stride=1) is true overlapping n-grams\n",
        "  -----\n",
        "  %output: dict of {position:int, shingle:str}\n",
        "  '''\n",
        "  text = text.lower()\n",
        "  text = re.sub(r'[^a-zA-Z0-9\\s]', ' ', text)\n",
        "  tokens = [token for token in text.split(\" \") if token != \"\"]\n",
        "  shingles = list(\" \".join(i) for i in ngrams(tokens, ngram_size))\n",
        "  strided_shingles = shingles[0::stride]\n",
        "  #return dict(zip(range(1, len(shingles)), shingles))\n",
        "  return dict(zip(range(0, len(strided_shingles)), strided_shingles))"
      ],
      "execution_count": 10,
      "outputs": []
    },
    {
      "cell_type": "code",
      "metadata": {
        "id": "WJc9pf9wn2Hs"
      },
      "source": [
        "def contains_overlaping_sub_ranges(ranges: List[Tuple[Tuple[int, int], Tuple[int, int]]]):\n",
        "  '''\n",
        "  Checks the state of a list of positional ranges. State is related \n",
        "  to the presence of overlap between at least one pair of ranges.\n",
        "\n",
        "  *Ranges of sorted by default*\n",
        "\n",
        "  :param ranges: list of (suspect_range, candidate_range) positional ranges. \n",
        "  :returns: input contains at least one pair of consecutive overlaping ranges\n",
        "  '''\n",
        "  for i in range(len(ranges) - 1):\n",
        "    range_sus, range_can = ranges[i]\n",
        "    range_sus_next, range_can_next = ranges[i+1]\n",
        "    if (range_sus[1] >= range_sus_next[0] - SKIP_TOLERANCE) and (range_can[1] >= range_can_next[0] - SKIP_TOLERANCE):# and (((range_can[1] - range_can_next[0]) - (range_sus[1] - range_sus_next[0])) <= SKIP_TOLERANCE):\n",
        "      return True\n",
        "  return False\n",
        "\n",
        "#merge_ranges_overlap\n",
        "def merge_sub_ranges(ranges: List[Tuple[Tuple[int, int], Tuple[int, int]]]):\n",
        "  '''\n",
        "  Recursive, Merges all pairs of overlaping consecutive positional ranges and checks for new state.\n",
        "\n",
        "  *Ranges are sorted by default*\n",
        "  :param ranges: list of (suspect_range, candidate_range) positional ranges. \n",
        "  :returns: list of positional ranges free of overlap\n",
        "  '''\n",
        "  if len(ranges) > 1:\n",
        "    non_overlaping_ranges = []\n",
        "    i = 0\n",
        "    while i in range(len(ranges) - 1):\n",
        "      range_sus, range_can = ranges[i]\n",
        "      range_sus_next, range_can_next = ranges[i+1]\n",
        "      if (range_sus[1] >= range_sus_next[0] - SKIP_TOLERANCE) and (range_can[1] >= range_can_next[0] - SKIP_TOLERANCE):# and (((range_can[1] - range_can_next[0]) - (range_sus[1] - range_sus_next[0])) <= SKIP_TOLERANCE):\n",
        "        new_range_sus = (min(range_sus[0], range_sus_next[0]), max(range_sus[1], range_sus_next[1]))\n",
        "        new_range_can = (min(range_can[0], range_can_next[0]), max(range_can[1], range_can_next[1]))\n",
        "        \n",
        "        non_overlaping_ranges.append((new_range_sus, new_range_can))\n",
        "        i += 1 #skip next element because it was merged\n",
        "      else:\n",
        "        non_overlaping_ranges.append((range_sus, range_can))\n",
        "        if i == len(ranges) - 2: #to deal with last element\n",
        "          non_overlaping_ranges.append((range_sus_next, range_can_next))\n",
        "      i += 1\n",
        "    if contains_overlaping_sub_ranges(non_overlaping_ranges):\n",
        "      non_overlaping_ranges = merge_sub_ranges(non_overlaping_ranges)\n",
        "    return non_overlaping_ranges\n",
        "  else:\n",
        "    return ranges"
      ],
      "execution_count": 28,
      "outputs": []
    },
    {
      "cell_type": "code",
      "metadata": {
        "id": "ihE109Gxy8rT"
      },
      "source": [
        "def contains_overlaping_ranges(ranges):\n",
        "  '''\n",
        "  Checks the state of a list of positional ranges. State is related \n",
        "  to the presence of overlap between at least one pair of ranges.\n",
        "\n",
        "  *Ranges of sorted by default*\n",
        "\n",
        "  :param ranges: list of (suspect_range, candidate_range) positional ranges. \n",
        "  :returns: input contains at least one pair of consecutive overlaping ranges\n",
        "  '''\n",
        "  result = []\n",
        "  for _range in ranges:\n",
        "    possibilities = [item for item in ranges[ranges.index(_range):] if ((item[0][0] - SKIP_TOLERANCE <= _range[0][1]) and (item[1][0] - SKIP_TOLERANCE <= _range[1][1]) and (item[1][1] >= _range[1][0]))]\n",
        "    if len(possibilities) > 1:\n",
        "      return True\n",
        "  return False\n",
        "\n",
        "\n",
        "def merge_ranges(ranges):\n",
        "  '''\n",
        "  Recursive, Merges all pairs of overlaping consecutive positional ranges and checks for new state.\n",
        "\n",
        "  *Ranges are sorted by default*\n",
        "\n",
        "  :param ranges: list of (suspect_range, candidate_range) positional ranges. \n",
        "  :returns: list of positional ranges free of overlap\n",
        "  '''\n",
        "  if len(ranges) > 1:\n",
        "    copy_ranges = ranges.copy()\n",
        "    result = []\n",
        "    while len(copy_ranges) > 0:\n",
        "      first_item = copy_ranges[0]\n",
        "      possibilities = [item for item in copy_ranges if ((item[0][0] - SKIP_TOLERANCE <= first_item[0][1]) and (item[1][0] - SKIP_TOLERANCE <= first_item[1][1]) and (item[1][1] >= first_item[1][0]))]\n",
        "      #ic(first_item, possibilities)\n",
        "      merged = merge_sub_ranges(possibilities)\n",
        "      for item in possibilities:\n",
        "        copy_ranges.remove(item)\n",
        "      for item in merged:\n",
        "        result.append(item)\n",
        "\n",
        "    if contains_overlaping_ranges(result):\n",
        "        result = merge_ranges(result)\n",
        "    return result\n",
        "  else:\n",
        "    return ranges\n",
        "\n",
        "#((2, 2), (1717, 1717)), ((3, 13), (2, 12))\n",
        "#((2, 13), (2, 1717))"
      ],
      "execution_count": 59,
      "outputs": []
    },
    {
      "cell_type": "code",
      "metadata": {
        "id": "b5QsgpFgZ3YU"
      },
      "source": [
        "def merge_shingles(suspect_candidate_pairs_positions, suspect_shingles, candidate_shingles, plag_type:PlagType, skip_stride=True, ngram_stride:int=7, ngram_size:int=15, exclude_single_ngrams=False):\n",
        "  '''\n",
        "  Parse and merge consecutive highlighted shingles based on their position in the source text\n",
        "    {suspect_candidate_pairs_positions} list of pair positions (sus, can) of the highlighted shingles from suspect and candidate\n",
        "    {suspect_shingles, candidate_shingles} complete list of shingles of the source texts (not just the highlighted ones)\n",
        "    {skip_stride} since shingles overlap, this options will force to combine non consecutive shingles that are close enough, eith distance <= ngram_size/ngram_stride\n",
        "                  If false, only true consecutive shingles will be combined (may increase granularity)\n",
        "    {ngram_size} as defined for [shingles] function\n",
        "    {ngram_stride} as defined for [shingles] function\n",
        "    {exclude_single_ngrams} to exclude single orphans if ngrams size is small enough (SMALL_NGRAM_THRESHOLD_COMMON_SUBSTRING)\n",
        "  -----\n",
        "  %output: \n",
        "    1- array of {suspect_range:(start, end), suspect_passage:str, candidate_range:(start, end), candidate_passage:str}\n",
        "    2- total size of the passages (for percentage calculation, will be removed)\n",
        "  '''\n",
        "  #build chains of consecutive, or forgivingly consecutive shingles\n",
        "  ic(\"EXCLUDE SINGLE SUSPECT SHINGLES THAT APPEAR IN ANOTHER RANGE\")\n",
        "  _cpt = 0\n",
        "  series = defaultdict(list)\n",
        "  cache = dict()\n",
        "  for i, j in suspect_candidate_pairs_positions:\n",
        "    if (i-1, j-1) in suspect_candidate_pairs_positions:\n",
        "      index = cache[(i-1, j-1)]\n",
        "      series[index].append((i, j))\n",
        "      cache[(i, j)] = index\n",
        "    elif skip_stride and any((x, y) in suspect_candidate_pairs_positions for (x, y) in product(range(i-int(ngram_size/ngram_stride), i-1), range(j-int(ngram_size/ngram_stride), j-1))): #if word in between was modified, combine suites if single word is missing (i.e if distance == ngram_size)\n",
        "      for (x, y) in product(range(i-int(ngram_size/ngram_stride), i-1), range(j-int(ngram_size/ngram_stride), j-1)):\n",
        "        #to find which one satisfied the condition first (smaller) \n",
        "        if (x, y) in suspect_candidate_pairs_positions:\n",
        "          index = cache[(x, y)]\n",
        "          series[index].append((i, j))\n",
        "          cache[(i, j)] = index\n",
        "          break\n",
        "    else:\n",
        "      series[_cpt].append((i, j))\n",
        "      cache[(i, j)] = _cpt\n",
        "      _cpt += 1\n",
        "\n",
        "  #Remove orphan, single pairs if ngram_size is small enough\n",
        "  if exclude_single_ngrams and ngram_size <= SMALL_NGRAM_THRESHOLD_COMMON_SUBSTRING:\n",
        "    for key in list(series.keys()): #cast to list to force a copy and avoid RuntimeError: dictionary changed size during iteration\n",
        "      if len(series[key]) < 2:\n",
        "        series.pop(key)\n",
        "  granularity = len(series)\n",
        "\n",
        "  #Check for overlaping ranges\n",
        "  pos_ranges = []\n",
        "  for serie in series.values():\n",
        "    pos_sus = (serie[0][0], serie[-1][0])\n",
        "    pos_can = (serie[0][1], serie[-1][1])\n",
        "    pos_ranges.append((pos_sus, pos_can))\n",
        "\n",
        "  if contains_overlaping_ranges(pos_ranges):\n",
        "    ic(\"found overlap\")\n",
        "    pos_ranges = merge_ranges(pos_ranges)\n",
        "  granularity = len(pos_ranges)\n",
        "\n",
        "  #Remove single suspect shingles that already belong in a range\n",
        "  #for pos_range in pos_ranges:\n",
        "    #if size = 1 and pos is included in previous or past range, delete element, or is equal to the range (if multiple single-ranges exist)\n",
        "\n",
        "\n",
        "  #Remove duplicate ranges\n",
        "\n",
        "\n",
        "  #transform ranges back into text\n",
        "  instances = []\n",
        "  instances_length = 0\n",
        "  for pos_range in pos_ranges:\n",
        "    pos_sus = pos_range[0]\n",
        "    pos_can = pos_range[1]\n",
        "\n",
        "    passage_sus = suspect_shingles[pos_sus[0]]\n",
        "    passage_can = candidate_shingles[pos_can[0]]\n",
        "\n",
        "    #adding only the last 'ngram_stride' words of the shingle\n",
        "    passage_sus += \" \" + \" \".join([\" \".join(suspect_shingles[x].split()[-ngram_stride:]) for x in [y for y in range(pos_sus[0]+1,pos_sus[1]+1)]])\n",
        "\n",
        "    passage_can += \" \" + \" \".join([\" \".join(candidate_shingles[x].split()[-ngram_stride:]) for x in [y for y in range(pos_can[0]+1,pos_can[1]+1)]])\n",
        "\n",
        "    item = PlagInstance(pos_sus, pos_can, passage_sus, passage_can, plag_type)\n",
        "    '''item = {\n",
        "        'passage_suspect': passage_sus,\n",
        "        'passage_candidate': passage_can,\n",
        "        'range_suspect': pos_sus,\n",
        "        'range_candidate': pos_can,\n",
        "    }'''\n",
        "    instances.append(item)\n",
        "  return instances, granularity\n"
      ],
      "execution_count": 111,
      "outputs": []
    },
    {
      "cell_type": "code",
      "metadata": {
        "id": "ZV1jhRdWFWSa"
      },
      "source": [
        "def print_pairwise_matrix(matrix):\n",
        "  '''\n",
        "  Plots a matrix for visualisation\n",
        "  '''\n",
        "  fig, ax = plt.subplots(1,1, figsize=(20, 20))\n",
        "\n",
        "  mask = np.triu(matrix)\n",
        "  ax = sns.heatmap(matrix, ax=ax, vmin=0.0, vmax=1.0, cmap='afmhot', linewidths=.3)#, mask=mask)# annot=True, , cmap=cmap, linewidths=.5)\n",
        "  ax.set_title(\"Jaccard Distance\", color=\"black\").set_fontsize(20)\n",
        "  ax.tick_params(length=0)\n",
        "  plt.xlabel(\"Suspect Document\")\n",
        "  plt.ylabel(\"Candidate Document\")\n",
        "  #plt.title(\"Fasttext - Sentence vectors\")\n",
        "\n",
        "  return plt"
      ],
      "execution_count": 31,
      "outputs": []
    },
    {
      "cell_type": "markdown",
      "metadata": {
        "id": "Vlw30TwOFEmC"
      },
      "source": [
        "##Jaccard"
      ]
    },
    {
      "cell_type": "code",
      "metadata": {
        "id": "Ll3YBS3-FkOE"
      },
      "source": [
        "def jaccard_words_overlap_distance(string_1, string_2, option='union'):\n",
        "  '''\n",
        "  Calculates jaccard distance (not similarity) between two input strings\n",
        "    {string_1, string_2} idle\n",
        "    {option} Jaccard denominator option, among [min, max, union]\n",
        "  -----\n",
        "  %output: float [.0, 1.0], jaccard distance\n",
        "  '''\n",
        "\n",
        "  if option not in ['min', 'max', 'union']:\n",
        "    raise Exception(\"Jaccard Distance: option can only be [min, max, union], default to union.\")\n",
        "  \n",
        "  str1 = set(string_1.split())\n",
        "  str2 = set(string_2.split())\n",
        "\n",
        "  if option == 'min':\n",
        "    denominator = min(len(str1), len(str2))\n",
        "  elif option == 'max':\n",
        "    denominator = max(len(str1), len(str2))\n",
        "  else: #default to union\n",
        "    denominator = len(str1 | str2)\n",
        "\n",
        "  try:\n",
        "    unit_score = 1 - float(len(str1 & str2) / denominator)\n",
        "  except: #sometimes, one sentence gets nullified by preprocessing\n",
        "    unit_score = 0\n",
        "  return unit_score\n",
        "\n",
        "#TODO: Optimize matrix generation with numpy or others\n",
        "def jaccard_pairwise_distance(suspect_shingles, candidate_shingles, option='union'):\n",
        "  '''\n",
        "  Generate pairwise jaccard distance matrix (not similarity) of size len(suspects) x len(candidates)\n",
        "    {suspect_shingles, candidate_shingles} idle\n",
        "    {option} Jaccard denominator option, among [min, max, union]\n",
        "  -----\n",
        "  %output: array of arrays, pairwise distance matrix\n",
        "  '''\n",
        "  matrix = np.zeros((len(suspect_shingles),len(candidate_shingles)),dtype=np.float)\n",
        "  \n",
        "  for i in range(len(suspect_shingles)):\n",
        "    for j in range(len(candidate_shingles)):\n",
        "        matrix[i,j] = jaccard_words_overlap_distance(suspect_shingles[i],candidate_shingles[j], option=option)\n",
        "  return matrix"
      ],
      "execution_count": 32,
      "outputs": []
    },
    {
      "cell_type": "markdown",
      "metadata": {
        "id": "jj9ceqGwlUnj"
      },
      "source": [
        "####Legacy"
      ]
    },
    {
      "cell_type": "code",
      "metadata": {
        "id": "xbPSW3lRm3uD"
      },
      "source": [
        "def fuse_consecutive_shingles(suspect_candidate_pairs_positions, suspect_shingles, candidate_shingles, skip_stride=True, ngram_stride:int=7, ngram_size:int=15, exclude_single_ngrams=False):\n",
        "  '''\n",
        "  Parse and combine consecutive highlighted shingles based on their position in the source text\n",
        "    {suspect_candidate_pairs_positions} list of pair positions (sus, can) of the highlighted shingles from suspect and candidate\n",
        "    {suspect_shingles, candidate_shingles} complete list of shingles of the source texts (not just the highlighted ones)\n",
        "    {skip_stride} since shingles overlap, this options will force to combine non consecutive shingles that are close enough, eith distance <= ngram_size/ngram_stride\n",
        "                  If false, only true consecutive shingles will be combined (may increase granularity)\n",
        "    {ngram_size} as defined for [shingles] function\n",
        "    {ngram_stride} as defined for [shingles] function\n",
        "    {exclude_single_ngrams} to exclude single orphans if ngrams size is small enough (SMALL_NGRAM_THRESHOLD_COMMON_SUBSTRING)\n",
        "  -----\n",
        "  %output: \n",
        "    1- array of {suspect_range:(start, end), suspect_passage:str, candidate_range:(start, end), candidate_passage:str}\n",
        "    2- total size of the passages (for percentage calculation, will be removed)\n",
        "  '''\n",
        "  #build chains of consecutive, or forgivingly consecutive shingles\n",
        "  _cpt = 0\n",
        "  series = defaultdict(list)\n",
        "  cache = dict()\n",
        "  for i, j in suspect_candidate_pairs_positions:\n",
        "    if (i-1, j-1) in suspect_candidate_pairs_positions:\n",
        "      index = cache[(i-1, j-1)]\n",
        "      series[index].append((i, j))\n",
        "      cache[(i, j)] = index\n",
        "    elif skip_stride and any((x, y) in suspect_candidate_pairs_positions for (x, y) in product(range(i-int(ngram_size/ngram_stride), i-1), range(j-int(ngram_size/ngram_stride), j-1))): #if word in between was modified, combine suites if single word is missing (i.e if distance == ngram_size)\n",
        "      for (x, y) in product(range(i-int(ngram_size/ngram_stride), i-1), range(j-int(ngram_size/ngram_stride), j-1)):\n",
        "        #to find which one satisfied the condition first (smaller) \n",
        "        if (x, y) in suspect_candidate_pairs_positions:\n",
        "          index = cache[(x, y)]\n",
        "          series[index].append((i, j))\n",
        "          cache[(i, j)] = index\n",
        "          break\n",
        "    else:\n",
        "      series[_cpt].append((i, j))\n",
        "      cache[(i, j)] = _cpt\n",
        "      _cpt += 1\n",
        "\n",
        "  #Remove orphan, single pairs if ngram_size is small enough\n",
        "  if exclude_single_ngrams and ngram_size <= SMALL_NGRAM_THRESHOLD_COMMON_SUBSTRING:\n",
        "    for key in list(series.keys()): #cast to list to force a copy and avoid RuntimeError: dictionary changed size during iteration\n",
        "      if len(series[key]) < 2:\n",
        "        series.pop(key)\n",
        "  granularity = len(series)\n",
        "\n",
        "  #transform series back into text\n",
        "  result = []\n",
        "  total_size = 0\n",
        "  for serie in series.values():\n",
        "    pos_sus = (serie[0][0], serie[-1][0])\n",
        "    pos_can = (serie[0][1], serie[-1][1])\n",
        "\n",
        "    passage_sus = suspect_shingles[serie[0][0]]\n",
        "    passage_can = candidate_shingles[serie[0][1]]\n",
        "\n",
        "    #adding only the last word of the shingle, regardless of stride size\n",
        "    passage_sus += \" \" + \" \".join([suspect_shingles[x].split()[-1] for x in [y for y in range(pos_sus[0]+1,pos_sus[1]+1)]])\n",
        "\n",
        "    passage_can += \" \" + \" \".join([candidate_shingles[x].split()[-1] for x in [y for y in range(pos_can[0]+1,pos_can[1]+1)]])\n",
        "\n",
        "    item = {\n",
        "        'passage_suspect': passage_sus,\n",
        "        'passage_candidate': passage_can,\n",
        "        'range_suspect': (serie[0][0], serie[-1][0]),\n",
        "        'range_candidate': (serie[0][1], serie[-1][1]),\n",
        "    }\n",
        "    result.append(item)\n",
        "    total_size += len(re.findall(r'\\w+', passage_sus))\n",
        "\n",
        "  return result, total_size, granularity\n"
      ],
      "execution_count": 25,
      "outputs": []
    },
    {
      "cell_type": "code",
      "metadata": {
        "id": "y-Qn_L4mmkjy"
      },
      "source": [
        "def aggregate_report(suspect_candidate_pairs_positions, suspect_shingles, candidate_shingles, source_text_length:int, skip_stride=True, ngram_stride=7, ngram_size=15):\n",
        "    '''\n",
        "    Calculate total detected percentage after reducing granularity\n",
        "      {suspect_candidate_pairs_positions} list of pair positions (sus, can) of the highlighted shingles from suspect and candidate\n",
        "      {suspect_shingles, candidate_shingles} complete list of shingles of the source texts (not just the highlighted ones)\n",
        "      {skip_stride} since shingles overlap, this options will force to combine non consecutive shingles that are close enough, eith distance <= ngram_size/ngram_stride\n",
        "                If false, only true consecutive shingles will be combined (may increase granularity)\n",
        "      {ngram_size} as defined for [shingles] function\n",
        "      {ngram_stride} as defined for [shingles] function\n",
        "      {exclude_single_ngrams} to exclude single orphans if ngrams size is small enough (SMALL_NGRAM_THRESHOLD_COMMON_SUBSTRING)\n",
        "      {source_text_length} length of the original text (not shingled)\n",
        "\n",
        "    -----\n",
        "    %output: \n",
        "      1- array of {position_range:(start, end), passage:str}\n",
        "      2- total size of the passages (for percentage calculation, will be removed)\n",
        "    '''\n",
        "    #unique_positions = list(dict.fromkeys(highlighted_shingles_positions))\n",
        "    \n",
        "    passages, passages_length, granularity = fuse_consecutive_shingles(suspect_candidate_pairs_positions, suspect_shingles, candidate_shingles, skip_stride=skip_stride, ngram_stride=ngram_stride, ngram_size=ngram_size)\n",
        "    \n",
        "    percentage = (float(passages_length)/source_text_length) * 100\n",
        "    percentage = round(percentage, 2)\n",
        "    \n",
        "    print(\"Detected percentage = {}% (text = {} & detected = {})\".format(percentage, source_text_length, passages_length))\n",
        "\n",
        "    return passages, percentage, granularity\n",
        "\n",
        "#-------------------------\n",
        " \n"
      ],
      "execution_count": null,
      "outputs": []
    },
    {
      "cell_type": "code",
      "metadata": {
        "id": "w2uVoOQVmDKD"
      },
      "source": [
        "def jaccard_words_overlap_distance(string_1, string_2, option='union'):\n",
        "  '''\n",
        "  Calculates jaccard distance (not similarity) between two input strings\n",
        "    {string_1, string_2} idle\n",
        "    {option} Jaccard denominator option, among [min, max, union]\n",
        "  -----\n",
        "  %output: float [.0, 1.0], jaccard distance\n",
        "  '''\n",
        "\n",
        "  if option not in ['min', 'max', 'union']:\n",
        "    raise Exception(\"Jaccard Distance: option can only be [min, max, union], default to union.\")\n",
        "  \n",
        "  str1 = set(string_1.split())\n",
        "  str2 = set(string_2.split())\n",
        "\n",
        "  if option == 'min':\n",
        "    denominator = min(len(str1), len(str2))\n",
        "  elif option == 'max':\n",
        "    denominator = max(len(str1), len(str2))\n",
        "  else: #default to union\n",
        "    denominator = len(str1 | str2)\n",
        "\n",
        "  try:\n",
        "    unit_score = 1 - float(len(str1 & str2) / denominator)\n",
        "  except: #sometimes, one sentence gets nullified by preprocessing\n",
        "    unit_score = 0\n",
        "  return unit_score\n",
        "\n",
        "#TODO: Optimize matrix generation with numpy or others\n",
        "def jaccard_pairwise_distance(suspect_shingles, candidate_shingles, option='union'):\n",
        "  '''\n",
        "  Generate pairwise jaccard distance matrix (not similarity) of size len(suspects) x len(candidates)\n",
        "    {suspect_shingles, candidate_shingles} idle\n",
        "    {option} Jaccard denominator option, among [min, max, union]\n",
        "  -----\n",
        "  %output: array of arrays, pairwise distance matrix\n",
        "  '''\n",
        "  matrix = np.zeros((len(suspect_shingles),len(candidate_shingles)),dtype=np.float)\n",
        "\n",
        "  for i in range(len(suspect_shingles)):\n",
        "    for j in range(len(candidate_shingles)):\n",
        "        matrix[i,j] = jaccard_words_overlap_distance(suspect_shingles[i],candidate_shingles[j], option=option)\n",
        "\n",
        "  return matrix"
      ],
      "execution_count": null,
      "outputs": []
    },
    {
      "cell_type": "code",
      "metadata": {
        "id": "uZviXDYoDZou"
      },
      "source": [
        "def jaccard_subreport(suspect_text, candidate_text, threshold:float=0.25, ngram_size:int=15, ngram_stride:int=7, option='union'):\n",
        "  '''\n",
        "  Generate global similarity detection report\n",
        "    {suspect_text, candidate_text} standard string of text (not preprocessed)\n",
        "    {threshold} value under which the jaccard distance indicates a pair of strings to be similar. Smaller is more similar\n",
        "    {ngram_size} as defined for [shingles] function\n",
        "    {ngram_stride} as defined for [shingles] function\n",
        "    {option} Jaccard denominator option, among [min, max, union]\n",
        "  -----\n",
        "  %output: \n",
        "    1- array of {\n",
        "        suspect_pos:int, suspect_text:str, \n",
        "        candidate_pos:int, candidate_text:str\n",
        "        jaccard_distance:float\n",
        "        }\n",
        "    2- dict of input hyper-parameters just for easy association (may be deleted later)\n",
        "  '''\n",
        "  print(\"ADD SECOND THRESHOLD FOR WHAT TO PASS TO FASTEXT?\")\n",
        "  print(\"INPUT SHINGLES INSTEAD OF TEXT TO BE SHINLGED (because same input as for Fasttext)\")\n",
        "\n",
        "  if (not isinstance(ngram_size, int)) or (not isinstance(ngram_stride, int)) or (threshold >= 1):\n",
        "    raise Exception(\"Error, incorrect parameters for jaccard_subreport:\\n- N-Gram size: {} (should be int [1;~])\\n- Stride: {} (should be int [1;~])\\n- Threshold: {} (should be float [.0;1.0[)\".format(ngram_size, ngram_stride, threshold))\n",
        "\n",
        "  suspect_shingles = shingles(suspect_text, ngram_size=ngram_size, stride=ngram_stride)\n",
        "  candidate_shingles = shingles(candidate_text, ngram_size=ngram_size, stride=ngram_stride)\n",
        "  \n",
        "  matrix = jaccard_pairwise_distance(suspect_shingles, candidate_shingles, option=option)\n",
        "  mask = np.where(matrix < threshold)\n",
        "\n",
        "  PAIRS = []\n",
        "  for x, y in zip(mask[0], mask[1]):\n",
        "    pair = {\n",
        "        'suspect_pos': x,\n",
        "        'suspect_text': suspect_shingles[x],\n",
        "        'candidate_pos': y,\n",
        "        'candidate_text': candidate_shingles[y],\n",
        "        'jaccard_distance': matrix[x][y]\n",
        "    }\n",
        "    PAIRS.append(pair)\n",
        "\n",
        "  #unique_suspect_positions = [pair['suspect_pos'] for pair in PAIRS]\n",
        "  suspect_text_length = len(re.findall(r'\\w+', suspect_text))\n",
        "  \n",
        "  #percentage, detected_passages, number_passages = aggregate_report(unique_suspect_positions, suspect_shingles, suspect_text_length)\n",
        "  _pairs = [(pair['suspect_pos'], pair['candidate_pos']) for pair in PAIRS]\n",
        "  PASSAGE_PAIRS, percentage, granularity = aggregate_report(_pairs, suspect_shingles, candidate_shingles, suspect_text_length)\n",
        "\n",
        "  PARAMETERS = {'n-gram_size': ngram_size, 'n-gram_stride': ngram_stride, 'threshold': threshold, 'percentage': percentage, 'granularity': granularity}\n",
        "\n",
        "  return PAIRS, PARAMETERS, PASSAGE_PAIRS"
      ],
      "execution_count": null,
      "outputs": []
    },
    {
      "cell_type": "markdown",
      "metadata": {
        "id": "pWJbXM6wlZNq"
      },
      "source": [
        "####Working"
      ]
    },
    {
      "cell_type": "code",
      "metadata": {
        "id": "Uaf80UKhlSa6"
      },
      "source": [
        "def jaccard_subreport(suspect_shingles, candidate_shingles, suspect_text_length, threshold_semant:float=0.5, threshold:float=0.25, ngram_size:int=15, ngram_stride:int=7, option='union', print_matrix=False):\n",
        "  '''\n",
        "  Generate global similarity detection report\n",
        "    {suspect_text, candidate_text} standard string of text (not preprocessed)\n",
        "    {threshold} value under which the jaccard distance indicates a pair of strings to be similar. Smaller is more similar\n",
        "    {ngram_size} as defined for [shingles] function\n",
        "    {ngram_stride} as defined for [shingles] function\n",
        "    {option} Jaccard denominator option, among [min, max, union]\n",
        "  -----\n",
        "  %output: \n",
        "    1- array of {\n",
        "        suspect_pos:int, suspect_text:str, \n",
        "        candidate_pos:int, candidate_text:str\n",
        "        jaccard_distance:float\n",
        "        }\n",
        "    2- dict of input hyper-parameters just for easy association (may be deleted later)\n",
        "  '''\n",
        "  if (not isinstance(ngram_size, int)) or (not isinstance(ngram_stride, int)) or (threshold >= 1):\n",
        "    raise Exception(\"Error, incorrect parameters for jaccard_subreport:\\n- N-Gram size: {} (should be int [1;~])\\n- Stride: {} (should be int [1;~])\\n- Threshold: {} (should be float [.0;1.0[)\".format(ngram_size, ngram_stride, threshold))\n",
        "\n",
        "  matrix = jaccard_pairwise_distance(suspect_shingles, candidate_shingles, option=option)\n",
        "  if print_matrix:\n",
        "    print_pairwise_matrix(matrix)\n",
        "  \n",
        "  mask = np.where(matrix <= threshold)\n",
        "\n",
        "  PAIRS = []\n",
        "  detected_suspect_shingles_to_exclude_semantics = set()\n",
        "  for x, y in zip(mask[0], mask[1]):\n",
        "    detected_suspect_shingles_to_exclude_semantics.add(x)\n",
        "    pair = {\n",
        "        'suspect_pos': x,\n",
        "        'suspect_text': suspect_shingles[x],\n",
        "        'candidate_pos': y,\n",
        "        'candidate_text': candidate_shingles[y],\n",
        "        'jaccard_distance': matrix[x][y]\n",
        "    }\n",
        "    PAIRS.append(pair)\n",
        "  #print(detected_suspect_shingles_to_exclude_semantics)\n",
        "  #Get list of shingle pairs to be submitted for semantic comparison\n",
        "  mask_semant = np.where((threshold < matrix) & (matrix <= threshold_semant))\n",
        "  ic(\"GIVE UNIQUE SUS POSITIONS THAT ARE LEFT INSTEAD OF PAIRS\")\n",
        "  PAIRS_SEMANTIC = []\n",
        "  for x, y in zip(mask_semant[0], mask_semant[1]):\n",
        "    if x not in detected_suspect_shingles_to_exclude_semantics:\n",
        "      pair = {\n",
        "          'suspect_pos': x,\n",
        "          'candidate_pos': y,\n",
        "          'jaccard_distance': matrix[x][y]\n",
        "      }\n",
        "      PAIRS_SEMANTIC.append(pair)\n",
        "  #clean pairs for merging overlap\n",
        "  #unique_suspect_positions = [pair['suspect_pos'] for pair in PAIRS]\n",
        "\n",
        "  #percentage, detected_passages, number_passages = aggregate_report(unique_suspect_positions, suspect_shingles, suspect_text_length)\n",
        "  _pairs = [(pair['suspect_pos'], pair['candidate_pos']) for pair in PAIRS]\n",
        "  INSTANCES, percentage, granularity = aggregate_typical_subreport(_pairs, suspect_shingles, candidate_shingles, suspect_text_length, plag_type = PlagType.SYNTACT, skip_stride=True)\n",
        "\n",
        "  PARAMETERS = {'n-gram_size': ngram_size, 'n-gram_stride': ngram_stride, 'threshold': threshold, 'percentage': percentage, 'granularity': granularity}\n",
        "\n",
        "  #return PAIRS, PARAMETERS, PASSAGE_PAIRS, PAIRS_SEMANTIC\n",
        "  return PARAMETERS, INSTANCES, PAIRS_SEMANTIC"
      ],
      "execution_count": 33,
      "outputs": []
    },
    {
      "cell_type": "code",
      "metadata": {
        "id": "z78zO-CZlOYb"
      },
      "source": [
        "  ranges = [(x.posrange_suspect, x.posrange_candidate) for x in instances]\n",
        "  ranges = merge_ranges(ranges)\n",
        "  ranges"
      ],
      "execution_count": null,
      "outputs": []
    },
    {
      "cell_type": "markdown",
      "metadata": {
        "id": "k-6ZgxVcDcjC"
      },
      "source": [
        "Calling"
      ]
    },
    {
      "cell_type": "code",
      "metadata": {
        "id": "HkXnx1_wXzNt",
        "colab": {
          "base_uri": "https://localhost:8080/"
        },
        "outputId": "981a28fe-e79e-494f-8794-7015bbd3c3d6"
      },
      "source": [
        "#pre_processing\n",
        "suspect_text = samp_suspect[0]\n",
        "candidate_text = samp_suspect[0]\n",
        "\n",
        "suspect_shingles = shingles(suspect_text, ngram_size=15, stride=7)\n",
        "candidate_shingles = shingles(candidate_text, ngram_size=15, stride=7)\n",
        "\n",
        "suspect_text_length = len(re.findall(r'\\w+', suspect_text))\n",
        "\n",
        "#detect language\n",
        "\n",
        "#jaccard_report\n",
        "params, instances, pairs_semantic = jaccard_subreport(suspect_shingles, candidate_shingles, suspect_text_length, threshold = 0.65, threshold_semant=SEMANTIC_THRESHOLD)\n",
        "ic(\"=========================== Jaccard\")\n",
        "ic(len(instances))\n",
        "ic(len(pairs_semantic))\n",
        "#fasttext_report = \n",
        "#def combined_subreport(suspect_file, candidate_file, params)"
      ],
      "execution_count": 44,
      "outputs": [
        {
          "output_type": "stream",
          "text": [
            "ic| 'GIVE UNIQUE SUS POSITIONS THAT ARE LEFT INSTEAD OF PAIRS'\n",
            "ic| 'EXCLUDE SINGLE SUSPECT SHINGLES THAT APPEAR IN ANOTHER RANGE'\n",
            "ic| 'found overlap'\n",
            "ic| instances_length: 1093\n",
            "ic| '=========================== Jaccard'\n",
            "ic| len(instances): 1\n",
            "ic| len(pairs_semantic): 0\n"
          ],
          "name": "stderr"
        },
        {
          "output_type": "stream",
          "text": [
            "[((0, 154), (0, 154)), ((0, 153), (1, 154)), ((1, 154), (0, 153)), ((43, 43), (45, 45)), ((45, 45), (43, 43)), ((69, 69), (78, 78)), ((78, 78), (69, 69)), ((133, 133), (135, 135)), ((135, 135), (133, 133))]\n",
            "((0, 154), (0, 154))\n",
            "Detected percentage = 99.45% (text = 1099 & detected = 1093)\n"
          ],
          "name": "stdout"
        },
        {
          "output_type": "execute_result",
          "data": {
            "text/plain": [
              "0"
            ]
          },
          "metadata": {
            "tags": []
          },
          "execution_count": 44
        }
      ]
    },
    {
      "cell_type": "code",
      "metadata": {
        "id": "FWd6qjOaVMcF",
        "colab": {
          "base_uri": "https://localhost:8080/"
        },
        "outputId": "b02a01a3-5cd2-40c9-cf06-46da0b6f78b1"
      },
      "source": [
        "len(instances)"
      ],
      "execution_count": 46,
      "outputs": [
        {
          "output_type": "execute_result",
          "data": {
            "text/plain": [
              "1"
            ]
          },
          "metadata": {
            "tags": []
          },
          "execution_count": 46
        }
      ]
    },
    {
      "cell_type": "code",
      "metadata": {
        "colab": {
          "base_uri": "https://localhost:8080/"
        },
        "id": "woehV1g6nz9m",
        "outputId": "c5f87319-30f0-4378-98ad-218bebbc52df"
      },
      "source": [
        "params"
      ],
      "execution_count": 47,
      "outputs": [
        {
          "output_type": "execute_result",
          "data": {
            "text/plain": [
              "{'granularity': 1,\n",
              " 'n-gram_size': 15,\n",
              " 'n-gram_stride': 7,\n",
              " 'percentage': 99.45,\n",
              " 'threshold': 0.65}"
            ]
          },
          "metadata": {
            "tags": []
          },
          "execution_count": 47
        }
      ]
    },
    {
      "cell_type": "markdown",
      "metadata": {
        "id": "NaLZCGhEDd2Y"
      },
      "source": [
        "####Benchmarking Threshold"
      ]
    },
    {
      "cell_type": "code",
      "metadata": {
        "id": "IAiPrz_8DjCq"
      },
      "source": [
        "thresholds = np.arange(.02, .5, 0.02)\n",
        "PERCENTAGES = []\n",
        "for threshold in thresholds:\n",
        "  thresh = round(threshold, 2)\n",
        "  pairs, params, portions = jaccard_global_report(samp_suspect[0], samp_candidate[0], threshold=thresh)\n",
        "  item = {\n",
        "      'threshold': thresh,\n",
        "      'percentage': params['percentage'],\n",
        "      'shingles': params['number_of_shingles']\n",
        "  }\n",
        "  PERCENTAGES.append(item)\n",
        "\n",
        "PERCENTAGES"
      ],
      "execution_count": null,
      "outputs": []
    },
    {
      "cell_type": "code",
      "metadata": {
        "id": "aTHfRME9uHZx"
      },
      "source": [
        "%%time\n",
        "%memit pairs, params, portions, pairs_semantic = jaccard_subreport(suspect_shingles, candidate_shingles, 1011, threshold = 0.65, threshold_semant=0.75)\n",
        "#%memit pairs, params, portions = jaccard_subreport(suspect_shingles, candidate_shingles, 1011)"
      ],
      "execution_count": null,
      "outputs": []
    },
    {
      "cell_type": "markdown",
      "metadata": {
        "id": "CW5OBOeO9fzs"
      },
      "source": [
        "##Fasttext"
      ]
    },
    {
      "cell_type": "code",
      "metadata": {
        "id": "Z5ngedXBGTGl"
      },
      "source": [
        "def extract_fasttext_features(shingles: List[str], ft):\n",
        "  '''\n",
        "  Vectorize input strings into Fasttext features using a pre-trained & pre-loaded model {ft}\n",
        "  {shingles} array of strings to vectorize\n",
        "  {ft} pre-loaded Fasttext model\n",
        "  -----\n",
        "  %output: list of features, vectors of size XXXXXX\n",
        "  '''\n",
        "  features = []\n",
        "  for i in shingles.keys():\n",
        "    features.append(ft.get_sentence_vector(shingles[i].replace('\\n', ' ')))\n",
        "  return features\n",
        "\n",
        "\n",
        "def fasttext_pairwise_cosine_distance(suspect_features, candidate_features):\n",
        "  '''\n",
        "  Generate pairwise cosine distance matrix (not similarity) of size len(suspects) x len(candidates)\n",
        "  {suspect_features, candidate_features} arrays of Fasttext features vectors\n",
        "  -----\n",
        "  %output: array of arrays, pairwise distance matrix\n",
        "  '''\n",
        "  matrix = 1 - cosine_similarity(suspect_features, candidate_features)\n",
        "  return matrix\n",
        "\n"
      ],
      "execution_count": 51,
      "outputs": []
    },
    {
      "cell_type": "code",
      "metadata": {
        "id": "-T3Ee7H-GNZR"
      },
      "source": [
        "def fasttext_subreport(suspect_shingles, candidate_shingles, suspect_pos_semantic, suspect_text_length, ft_model, threshold:float=0.1, ngram_size:int=15, ngram_stride:int=7, print_matrix=False):\n",
        "  '''\n",
        "  Generate global similarity detection report with Fasttext similarity \n",
        "  {suspect_text, candidate_text} standard string of text (not preprocessed)\n",
        "  {ft_model} pre-loaded Fasttext model\n",
        "  {threshold} value under which the cosine distance indicates a pair of strings to be similar. Smaller is more similar\n",
        "  {ngram_size} as defined for [shingles] function\n",
        "  {ngram_stride} as defined for [shingles] function\n",
        "  {print_matrix} to plot the cosine pairwise distance matrix\n",
        "  -----\n",
        "  %output: \n",
        "  1- array of {\n",
        "      suspect_pos:int, suspect_text:str, \n",
        "      candidate_pos:int, candidate_text:str\n",
        "      cosine_distance:float\n",
        "      }\n",
        "  2- dict of input hyper-parameters + global detected plagiarism percentage & number of unique shingles that were highlighted (for granularity)\n",
        "  '''\n",
        "  ic(\"SUBSTITUTE COMPREHENSION WITH GENERATORS\")\n",
        "\n",
        "  ic(\"PATCH ME, I AM NOT OPTIMIZED, I EXCLUDE ALREADY DETECTED SHINGLES AFTER MATRIX CALCULATION\")\n",
        "  if (not isinstance(ngram_size, int)) or (not isinstance(ngram_stride, int)) or (threshold >= 1):\n",
        "    raise Exception(\"Error, incorrect parameters for fasttext_subreport:\\n- N-Gram size: {} (should be int [1;~])\\n- Stride: {} (should be int [1;~])\\n- Threshold: {} (should be float [.0;1.0[)\".format(ngram_size, ngram_stride, threshold))\n",
        "  if (len(max(suspect_shingles.values(), key=len)) > 400) or (len(max(candidate_shingles.values(), key=len)) > 400):\n",
        "    raise Exception(\"Error, one or more input shingles is too large for Fasttext to parse\")\n",
        "\n",
        "  try: #To check for Fasttext loading\n",
        "    ft_model.get_sentence_vector(\"Loading Fasttext\")\n",
        "  except:\n",
        "    raise Exception(\"Fasttext model is not loaded\")\n",
        "\n",
        "  suspect_features = extract_fasttext_features(suspect_shingles, ft)\n",
        "  candidate_features = extract_fasttext_features(candidate_shingles, ft)\n",
        "\n",
        "  matrix = fasttext_pairwise_cosine_distance(suspect_features, candidate_features)\n",
        "  mask = np.where(matrix < threshold)\n",
        "\n",
        "  if print_matrix:\n",
        "    print_pairwise_matrix(matrix)\n",
        "  PAIRS = []\n",
        "  for x, y in zip(mask[0], mask[1]):\n",
        "    if x in suspect_pos_semantic:\n",
        "      pair = {\n",
        "          'suspect_pos': x,\n",
        "          'suspect_text': suspect_shingles[x],\n",
        "          'candidate_pos': y,\n",
        "          'candidate_text': candidate_shingles[y],\n",
        "          'cosine_distance': matrix[x][y]\n",
        "      }\n",
        "      PAIRS.append(pair)\n",
        "\n",
        "  _pairs = [(pair['suspect_pos'], pair['candidate_pos']) for pair in PAIRS]\n",
        "  INSTANCES, percentage, granularity = aggregate_typical_subreport(_pairs, suspect_shingles, candidate_shingles, suspect_text_length,  plag_type = PlagType.SEMANT, skip_stride=True)\n",
        "  PARAMETERS = {'n-gram_size': ngram_size, 'n-gram_stride': ngram_stride, 'threshold': threshold, 'percentage': percentage, 'granularity': granularity}\n",
        "\n",
        "  return PARAMETERS, INSTANCES"
      ],
      "execution_count": 57,
      "outputs": []
    },
    {
      "cell_type": "markdown",
      "metadata": {
        "id": "1FngkdluGcnI"
      },
      "source": [
        "Loading a Fasttext model"
      ]
    },
    {
      "cell_type": "code",
      "metadata": {
        "id": "hV-FVXcYGe-d"
      },
      "source": [
        "path = '/content/cc.en.300.bin'\n",
        "try: \n",
        "  ft.get_sentence_vector(\"Loading Fasttext\")\n",
        "except:\n",
        "  ic(\"Loading Fasttext\")\n",
        "  ft = fasttext.load_model(path)"
      ],
      "execution_count": null,
      "outputs": []
    },
    {
      "cell_type": "markdown",
      "metadata": {
        "id": "Y2kiA3bIDglY"
      },
      "source": [
        "Calling"
      ]
    },
    {
      "cell_type": "code",
      "metadata": {
        "id": "azJNAwtRGqkO"
      },
      "source": [
        "suspect_pos_semantic = [x['suspect_pos'] for x in pairs_semantic]\n",
        "suspect_shingles_semantic = {x: suspect_shingles[x] for x in suspect_pos_semantic}\n",
        "FASTTEXT_THRESHOLD"
      ],
      "execution_count": null,
      "outputs": []
    },
    {
      "cell_type": "code",
      "metadata": {
        "id": "84ZRpoCENrs5",
        "colab": {
          "base_uri": "https://localhost:8080/"
        },
        "outputId": "85e88758-0168-47eb-e732-a8a37098340f"
      },
      "source": [
        "%%time\n",
        "%memit params, instances = fasttext_subreport(suspect_shingles, candidate_shingles, suspect_pos_semantic, suspect_text_length, ft_model=ft, threshold = FASTTEXT_THRESHOLD, print_matrix=False)"
      ],
      "execution_count": null,
      "outputs": [
        {
          "output_type": "stream",
          "text": [
            "ic| 'SUBSTITUTE COMPREHENSION WITH GENERATORS'\n",
            "ic| \"PATCH ME, I AM NOT OPTIMIZED, I EXCLUDE ALREADY DETECTED SHINGLES AFTER MATRIX CALCULATION\": ('PATCH ME, I AM NOT OPTIMIZED, I EXCLUDE ALREADY DETECTED SHINGLES AFTER '\n",
            "                                                                                                   'MATRIX CALCULATION')\n",
            "ic| 'got suspect features'\n",
            "ic| 'got candidate features'\n",
            "ic| 'got matrix'\n",
            "ic| 'got pairs'\n",
            "ic| 'found overlap'\n",
            "ic| instances_length: 10487\n",
            "ic| 'aggregated report'\n"
          ],
          "name": "stderr"
        },
        {
          "output_type": "stream",
          "text": [
            "Detected percentage = 99.97% (text = 10490 & detected = 10487)\n",
            "peak memory: 8323.24 MiB, increment: 0.77 MiB\n",
            "CPU times: user 23.2 s, sys: 670 ms, total: 23.9 s\n",
            "Wall time: 23.6 s\n"
          ],
          "name": "stdout"
        }
      ]
    },
    {
      "cell_type": "code",
      "metadata": {
        "colab": {
          "base_uri": "https://localhost:8080/"
        },
        "id": "ZLjNv1N5N0UJ",
        "outputId": "07666050-6430-4a69-d65c-b274bdfc9de3"
      },
      "source": [
        "ic(pairs_semantic[:2])\n",
        "ic(len(suspect_shingles))\n",
        "ic(len(instances))"
      ],
      "execution_count": null,
      "outputs": [
        {
          "output_type": "stream",
          "text": [
            "ic| pairs_semantic[:2]: [{'candidate_pos': 1, 'jaccard_distance': 0.75, 'suspect_pos': 0},\n",
            "                         {'candidate_pos': 8, 'jaccard_distance': 0.6956521739130435, 'suspect_pos': 0}]\n",
            "ic| len(suspect_shingles): 155\n",
            "ic| len(instances): 13\n"
          ],
          "name": "stderr"
        },
        {
          "output_type": "execute_result",
          "data": {
            "text/plain": [
              "13"
            ]
          },
          "metadata": {
            "tags": []
          },
          "execution_count": 47
        }
      ]
    },
    {
      "cell_type": "code",
      "metadata": {
        "id": "UxqbaobLK-Kz"
      },
      "source": [
        "portions"
      ],
      "execution_count": null,
      "outputs": []
    },
    {
      "cell_type": "markdown",
      "metadata": {
        "id": "VEcZ2vHYDgHf"
      },
      "source": [
        "Benchmarking Threshold"
      ]
    },
    {
      "cell_type": "code",
      "metadata": {
        "id": "w1MKhQcSGhwT"
      },
      "source": [
        "thresholds = np.arange(.02, .16, 0.01)\n",
        "PERCENTAGES = []\n",
        "for threshold in thresholds:\n",
        "  thresh = round(threshold, 2)\n",
        "  pairs, params, portions = fasttext_global_report(samp_suspect[1], samp_candidate[0], ft_model=ft, threshold=thresh)\n",
        "  item = {\n",
        "      'threshold': thresh,\n",
        "      'percentage': params['percentage'],\n",
        "      'shingles': params['number_of_shingles']\n",
        "  }\n",
        "  PERCENTAGES.append(item)"
      ],
      "execution_count": null,
      "outputs": []
    },
    {
      "cell_type": "markdown",
      "metadata": {
        "id": "E0NNVQCuiIQg"
      },
      "source": [
        "##GridSearch for Hyperparameters selection"
      ]
    },
    {
      "cell_type": "markdown",
      "metadata": {
        "id": "hm8BrIip9wPO"
      },
      "source": [
        "#Union Hangar"
      ]
    },
    {
      "cell_type": "code",
      "metadata": {
        "id": "8oIOyS6YKmix"
      },
      "source": [
        "NGRAM_SIZE_SHINGLES = 15\n",
        "STRIDE_SHINGLES = 7\n",
        "SKIP_TOLERANCE = int(NGRAM_SIZE_SHINGLES/STRIDE_SHINGLES)\n",
        "\n",
        "JACCARD_THRESHOLD = 0.25\n",
        "SEMANTIC_THRESHOLD = 0.99\n",
        "FASTTEXT_THRESHOLD = 0.11"
      ],
      "execution_count": 35,
      "outputs": []
    },
    {
      "cell_type": "code",
      "metadata": {
        "id": "DEql3bwAAC6Y"
      },
      "source": [
        "def calculate_suspect_length_from_ranges(ranges: List[Tuple[int, int]], ngram_size: int=NGRAM_SIZE_SHINGLES, ngram_stride: int=STRIDE_SHINGLES):\n",
        "  #exclude all overlapping & duplicate ranges\n",
        "  suspect_ranges = list(dict.fromkeys(ranges)) #eliminating duplicates\n",
        "\n",
        "  suspect_ranges = merge_score_ranges(suspect_ranges)\n",
        "  total_length = 0\n",
        "  for range in suspect_ranges:\n",
        "    number_strides = range[1] - range[0]\n",
        "    length = ngram_size + ngram_stride*number_strides\n",
        "    total_length += length\n",
        "  return total_length"
      ],
      "execution_count": 144,
      "outputs": []
    },
    {
      "cell_type": "code",
      "metadata": {
        "id": "bqCxEyhH8Rn7"
      },
      "source": [
        "def aggregate_typical_subreport(suspect_candidate_pairs_positions, suspect_shingles, candidate_shingles, suspect_text_length:int, plag_type:PlagType, skip_stride=True, ngram_stride=7, ngram_size=15):\n",
        "    '''\n",
        "    Calculate total detected percentage after reducing granularity\n",
        "      {suspect_candidate_pairs_positions} list of pair positions (sus, can) of the highlighted shingles from suspect and candidate\n",
        "      {suspect_shingles, candidate_shingles} complete list of shingles of the source texts (not just the highlighted ones)\n",
        "      {skip_stride} since shingles overlap, this options will force to combine non consecutive shingles that are close enough, eith distance <= ngram_size/ngram_stride\n",
        "                If false, only true consecutive shingles will be combined (may increase granularity)\n",
        "      {ngram_size} as defined for [shingles] function\n",
        "      {ngram_stride} as defined for [shingles] function\n",
        "      {exclude_single_ngrams} to exclude single orphans if ngrams size is small enough (SMALL_NGRAM_THRESHOLD_COMMON_SUBSTRING)\n",
        "      {source_text_length} length of the original text (not shingled)\n",
        "\n",
        "    -----\n",
        "    %output: \n",
        "      1- array of {position_range:(start, end), passage:str}\n",
        "      2- total size of the passages (for percentage calculation, will be removed)\n",
        "    '''\n",
        "    #unique_positions = list(dict.fromkeys(highlighted_shingles_positions))\n",
        "\n",
        "    instances, granularity = merge_shingles(suspect_candidate_pairs_positions, suspect_shingles, candidate_shingles, plag_type = plag_type, skip_stride=skip_stride, ngram_stride=ngram_stride, ngram_size=ngram_size)\n",
        "    \n",
        "    highlighted_suspect_ranges = [instance.posrange_suspect for instance in instances] #extracting suspect ranges only \n",
        "    highlighted_suspect_length = calculate_suspect_length_from_ranges(highlighted_suspect_ranges)\n",
        "    \n",
        "    score = round(100*highlighted_suspect_length/suspect_text_length, 2)\n",
        "\n",
        "    print(\"Detected percentage = {}% (text = {} & detected = {})\".format(score, suspect_text_length, highlighted_suspect_length))\n",
        "\n",
        "    return instances, score, granularity\n",
        "\n",
        "#-------------------------"
      ],
      "execution_count": 133,
      "outputs": []
    },
    {
      "cell_type": "code",
      "metadata": {
        "id": "7OqAxVfK8gLH"
      },
      "source": [
        "#Working on (this is the code down there)\n",
        "def detect_plag_subreport(suspect_text, candidate_text, ft):\n",
        "  '''Super Caller function for fastText & Jaccard subreporting for a single candidate/suspect pair.'''\n",
        "  \"Code starter in used to call Jaccard\"\n",
        "  ic(\"use suspect and candidate file structures instead of fulltext (suspect also contains language, which removes the need to test it again each time)\")\n",
        "  ic(\"FEED ME PRELOADED MODEL\")\n",
        "  #pre_processing\n",
        "  suspect_shingles = shingles(suspect_text, ngram_size=15, stride=7)\n",
        "  candidate_shingles = shingles(candidate_text, ngram_size=15, stride=7)\n",
        "\n",
        "  #detect language\n",
        "  suspect_text_length = len(re.findall(r'\\w+', suspect_text))\n",
        "  suspect_language = detect_language(suspect_text)\n",
        "\n",
        "  #jaccard_report\n",
        "  ic(\"=========================== Jaccard\")\n",
        "  params_jaccard, instances_jaccard, pairs_semantic = jaccard_subreport(suspect_shingles, candidate_shingles, suspect_text_length, threshold = JACCARD_THRESHOLD, threshold_semant=SEMANTIC_THRESHOLD)\n",
        "\n",
        "  ic(\"=========================== fastText\")\n",
        "  suspect_pos_semantic = [x['suspect_pos'] for x in pairs_semantic]\n",
        "  #suspect_shingles_semantic = {x: suspect_shingles[x] for x in suspect_pos_semantic}\n",
        "  params_fasttext, instances_fasttext = fasttext_subreport(suspect_shingles, candidate_shingles, suspect_pos_semantic, suspect_text_length, ft_model=ft, threshold = FASTTEXT_THRESHOLD, print_matrix=False)\n",
        "\n",
        "  #fasttext_report = \n",
        "  #def combined_subreport(suspect_file, candidate_file, params)\n",
        "  "
      ],
      "execution_count": null,
      "outputs": []
    },
    {
      "cell_type": "code",
      "metadata": {
        "id": "hkMgnP-eKGz2",
        "colab": {
          "base_uri": "https://localhost:8080/"
        },
        "outputId": "6be3656e-ddca-4dc4-fd7c-af3e0acecc78"
      },
      "source": [
        "  suspect_text = samp_suspect_long[0]\n",
        "  candidate_text = samp_candidate_long[0]\n",
        "  \n",
        "\n",
        "  path = '/content/cc.en.300.bin'\n",
        "  try: \n",
        "    ft.get_sentence_vector(\"Loading Fasttext\")\n",
        "  except:\n",
        "    ic(\"Loading Fasttext\")\n",
        "    try:\n",
        "      ft = fasttext.load_model(path)\n",
        "    except:\n",
        "      raise Exception(f\"Error loading fastText model for language {'fr'}\")\n",
        "\n",
        "  '''Super Caller function for fastText & Jaccard subreporting for a single candidate/suspect pair.'''\n",
        "  \"Code starter in used to call Jaccard\"\n",
        "  ic(\"use suspect and candidate file structures instead of fulltext (suspect also contains language, which removes the need to test it again each time)\")\n",
        "  ic(\"FEED ME PRELOADED MODEL\")\n",
        "  #pre_processing\n",
        "  suspect_shingles = shingles(suspect_text, ngram_size=15, stride=7)\n",
        "  candidate_shingles = shingles(candidate_text, ngram_size=15, stride=7)\n",
        "\n",
        "  #detect language\n",
        "  suspect_text_length = len(re.findall(r'\\w+', suspect_text))\n",
        "  suspect_language = detect_language(suspect_text)\n",
        "  ic(suspect_language)\n",
        "\n",
        "  #jaccard_subreport\n",
        "  ic(\"=========================== Jaccard\")\n",
        "  params_syntact, instances_syntact, pairs_semantic = jaccard_subreport(suspect_shingles, candidate_shingles, suspect_text_length, threshold = JACCARD_THRESHOLD, threshold_semant=SEMANTIC_THRESHOLD)\n",
        "\n",
        "  #fasttext_subreport\n",
        "  ic(\"=========================== fastText\")\n",
        "  suspect_pos_semantic = [x['suspect_pos'] for x in pairs_semantic]\n",
        "  suspect_pos_semantic = list(dict.fromkeys(suspect_pos_semantic)) #to remove duplicates\n",
        "  #suspect_pos_semantic = [x for x in range(2500)]\n",
        "  #suspect_shingles_semantic = {x: suspect_shingles[x] for x in suspect_pos_semantic}\n",
        "  params_semant, instances_semant = fasttext_subreport(suspect_shingles, candidate_shingles, suspect_pos_semantic, suspect_text_length, ft_model=ft, threshold = FASTTEXT_THRESHOLD, print_matrix=False)\n",
        "\n",
        "\n",
        "  #merge the two instances to have a single global score\n",
        "  instances = instances_semant + instances_syntact\n",
        "  instances = sorted(instances, key = lambda i: i.posrange_suspect[0])\n",
        "\n",
        "  ranges = [x.posrange_suspect for x in instances]\n",
        "\n",
        "  total_suspect_highlighted_length = calculate_suspect_length_from_ranges(ranges)\n",
        "  global_score = round(100*total_suspect_highlighted_length/suspect_text_length, 2)\n",
        "  semant_score = params_semant['percentage']\n",
        "  syntact_score = params_syntact['percentage']\n",
        "\n",
        "  detection_scores = DetectionScores(syntact_score, semant_score, global_score)\n",
        "  #merge the sub reports into a single subreport \n",
        "  ic(detection_scores)"
      ],
      "execution_count": 152,
      "outputs": [
        {
          "output_type": "stream",
          "text": [
            "ic| \"use suspect and candidate file structures instead of fulltext (suspect also contains language, which removes the need to test it again each time)\": ('use suspect and candidate file structures instead of fulltext (suspect also '\n",
            "                                                                                                                                                          'contains language, which removes the need to test it again each time)')\n",
            "ic| 'FEED ME PRELOADED MODEL'\n",
            "ic| suspect_language: <Language.ENGLISH: 'en'>\n",
            "ic| '=========================== Jaccard'\n",
            "ic| 'GIVE UNIQUE SUS POSITIONS THAT ARE LEFT INSTEAD OF PAIRS'\n",
            "ic| 'EXCLUDE SINGLE SUSPECT SHINGLES THAT APPEAR IN ANOTHER RANGE'\n",
            "ic| '=========================== fastText'\n"
          ],
          "name": "stderr"
        },
        {
          "output_type": "stream",
          "text": [
            "Detected percentage = 7.7% (text = 10490 & detected = 808)\n"
          ],
          "name": "stdout"
        },
        {
          "output_type": "stream",
          "text": [
            "ic| 'SUBSTITUTE COMPREHENSION WITH GENERATORS'\n",
            "ic| \"PATCH ME, I AM NOT OPTIMIZED, I EXCLUDE ALREADY DETECTED SHINGLES AFTER MATRIX CALCULATION\": ('PATCH ME, I AM NOT OPTIMIZED, I EXCLUDE ALREADY DETECTED SHINGLES AFTER '\n",
            "                                                                                                   'MATRIX CALCULATION')\n",
            "ic| 'EXCLUDE SINGLE SUSPECT SHINGLES THAT APPEAR IN ANOTHER RANGE'\n",
            "ic| 'found overlap'\n",
            "ic| detection_scores: DetectionScores(syntac_score=7.7, semant_score=93.63, global_score=94.47)\n"
          ],
          "name": "stderr"
        },
        {
          "output_type": "stream",
          "text": [
            "Detected percentage = 93.63% (text = 10490 & detected = 9822)\n"
          ],
          "name": "stdout"
        },
        {
          "output_type": "execute_result",
          "data": {
            "text/plain": [
              "DetectionScores(syntac_score=7.7, semant_score=93.63, global_score=94.47)"
            ]
          },
          "metadata": {
            "tags": []
          },
          "execution_count": 152
        }
      ]
    },
    {
      "cell_type": "code",
      "metadata": {
        "id": "8zMyrrpX9eFU"
      },
      "source": [
        "def checkstate_merge_score_ranges(ranges: List[Tuple[int, int]])-> bool:\n",
        "  for i in range(len(ranges) - 1):\n",
        "    range_sus = ranges[i]\n",
        "    range_sus_next = ranges[i+1]\n",
        "    if (range_sus[1] >= range_sus_next[0]):\n",
        "      return True\n",
        "  return False\n",
        "\n",
        "#merge_ranges_overlap\n",
        "def merge_score_ranges(ranges: List[Tuple[int, int]])-> List[Tuple[int, int]]:\n",
        "  if len(ranges) > 1:\n",
        "    \n",
        "    non_overlaping_ranges = []\n",
        "    i = 0\n",
        "    while i in range(len(ranges) - 1):\n",
        "      range_sus = ranges[i]\n",
        "      range_sus_next = ranges[i+1]\n",
        "      if (range_sus[1] >= range_sus_next[0]):\n",
        "        new_range_sus = (min(range_sus[0], range_sus_next[0]), max(range_sus[1], range_sus_next[1]))\n",
        "        non_overlaping_ranges.append(new_range_sus)\n",
        "        i += 1 #skip next element because it was merged\n",
        "      else:\n",
        "        non_overlaping_ranges.append(range_sus)\n",
        "        if i == len(ranges) - 2: #to deal with last element\n",
        "          non_overlaping_ranges.append(range_sus_next)\n",
        "      i += 1\n",
        "    if checkstate_merge_score_ranges(non_overlaping_ranges):\n",
        "      non_overlaping_ranges = merge_score_ranges(non_overlaping_ranges)\n",
        "    return non_overlaping_ranges\n",
        "  else:\n",
        "    return ranges"
      ],
      "execution_count": 130,
      "outputs": []
    },
    {
      "cell_type": "code",
      "metadata": {
        "id": "C73PXAmP8eYR"
      },
      "source": [
        "def merge_syntac_semant_instances(syntac_instances:List[PlagInstance], semant_instances:List[PlagInstance]) -> List[PlagInstance]:\n",
        "  '''Aggregate instances from the typical subreports\n",
        "  Merge everything\n",
        "  May call the aggregate_typical_scores func or do its job in here'''\n",
        "\n",
        "  #start with semantic instances, fix them as the baseline and consider that everything that is syntactic, is also sematically detected\n",
        "  #break the semantic instances to leave only ranges that do not overlap with syntactical ones\n",
        "\n",
        "  \n",
        "  ..."
      ],
      "execution_count": null,
      "outputs": []
    },
    {
      "cell_type": "code",
      "metadata": {
        "id": "gKZztETeKXbh"
      },
      "source": [
        "@dataclass(frozen=True)\n",
        "class PlagInstance:\n",
        "  posrange_suspect: (int, int)\n",
        "  posrange_candidate: (int, int)\n",
        "  passsage_suspect: str\n",
        "  passsage_candidate: str\n",
        "  plag_type: PlagType\n",
        "\n",
        "@dataclass(frozen=True)\n",
        "class CanSource:\n",
        "  can_name: str\n",
        "  can_url: str\n",
        "  can_id: str\n",
        "  can_type: CanType \n",
        "  can_fulltext: str\n",
        "\n",
        "@dataclass(frozen=True)\n",
        "class Suspect:\n",
        "  sus_name: str\n",
        "  sus_id: str\n",
        "  sus_lang: Language\n",
        "  sus_fulltext: str"
      ],
      "execution_count": null,
      "outputs": []
    },
    {
      "cell_type": "code",
      "metadata": {
        "id": "A9CIo3W6KzaX",
        "colab": {
          "base_uri": "https://localhost:8080/"
        },
        "outputId": "587a45a3-0fdb-4ef7-b02b-15776323ddf8"
      },
      "source": [
        "#testing ranges merging\n",
        "semantics = [PlagInstance(posrange_suspect=(0, 18), posrange_candidate=(0, 17), passsage_suspect='the significance of export platform fdi is reported in a think about by hanson', passsage_candidate='the significance of export platform fdi is reported in a think about by hanson', plag_type=PlagType.SEMANT),\n",
        "PlagInstance(posrange_suspect=(24, 74), posrange_candidate=(23, 71), passsage_suspect='time required to reach the center lesson the promoting of extravagance has contributed altogether', passsage_candidate='the significance of export platform fdi is reported in a think about by hanson', plag_type=PlagType.SEMANT)]\n",
        "\n",
        "syntactics = [PlagInstance(posrange_suspect=(3, 9), posrange_candidate=(0, 17), passsage_suspect='the significance of export platform fdi is reported in a think about by hanson', passsage_candidate='the significance of export platform fdi is reported in a think about by hanson', plag_type=PlagType.SYNTACT),\n",
        "PlagInstance(posrange_suspect=(27, 76), posrange_candidate=(23, 71), passsage_suspect='time required to reach the center lesson the promoting of extravagance has contributed altogether', passsage_candidate='the significance of export platform fdi is reported in a think about by hanson', plag_type=PlagType.SYNTACT)]\n",
        "\n",
        "instances = semantics + syntactics\n",
        "ic(instances[3].posrange_suspect[0])\n",
        "\n",
        "instances = ic(sorted(instances, key = lambda i: i.posrange_suspect[0]))\n",
        "ranges = [(x.posrange_suspect, x.posrange_candidate) for x in instances]\n",
        "ranges\n",
        "\n",
        "\n",
        "ranges = merge_ranges(ranges)\n",
        "ranges\n"
      ],
      "execution_count": null,
      "outputs": [
        {
          "output_type": "stream",
          "text": [
            "ic| instances[3].posrange_suspect[0]: 27\n",
            "ic| sorted(instances, key = lambda i: i.posrange_suspect[0]): [PlagInstance(posrange_suspect=(0, 18), posrange_candidate=(0, 17), passsage_suspect='the significance of export platform fdi is reported in a think about by hanson', passsage_candidate='the significance of export platform fdi is reported in a think about by hanson', plag_type=<PlagType.SEMANT: 2>),\n",
            "                                                               PlagInstance(posrange_suspect=(3, 9), posrange_candidate=(0, 17), passsage_suspect='the significance of export platform fdi is reported in a think about by hanson', passsage_candidate='the significance of export platform fdi is reported in a think about by hanson', plag_type=<PlagType.SYNTACT: 0>),\n",
            "                                                               PlagInstance(posrange_suspect=(24, 74), posrange_candidate=(23, 71), passsage_suspect='time required to reach the center lesson the promoting of extravagance has contributed altogether', passsage_candidate='the significance of export platform fdi is reported in a think about by hanson', plag_type=<PlagType.SEMANT: 2>),\n",
            "                                                               PlagInstance(posrange_suspect=(27, 76), posrange_candidate=(23, 71), passsage_suspect='time required to reach the center lesson the promoting of extravagance has contributed altogether', passsage_candidate='the significance of export platform fdi is reported in a think about by hanson', plag_type=<PlagType.SYNTACT: 0>)]\n"
          ],
          "name": "stderr"
        },
        {
          "output_type": "execute_result",
          "data": {
            "text/plain": [
              "[((0, 18), (0, 17)), ((24, 76), (23, 71))]"
            ]
          },
          "metadata": {
            "tags": []
          },
          "execution_count": 99
        }
      ]
    },
    {
      "cell_type": "markdown",
      "metadata": {
        "id": "P_93wpeM-HYD"
      },
      "source": [
        "## Report outputing & % counting"
      ]
    },
    {
      "cell_type": "markdown",
      "metadata": {
        "id": "q0F62iJc94oV"
      },
      "source": [
        "#Streamlit Serving"
      ]
    },
    {
      "cell_type": "code",
      "metadata": {
        "colab": {
          "base_uri": "https://localhost:8080/"
        },
        "id": "1fYQfI6r9YNL",
        "outputId": "9f2cdc57-2b08-4791-a753-09fde7a6412e"
      },
      "source": [
        "#GridSearch benchmarking\n",
        "from itertools import product\n",
        "a = ['a', 'b', 'c']\n",
        "one = [1, 2, 3]\n",
        "d = ['d', 'e', 'f']\n",
        "\n",
        "for x, y, z in product(a, one, d):\n",
        "  print(x, y, z)\n"
      ],
      "execution_count": null,
      "outputs": [
        {
          "output_type": "stream",
          "text": [
            "a 1 d\n",
            "a 1 e\n",
            "a 1 f\n",
            "a 2 d\n",
            "a 2 e\n",
            "a 2 f\n",
            "a 3 d\n",
            "a 3 e\n",
            "a 3 f\n",
            "b 1 d\n",
            "b 1 e\n",
            "b 1 f\n",
            "b 2 d\n",
            "b 2 e\n",
            "b 2 f\n",
            "b 3 d\n",
            "b 3 e\n",
            "b 3 f\n",
            "c 1 d\n",
            "c 1 e\n",
            "c 1 f\n",
            "c 2 d\n",
            "c 2 e\n",
            "c 2 f\n",
            "c 3 d\n",
            "c 3 e\n",
            "c 3 f\n"
          ],
          "name": "stdout"
        }
      ]
    },
    {
      "cell_type": "markdown",
      "metadata": {
        "id": "WDnTooAoVjpl"
      },
      "source": [
        "#Legacy code"
      ]
    },
    {
      "cell_type": "code",
      "metadata": {
        "id": "tijmKsOdDYBE"
      },
      "source": [
        "@dataclass(frozen=True)\n",
        "class DetectionScores:\n",
        "  \"\"\"\n",
        "  A class to hold detection scores registered after a comparison operation with a single candidate, or the aggregation of multiple reports.\n",
        "  \n",
        "  Attributes:\n",
        "      syntac_score:\n",
        "          Global syntactic similarity between suspect file and candidates (one if SubReport, multiple if PlagReport)\n",
        "          syntac_score = size(suspect text) / sum(size (suspect segments that appear as a member in pairs with Jaccard similarity < threshold))\n",
        "      semant_score:\n",
        "          Global semantic similarity between suspect file and candidates (one if SubReport, multiple if PlagReport)\n",
        "          semant_score= size(suspect text) / sum(size (suspect segments that appear as a member in pairs with FastText cosine similarity < threshold))\n",
        "      global_score:\n",
        "          Global similarity, calculated as sum of syntac_score + semant_score\n",
        "  \"\"\"\n",
        "  syntac_score: float\n",
        "  semant_score:float\n",
        "  global_score: float = field(init=False)\n",
        "  def __post_init__(self):\n",
        "    object.__setattr__(self, 'global_score', (self.syntac_score + self.semant_score))"
      ],
      "execution_count": null,
      "outputs": []
    },
    {
      "cell_type": "code",
      "metadata": {
        "id": "X9U_I5o8Vlzv"
      },
      "source": [
        "def fuse_consecutive_shingles(positions:List[int], text_shingles, skip_stride=True, ngram_stride:int=7, ngram_size:int=15):\n",
        "  #TRANSFORM ME FOR BOTH SUSPECT AND CANDIDATE OR GENERALIZE ME AND USE ME TWICE\n",
        "  '''\n",
        "  Parse and combine consecutive highlighted shingles based on their position in the source text\n",
        "  {positions} list of positions of the highlighted shingles\n",
        "  {text_shingles} complete list of shingles of the source text (not just the highlighted ones)\n",
        "  {skip_stride} since shingles overlap, this options will force to combine non consecutive shingles that are close enough, eith distance <= ngram_size/ngram_stride\n",
        "                If false, only true consecutive shingles will be combined (may increase granularity)\n",
        "  {ngram_size} as defined for [shingles] function\n",
        "  {ngram_stride} as defined for [shingles] function\n",
        "  -----\n",
        "  %output: \n",
        "  1- array of {position_range:(start, end), passage:str}\n",
        "  2- total size of the passages (for percentage calculation, will be removed)\n",
        "  '''\n",
        "  #build chains of consecutive, or forgivingly consecutive shingles\n",
        "  cpt = 0\n",
        "  suites = defaultdict(list)\n",
        "  cache = dict()\n",
        "  for i in positions:\n",
        "    if (i-1) in positions:\n",
        "      #print(\"Flush\")\n",
        "      index = cache[i-1]\n",
        "      suites[index].append(i)\n",
        "      cache[i] = index\n",
        "    elif skip_stride and any(x in positions for x in range(i-int(ngram_size/ngram_stride), i-1)): #if word in between was modified, combine suites if single word is missing (i.e if distance == STRIDE)\n",
        "      #print(\"Close Flush\")\n",
        "      for x in range(i-ngram_stride, i-1): #to find which one satisfied the condition first (smaller)\n",
        "        if x in positions:\n",
        "          index = cache[x]\n",
        "          suites[index].append(i)\n",
        "          cache[i] = index\n",
        "          break\n",
        "    else:\n",
        "      suites[cpt].append(i)\n",
        "      cache[i] = cpt\n",
        "      cpt += 1\n",
        "    #transform back into text\n",
        "  result = []\n",
        "  total_size = 0\n",
        "  for suite in suites.values():\n",
        "    pos = (suite[0], suite[-1])\n",
        "    pos_range = [y for y in range(pos[0]+1,pos[1]+1)]\n",
        "    passage = text_shingles[suite[0]]\n",
        "    \n",
        "    #adding only the last word of the shingle, regardless of stride size\n",
        "    passage += \" \" + \" \".join(\" \".join(text_shingles[x].split()[-ngram_stride:]) for x in pos_range)\n",
        "\n",
        "    item = {\n",
        "        'passage_suspect': passage,\n",
        "        'pos_suspect': (suite[0], suite[-1]),\n",
        "    }\n",
        "    result.append(item)\n",
        "    total_size += len(re.findall(r'\\w+', passage))\n",
        "    #ic(suite, len(passage), total_size, passage)\n",
        "  return result, total_size"
      ],
      "execution_count": null,
      "outputs": []
    },
    {
      "cell_type": "code",
      "metadata": {
        "id": "S1HdagMUVsl_"
      },
      "source": [
        "  def aggregate_report(highlighted_shingles_positions, input_shingles, source_text_length:int, skip_stride=True, ngram_stride=7, ngram_size=15):\n",
        "    '''\n",
        "    Calculate total detected percentage after reducing granularity\n",
        "    {highlighted_shingles_positions} array of int, list of postions\n",
        "    {input_shingles} as defined for [shingles] function\n",
        "    {source_text_length} length of the original text (not shingled)\n",
        "    {skip_stride} as defined for [fuse_consecutive_shingles] function\n",
        "    {ngram_size} as defined for [shingles] function\n",
        "    {ngram_stride} as defined for [shingles] function\n",
        "    -----\n",
        "    %output: \n",
        "    1- array of {position_range:(start, end), passage:str}\n",
        "    2- total size of the passages (for percentage calculation, will be removed)\n",
        "    '''\n",
        "    unique_positions = list(dict.fromkeys(highlighted_shingles_positions))\n",
        "    \n",
        "    passages, passages_length = fuse_consecutive_shingles(unique_positions, input_shingles, skip_stride=skip_stride, ngram_stride=ngram_stride, ngram_size=ngram_size)\n",
        "    \n",
        "    percentage = (float(passages_length)/source_text_length) * 100\n",
        "    percentage = round(percentage, 2)\n",
        "    \n",
        "    print(\"Detected percentage = {}% (text = {} & detected = {})\".format(percentage, source_text_length, passages_length))\n",
        "\n",
        "    return percentage, passages, len(unique_positions)"
      ],
      "execution_count": null,
      "outputs": []
    },
    {
      "cell_type": "markdown",
      "metadata": {
        "id": "JN4S9JSFKgFE"
      },
      "source": [
        "#To-Do"
      ]
    },
    {
      "cell_type": "code",
      "metadata": {
        "id": "QizMxzgdKKFk"
      },
      "source": [
        "def aggregate_scores(self, subreports: List[SubReport]) -> DetectionScores:\n",
        "  '''\n",
        "  Calculate global similarity scores based on sub-reports scores.\n",
        "\n",
        "  If a passage appears in both a semantic and syntactic comparison, priority is for syntactic (until user excludes a source).\n",
        "\n",
        "  :param subreports: list of all subreports that were generated by comparing suspect file to all candidate files.\n",
        "  :returns: a DetectionScores unit similar to those in subreports, but is an aggregation of all of them.\n",
        "  :raises keyError: raises an exception\n",
        "  '''\n",
        "  ic(\"FIX ME I'M UNCOMPLETE AND SHOULD AGGREGATE BASED ON OVERLAP BETWEEN CANDIDATES TOO\")\n",
        "  #%%%%%%%%%%%%%%%&&&&&&&&&&&&&&&&%%%%%%%%%%%%%%%&&&&&&&&&&&&&&&&%%%%%%%%%%%%%%%&&&&&&&&&&&&&&&&\n",
        "  syntac_scores = [x.scores.syntac_score for x in subreports]\n",
        "  global_syntac_score = sum(syntac_scores)\n",
        "\n",
        "  semant_scores = [x.scores.semant_score for x in subreports]\n",
        "  global_semant_score = sum(semant_scores)\n",
        "\n",
        "  scores = DetectionScores(global_syntac_score, global_semant_score)\n",
        "  return scores"
      ],
      "execution_count": 15,
      "outputs": []
    },
    {
      "cell_type": "code",
      "metadata": {
        "id": "TrLgA8sAKhiZ"
      },
      "source": [
        "\n",
        "\n",
        "\n",
        "def calculate_subreport_score():\n",
        "  ...\n",
        "def from_shingle_ranges_to_text_offsets():\n",
        "  ...\n",
        "def aggregate_typical_detection_scores(syntac_instances: List[PlagInstance], semant_instances: List[PlagInstance]):\n",
        "  '''Logically aggegate detection scores from typical subreports. Give priority to syntactic similarity.'''\n",
        "  ...\n",
        "def aggregate_detection_scores(scores: List[DetectionScores]):\n",
        "  '''Logically aggegate detection scores across all subreports. should be soft and not delete any instances or subreports score as the need to recalculate scores with a different set of scores may arise'''\n",
        "  ...\n",
        "\n",
        "def aggregate_typical_report():\n",
        "  '''Combine Jaccard + fastText reports'''\n",
        "  ...\n",
        "\n",
        "\n",
        "def detect_plag_report():\n",
        "  '''Aggregate detect_plag_subreports into a single report'''\n",
        "def preprocess_stopwords(shingle: str):\n",
        "  '''Removes stopwords from a single string'''\n",
        "  ...\n",
        "\n",
        "def load_ft_model(language: Language):\n",
        "  ...\n",
        "\n",
        "def jsonify_report():\n",
        "  ...\n",
        "\n",
        "def scrape_webpage(url: str) -> str:\n",
        "  ...\n"
      ],
      "execution_count": null,
      "outputs": []
    },
    {
      "cell_type": "code",
      "metadata": {
        "id": "xbfI7LJHLAnx"
      },
      "source": [
        "\n"
      ],
      "execution_count": null,
      "outputs": []
    },
    {
      "cell_type": "code",
      "metadata": {
        "id": "Z2zs3s9A5OWf"
      },
      "source": [
        ""
      ],
      "execution_count": null,
      "outputs": []
    }
  ]
}